{
 "cells": [
  {
   "cell_type": "markdown",
   "id": "16438472-9cf6-4d29-bec2-56062829d336",
   "metadata": {},
   "source": [
    "## Descriptive Statistics\n",
    "\n",
    "### Mean, Median, Mode\n",
    "\n",
    "**Concepts:**\n",
    "\n",
    "- **Mean**: The average of a dataset. It's the sum of all values divided by the number of values.\n",
    "- **Median**: The middle value when the data is ordered. If there's an even number of observations, the median is the average of the two middle numbers.\n",
    "- **Mode**: The value that appears most frequently in a dataset.\n",
    "\n",
    "**Python Code Example:**\n",
    "\n",
    "```python\n",
    "import numpy as np\n",
    "import statistics as s\n"
   ]
  },
  {
   "cell_type": "code",
   "execution_count": 2,
   "id": "a95d3e11-b354-4535-b046-5fd2cce5fe63",
   "metadata": {},
   "outputs": [
    {
     "name": "stdout",
     "output_type": "stream",
     "text": [
      "Mean: 19.4\n",
      "Median: 18.0\n",
      "Mode: 18\n"
     ]
    }
   ],
   "source": [
    "import numpy as np\n",
    "import statistics as stats\n",
    "\n",
    "# Example dataset\n",
    "data = [12, 15, 12, 18, 22, 27, 30, 18, 22, 18]\n",
    "\n",
    "# Mean\n",
    "mean_value = np.mean(data)\n",
    "print(f\"Mean: {mean_value}\")\n",
    "\n",
    "# Median\n",
    "median_value = np.median(data)\n",
    "print(f\"Median: {median_value}\")\n",
    "\n",
    "# Mode\n",
    "mode_value = stats.mode(data)\n",
    "print(f\"Mode: {mode_value}\")\n"
   ]
  },
  {
   "cell_type": "markdown",
   "id": "3aaa48f2-a999-4ffe-85f7-686779fd0630",
   "metadata": {},
   "source": [
    "Explanation:\n",
    "\n",
    "* The ```numpy.mean()``` function calculates the mean.\n",
    "* The ```numpy.median()``` function provides the median.\n",
    "* The ```statistics.mode()``` function gives the mode. If there are multiple modes, the first one is returned."
   ]
  },
  {
   "cell_type": "markdown",
   "id": "aed1a42a-b6f9-444a-9953-11b7e7e8a09d",
   "metadata": {},
   "source": [
    "### Range, Variance, and Standard Deviation\n",
    "Measuring Spread or Dispersion:\n",
    "\n",
    "* Range: The difference between the largest and smallest values in the dataset. It provides a simple measure of data spread.\n",
    "* Variance: The average of the squared differences from the mean. It shows how much the data varies.\n",
    "* Standard Deviation: The square root of the variance, it measures the average amount of variation or spread in the dataset."
   ]
  },
  {
   "cell_type": "code",
   "execution_count": 4,
   "id": "128414dd-5c1a-4838-a74c-e3620891c45b",
   "metadata": {},
   "outputs": [
    {
     "name": "stdout",
     "output_type": "stream",
     "text": [
      "Range: 18\n",
      "Variance: 31.839999999999993\n",
      "Standard Deviation: 5.642694391866353\n"
     ]
    }
   ],
   "source": [
    "# Range\n",
    "range_value = np.ptp(data)\n",
    "print(f\"Range: {range_value}\")\n",
    "\n",
    "# Variance\n",
    "variance_value = np.var(data)\n",
    "print(f\"Variance: {variance_value}\")\n",
    "\n",
    "# Standard Deviation\n",
    "std_dev_value = np.std(data)\n",
    "print(f\"Standard Deviation: {std_dev_value}\")\n"
   ]
  },
  {
   "cell_type": "markdown",
   "id": "ac1092cc-f2ea-4f40-aabb-2bfbe193297c",
   "metadata": {},
   "source": [
    "Explanation:\n",
    "\n",
    "* ```numpy.ptp()``` calculates the range as the difference between the maximum and minimum values.\n",
    "* ```numpy.var()``` computes the variance of the dataset.\n",
    "* ```numpy.std()``` calculates the standard deviation, which is the square root of the variance."
   ]
  },
  {
   "cell_type": "markdown",
   "id": "c7bdea2f-536c-49ec-980d-80b651f60af1",
   "metadata": {},
   "source": [
    "### Percentiles and Quartiles\n",
    "\n",
    "Understanding Data Distribution:\n",
    "\n",
    "* Percentiles: The value below which a certain percentage of observations fall. For example, the 25th percentile is the value below which 25% of the data lies.\n",
    "* Quartiles: Special percentiles that divide the data into four equal parts. The first quartile (Q1) is the 25th percentile, the second quartile (Q2) is the median or 50th percentile, and the third quartile (Q3) is the 75th percentile."
   ]
  },
  {
   "cell_type": "code",
   "execution_count": 5,
   "id": "ed59a0f0-c573-4091-a358-258d78f5cbf8",
   "metadata": {},
   "outputs": [
    {
     "name": "stdout",
     "output_type": "stream",
     "text": [
      "25th Percentile (Q1): 15.75\n",
      "50th Percentile (Median/Q2): 18.0\n",
      "75th Percentile (Q3): 22.0\n"
     ]
    }
   ],
   "source": [
    "# Percentiles (e.g., 25th, 50th, and 75th percentiles)\n",
    "percentile_25 = np.percentile(data, 25)\n",
    "percentile_50 = np.percentile(data, 50)  # This is also the median\n",
    "percentile_75 = np.percentile(data, 75)\n",
    "\n",
    "print(f\"25th Percentile (Q1): {percentile_25}\")\n",
    "print(f\"50th Percentile (Median/Q2): {percentile_50}\")\n",
    "print(f\"75th Percentile (Q3): {percentile_75}\")\n"
   ]
  },
  {
   "cell_type": "markdown",
   "id": "e08b1724-3884-40af-9325-fdd1d3bebaa6",
   "metadata": {},
   "source": [
    "Explanation:\n",
    "\n",
    "* ```numpy.percentile()``` is used to calculate the specific percentiles of a dataset.\n",
    "* The 25th percentile (Q1), 50th percentile (median/Q2), and 75th percentile (Q3) are calculated to show how the data is distributed."
   ]
  },
  {
   "cell_type": "markdown",
   "id": "954fdd0c-a68f-4b88-8d4f-4412d0de61dc",
   "metadata": {},
   "source": [
    "## Probability Distributions\n",
    "\n",
    "### Normal Distribution\n",
    "\n",
    "Properties and Significance:\n",
    "\n",
    "* Normal Distribution: Also known as the Gaussian distribution, is a continuous probability distribution that is symmetric around the mean. Most of the data points are close to the mean, with fewer points appearing as you move further away. Look at the graph the code generates below, notice how the points create the famous bell curve shape. \n",
    "* Key Properties: Mean = Median = Mode, symmetric bell curve, defined by its mean and standard deviation.\n",
    "* Use Cases: The normal distribution is widely used in statistics for hypothesis testing and regression analysis because many real-world phenomena follow a normal distribution."
   ]
  },
  {
   "cell_type": "code",
   "execution_count": 6,
   "id": "71c53c32-0dba-4f73-acc3-40de85e37855",
   "metadata": {},
   "outputs": [
    {
     "data": {
      "image/png": "[encoded data removed]",
      "text/plain": [
       "<Figure size 432x288 with 1 Axes>"
      ]
     },
     "metadata": {
      "needs_background": "light"
     },
     "output_type": "display_data"
    }
   ],
   "source": [
    "import numpy as np\n",
    "import matplotlib.pyplot as plt\n",
    "from scipy.stats import norm\n",
    "\n",
    "# Generate data that follows a normal distribution\n",
    "mean = 0\n",
    "std_dev = 1\n",
    "data = np.random.normal(mean, std_dev, 1000)\n",
    "\n",
    "# Plot the distribution\n",
    "plt.hist(data, bins=30, density=True, alpha=0.6, color='b')\n",
    "\n",
    "# Plot the normal probability density function (PDF)\n",
    "xmin, xmax = plt.xlim()\n",
    "x = np.linspace(xmin, xmax, 100)\n",
    "p = norm.pdf(x, mean, std_dev)\n",
    "plt.plot(x, p, 'k', linewidth=2)\n",
    "plt.title(\"Normal Distribution\")\n",
    "plt.show()\n"
   ]
  },
  {
   "cell_type": "markdown",
   "id": "c16ef3f6-047d-4ca0-abb8-35224f188ead",
   "metadata": {},
   "source": [
    "Explanation:\n",
    "\n",
    "* ```np.random.normal()``` generates 1000 data points that follow a normal distribution with mean 0 and standard deviation 1.\n",
    "* The histogram visualizes the distribution of the data. Note the curve/bell curve\n",
    "* The ```scipy.stats.norm.pdf()``` function is used to plot the probability density function (PDF) of the normal distribution over the same range."
   ]
  },
  {
   "cell_type": "markdown",
   "id": "e7a29045-6bbe-4334-b406-f15175dd69a9",
   "metadata": {},
   "source": [
    "### Binomial Distribution\n",
    "\n",
    "Discrete Probability, Success/Failure Scenarios:\n",
    "\n",
    "* Binomial Distribution: models the number of successes in a fixed number of trials, where each trial is independent and has two possible outcomes (success/failure).\n",
    "* Key Properties: Defined by the number of trials 𝑛 and the probability of success 𝑝. The outcomes are discrete, unlike the continuous normal distribution.\n",
    "* Use Cases: Used when there are a fixed number of repeated trials (e.g., flipping a coin, success/failure experiments).\n"
   ]
  },
  {
   "cell_type": "code",
   "execution_count": 7,
   "id": "4737f80f-f202-485e-9522-4dbecba9e463",
   "metadata": {},
   "outputs": [
    {
     "data": {
      "image/png": "[encoded data removed]",
      "text/plain": [
       "<Figure size 432x288 with 1 Axes>"
      ]
     },
     "metadata": {
      "needs_background": "light"
     },
     "output_type": "display_data"
    }
   ],
   "source": [
    "from scipy.stats import binom\n",
    "import matplotlib.pyplot as plt\n",
    "\n",
    "# Parameters for the binomial distribution\n",
    "n = 10  # Number of trials\n",
    "p = 0.5  # Probability of success\n",
    "\n",
    "# Binomial distribution: probability of 0 to n successes\n",
    "x = np.arange(0, n+1)\n",
    "binomial_pmf = binom.pmf(x, n, p)\n",
    "\n",
    "# Plot the distribution\n",
    "plt.bar(x, binomial_pmf)\n",
    "plt.title(\"Binomial Distribution\")\n",
    "plt.xlabel(\"Number of Successes\")\n",
    "plt.ylabel(\"Probability\")\n",
    "plt.show()\n"
   ]
  },
  {
   "cell_type": "markdown",
   "id": "3e2e6495-15e9-4c04-aacb-da497732816f",
   "metadata": {},
   "source": [
    "Explanation:\n",
    "\n",
    "* scipy.stats.binom.pmf() computes the probability mass function (PMF) for the binomial distribution, which gives the probability of getting a specific number of successes in 𝑛 trials.\n",
    "* The bar plot visualizes the binomial distribution, where the x-axis represents the number of successes and the y-axis represents the corresponding probability."
   ]
  },
  {
   "cell_type": "markdown",
   "id": "00bbbc25-d9f6-44d1-9fdc-2bc813532c2b",
   "metadata": {},
   "source": [
    "## Inferential Statistics\n",
    "\n",
    "### T-tests (One-sample, Two-sample, Paired)\n",
    "\n",
    "Hypothesis Testing for Comparing Means:\n",
    "\n",
    "* T-tests: These tests are used to determine if there is a significant difference between the means of two groups or between a sample mean and a known population mean.\n",
    "* One-sample t-test: Compares the mean of a single group against a known mean.\n",
    "* Two-sample t-test: Compares the means of two independent groups.\n",
    "* Paired t-test: Compares the means of the same group at two different times or under two different conditions.\n"
   ]
  },
  {
   "cell_type": "code",
   "execution_count": 8,
   "id": "6b2cabf4-8a15-44ad-a90a-ad73fd1d13fd",
   "metadata": {},
   "outputs": [
    {
     "name": "stdout",
     "output_type": "stream",
     "text": [
      "One-sample T-test: t-statistic = 2.012513156483931, p-value = 0.07896996182720607\n"
     ]
    }
   ],
   "source": [
    "from scipy import stats\n",
    "import numpy as np\n",
    "\n",
    "# Example data: sample data\n",
    "data = [20, 23, 22, 30, 25, 18, 21, 19, 24]\n",
    "\n",
    "# Population mean to compare against\n",
    "population_mean = 20\n",
    "\n",
    "# One-sample t-test\n",
    "t_stat, p_value = stats.ttest_1samp(data, population_mean)\n",
    "print(f\"One-sample T-test: t-statistic = {t_stat}, p-value = {p_value}\")\n"
   ]
  },
  {
   "cell_type": "markdown",
   "id": "d8aa3359-1b52-4ef3-954f-9445f853ae3c",
   "metadata": {},
   "source": [
    "Explanation:\n",
    "\n",
    "* t-statistic: The t-statistic is a measure of how far the sample mean is from the population mean in terms of standard error units. A higher absolute value of the t-statistic indicates a greater difference between the sample and population means.\n",
    "* p-value: The p-value tells us whether the observed difference is statistically significant. Typically, a p-value less than 0.05 indicates that the sample mean is significantly different from the population mean (with a 5% chance of being wrong if we reject the null hypothesis).\n",
    "\n",
    "Interpretation:\n",
    "\n",
    "* If the p-value is small (e.g., < 0.05), we reject the null hypothesis. This means there is evidence that the sample mean is significantly different from the population mean.\n",
    "* If the p-value is large (e.g., > 0.05), we fail to reject the null hypothesis. This means there isn’t enough evidence to suggest a significant difference between the sample and population means."
   ]
  },
  {
   "cell_type": "code",
   "execution_count": 9,
   "id": "f8db23c4-fec5-4e8d-b80c-6dfdf33459ae",
   "metadata": {},
   "outputs": [
    {
     "name": "stdout",
     "output_type": "stream",
     "text": [
      "Two-sample T-test: t-statistic = 1.6873916677505807, p-value = 0.13000864123151049\n"
     ]
    }
   ],
   "source": [
    "# Two-sample data\n",
    "group1 = [20, 23, 22, 30, 25]\n",
    "group2 = [18, 19, 24, 22, 20]\n",
    "\n",
    "# Two-sample t-test\n",
    "t_stat, p_value = stats.ttest_ind(group1, group2)\n",
    "print(f\"Two-sample T-test: t-statistic = {t_stat}, p-value = {p_value}\")\n"
   ]
  },
  {
   "cell_type": "markdown",
   "id": "51f56ce6-e3fc-4bf7-820f-16fc903a4aaa",
   "metadata": {},
   "source": [
    "Expalanation:\n",
    "\n",
    "This is interpreted in the same way we interpret the one-sample test\n",
    "\n",
    "* t-statistic: This measures how different the two group means are, relative to the variability within the groups.\n",
    "* p-value: This indicates whether the difference between the means of the two groups is statistically significant.\n",
    "\n",
    "Interpretation:\n",
    "\n",
    "* If the p-value is small (e.g., < 0.05), we reject the null hypothesis, which means there is evidence that the two group means are significantly different.\n",
    "* If the p-value is large (e.g., > 0.05), we fail to reject the null hypothesis, which suggests there isn’t enough evidence to say the two group means are different."
   ]
  },
  {
   "cell_type": "code",
   "execution_count": 17,
   "id": "639b1449-1f44-4e53-92a2-2a8a64ffd176",
   "metadata": {},
   "outputs": [
    {
     "name": "stdout",
     "output_type": "stream",
     "text": [
      "Paired T-test: t-statistic = 2.0465595024580763, p-value = 0.11011973663603833\n"
     ]
    }
   ],
   "source": [
    "# Paired data\n",
    "before = [20, 23, 22, 30, 25]\n",
    "after = [18, 19, 24, 22, 20]\n",
    "\n",
    "# Paired t-test\n",
    "t_stat, p_value = stats.ttest_rel(before, after)\n",
    "print(f\"Paired T-test: t-statistic = {t_stat}, p-value = {p_value}\")\n"
   ]
  },
  {
   "cell_type": "markdown",
   "id": "471a71e5-f1a8-498b-adbf-4ef1c807cc4d",
   "metadata": {},
   "source": [
    "Expalanation:\n",
    "\n",
    "* t-statistic: This tells you how different the two paired sets of values are (e.g., before and after treatment) compared to the variation within each pair.\n",
    "* p-value: Indicates whether the difference between the paired values is statistically significant.\n",
    "\n",
    "Interpretation:\n",
    "\n",
    "* If the p-value is small (e.g., < 0.05), we reject the null hypothesis. This means there is evidence that the mean difference between the paired values (e.g., before and after) is significantly different from zero.\n",
    "* If the p-value is large (e.g., > 0.05), we fail to reject the null hypothesis, meaning there is not enough evidence to suggest a significant change between the paired groups.\n"
   ]
  },
  {
   "cell_type": "markdown",
   "id": "77d3e8e4-5145-4573-93c1-f6a4122439dd",
   "metadata": {},
   "source": [
    "#### Key Summary for all T-tests:\n",
    "* Null Hypothesis: Assumes there is no difference (for one-sample, the sample mean equals the population mean; for two-sample, the two group means are equal; for paired, there is no difference between the paired measurements).\n",
    "\n",
    "Interpretation of p-value:\n",
    "* p < 0.05: Reject the null hypothesis (there is a statistically significant difference).\n",
    "* p ≥ 0.05: Fail to reject the null hypothesis (there is no statistically significant difference)."
   ]
  },
  {
   "cell_type": "markdown",
   "id": "a39818f6-576a-4f47-8c5d-146a3e9eac3a",
   "metadata": {},
   "source": [
    "Note: Not covered here is a two proportion z-test.  You would choose a z-test when you're primary interest is in comparing proportions between groups, and use a t-test when comparing means. The key difference in the two tests in the population standard deviation. A z-test assumes the population standard deviation is known, while a t-test is used when the population standard deviation is unknown or when sample sizes are small. So for example if you have FULL data and are not sampling, you can *know* the population standard deviation.\n"
   ]
  },
  {
   "cell_type": "markdown",
   "id": "35d9255e-d108-46be-be7e-60522f60cd2d",
   "metadata": {},
   "source": [
    "### Chi-squared Tests\n",
    "\n",
    "Hypothesis Testing for Categorical Data:\n",
    "\n",
    "* Chi-squared Test: A statistical test used to determine whether there is a significant association between two categorical variables.\n",
    "* Chi-squared test of independence: Determines if two categorical variables are independent of each other.\n",
    "* Goodness of fit: Tests whether observed frequencies match expected frequencies"
   ]
  },
  {
   "cell_type": "code",
   "execution_count": 11,
   "id": "3320862d-853d-4d33-8891-4b5efcc73de4",
   "metadata": {},
   "outputs": [
    {
     "name": "stdout",
     "output_type": "stream",
     "text": [
      "Chi-squared test: chi2 = 10.529166666666667, p-value = 0.0011750518530845063, degrees of freedom = 1\n"
     ]
    }
   ],
   "source": [
    "import numpy as np\n",
    "from scipy.stats import chi2_contingency\n",
    "\n",
    "# Contingency table: rows and columns represent different categories\n",
    "data = np.array([[50, 30], [20, 40]])\n",
    "\n",
    "# Chi-squared test\n",
    "chi2, p, dof, expected = chi2_contingency(data)\n",
    "print(f\"Chi-squared test: chi2 = {chi2}, p-value = {p}, degrees of freedom = {dof}\")\n"
   ]
  },
  {
   "cell_type": "markdown",
   "id": "6efa8e61-9ed7-4f4b-b02d-00642bca4ff6",
   "metadata": {},
   "source": [
    "Explanation:\n",
    "\n",
    "* Chi-squared Test: Checks if there is an association between two categorical variables by comparing observed frequencies to expected frequencies.\n",
    "* The ```scipy.stats.chi2_contingency()``` function is used to compute the test statistics, p-value, and expected frequencies."
   ]
  },
  {
   "cell_type": "markdown",
   "id": "2c3150be-e2cd-4031-b79f-e16a37b50442",
   "metadata": {},
   "source": [
    "## Correlation and Regression\n",
    "\n",
    "### Correlation (Pearson, Spearman)\n",
    "\n",
    "Relationship Between Variables:\n",
    "\n",
    "* Pearson Correlation: Measures the linear relationship between two continuous variables. It ranges from -1 to 1, where:\n",
    "    * +1 indicates a perfect positive linear relationship.\n",
    "    * -1 indicates a perfect negative linear relationship.\n",
    "    * 0 means no linear relationship.\n",
    "\n",
    "* Spearman Correlation: A non-parametric measure that assesses how well the relationship between two variables can be described using a monotonic function. It’s often used when data is not normally distributed or the relationship is non-linear.\n"
   ]
  },
  {
   "cell_type": "code",
   "execution_count": 12,
   "id": "23035ca3-4ced-4060-829f-7b5a9aedd606",
   "metadata": {},
   "outputs": [
    {
     "name": "stdout",
     "output_type": "stream",
     "text": [
      "Pearson Correlation: 0.8846524666755026\n",
      "Spearman Correlation: 0.8504737507115376\n"
     ]
    }
   ],
   "source": [
    "import numpy as np\n",
    "from scipy.stats import pearsonr, spearmanr\n",
    "\n",
    "# Example data\n",
    "x = [10, 12, 23, 23, 16, 23, 21, 12, 24, 23]\n",
    "y = [5, 6, 10, 9, 6, 12, 10, 6, 11, 8]\n",
    "\n",
    "# Pearson correlation\n",
    "pearson_corr, _ = pearsonr(x, y)\n",
    "print(f\"Pearson Correlation: {pearson_corr}\")\n",
    "\n",
    "# Spearman correlation\n",
    "spearman_corr, _ = spearmanr(x, y)\n",
    "print(f\"Spearman Correlation: {spearman_corr}\")\n"
   ]
  },
  {
   "cell_type": "markdown",
   "id": "fad0dbf1-b587-4010-8f26-637fd5f52f2f",
   "metadata": {},
   "source": [
    "Explanation:\n",
    "\n",
    "* The ```pearsonr()``` function calculates the Pearson correlation coefficient, which measures the strength and direction of the linear relationship between two variables.\n",
    "* The ```spearmanr()``` function calculates the Spearman rank-order correlation, which assesses the strength and direction of a monotonic relationship between two variables."
   ]
  },
  {
   "cell_type": "markdown",
   "id": "f6e19945-e8b4-435a-b423-c5aac0e6d99a",
   "metadata": {},
   "source": [
    "### Simple Linear Regression\n",
    "\n",
    "**Linear Regression:** A method to model the relationship between a dependent variable (y) and one or more independent variables (x). In simple linear regression, there’s one independent variable, and the goal is to fit a line that best represents the relationship.\n",
    "\n",
    "Equation: \n",
    "$$\n",
    "y = \\beta_0 + \\beta_1x + \\epsilon\n",
    "$$\n",
    "\n",
    "Where:\n",
    "\n",
    "* 𝑦 is the dependent variable (the outcome we are trying to predict),\n",
    "* 𝑥 is the independent variable (the predictor),\n",
    "* 𝛽0  is the intercept (the value of y when 𝑥=0),\n",
    "* 𝛽1  is the slope (how much 𝑦 changes for a unit increase in 𝑥),\n",
    "* 𝜖 is the error term (the difference between the predicted and actual values)."
   ]
  },
  {
   "cell_type": "code",
   "execution_count": 13,
   "id": "5003b18f-89e6-41d8-b520-4e0b04332820",
   "metadata": {},
   "outputs": [
    {
     "name": "stdout",
     "output_type": "stream",
     "text": [
      "Intercept: 1.0296322741877928\n",
      "Slope: 0.3887897179578721\n",
      "Predicted values: [ 4.91752945  5.69510889  9.97179579  9.97179579  7.25026776  9.97179579\n",
      "  9.19421635  5.69510889 10.36058551  9.97179579]\n"
     ]
    }
   ],
   "source": [
    "from sklearn.linear_model import LinearRegression\n",
    "import numpy as np\n",
    "\n",
    "# Example data\n",
    "x = np.array([10, 12, 23, 23, 16, 23, 21, 12, 24, 23]).reshape(-1, 1)\n",
    "y = np.array([5, 6, 10, 9, 6, 12, 10, 6, 11, 8])\n",
    "\n",
    "# Initialize and fit the linear regression model\n",
    "model = LinearRegression()\n",
    "model.fit(x, y)\n",
    "\n",
    "# Coefficients\n",
    "intercept = model.intercept_\n",
    "slope = model.coef_[0]\n",
    "\n",
    "print(f\"Intercept: {intercept}\")\n",
    "print(f\"Slope: {slope}\")\n",
    "\n",
    "# Predict values\n",
    "predicted_y = model.predict(x)\n",
    "print(f\"Predicted values: {predicted_y}\")\n"
   ]
  },
  {
   "cell_type": "markdown",
   "id": "b700692a-ba72-4735-a085-a588b087983a",
   "metadata": {},
   "source": [
    "#### Output of the Linear Regression\n",
    "\n",
    "##### Intercept:\n",
    "The intercept is calculated as:"
   ]
  },
  {
   "cell_type": "code",
   "execution_count": 14,
   "id": "f5f5b8d5-c16f-4354-863a-a3531244135a",
   "metadata": {},
   "outputs": [
    {
     "name": "stdout",
     "output_type": "stream",
     "text": [
      "Intercept: 1.0296322741877928\n"
     ]
    }
   ],
   "source": [
    "intercept = model.intercept_\n",
    "print(f\"Intercept: {intercept}\")\n"
   ]
  },
  {
   "cell_type": "markdown",
   "id": "2a49cadd-0418-42eb-89ae-c778d187089d",
   "metadata": {},
   "source": [
    "The intercept (𝛽0) tells us the value of 𝑦 when 𝑥 = 0. In our case, the intercept represents the baseline value of the dependent variable when the independent variable is zero.\n",
    "\n",
    "For example, if the intercept is 3.5, it means that when 𝑥=0, we expect \n",
    "𝑦 to be 3.5."
   ]
  },
  {
   "cell_type": "markdown",
   "id": "5231ec7d-ef5e-49ca-bff5-d2a05a036c05",
   "metadata": {},
   "source": [
    "##### Slope"
   ]
  },
  {
   "cell_type": "code",
   "execution_count": 15,
   "id": "3e702ae9-ad37-4516-8c7b-5b8d62582757",
   "metadata": {},
   "outputs": [
    {
     "name": "stdout",
     "output_type": "stream",
     "text": [
      "Slope: 0.3887897179578721\n"
     ]
    }
   ],
   "source": [
    "slope = model.coef_[0]\n",
    "print(f\"Slope: {slope}\")\n"
   ]
  },
  {
   "cell_type": "markdown",
   "id": "79eef203-5fec-46eb-b0ec-d7526952f307",
   "metadata": {},
   "source": [
    "The slope (𝛽1) tells us how much 𝑦 increases or decreases with a one-unit increase in 𝑥.\n",
    "\n",
    "A positive slope means 𝑦 increases as 𝑥 increases, while a negative slope means 𝑦 decreases as 𝑥 increases.\n",
    "\n",
    "For instance, if the slope is 0.5, it means that for every unit increase in \n",
    "𝑥, 𝑦 is expected to increase by 0.5."
   ]
  },
  {
   "cell_type": "markdown",
   "id": "f83024f3-46c8-4ed6-94a0-d7745aec5813",
   "metadata": {},
   "source": [
    "##### Predicted Values:\n"
   ]
  },
  {
   "cell_type": "code",
   "execution_count": null,
   "id": "f074db08-7112-42df-ae4b-e65b4507218b",
   "metadata": {},
   "outputs": [],
   "source": [
    "predicted_y = model.predict(x)\n",
    "print(f\"Predicted values: {predicted_y}\")\n"
   ]
  },
  {
   "cell_type": "markdown",
   "id": "bd5b6dfb-4596-429b-a74b-f7dfa26f5891",
   "metadata": {},
   "source": [
    "These are the estimated 𝑦 values for the given 𝑥 values based on the fitted regression line. The closer the predicted values are to the actual values of 𝑦, the better the model fits the data."
   ]
  },
  {
   "cell_type": "markdown",
   "id": "5e57e243-b73d-498f-9dc8-072f32cd15b6",
   "metadata": {},
   "source": [
    "### Evaluating the Fit\n",
    "After fitting the model, we can evaluate how well it fits the data by checking:\n",
    "\n",
    "* Residuals: The differences between the actual values of 𝑦 and the predicted values.\n",
    "* R-squared: A common measure that shows how well the independent variable explains the variance in the dependent variable (the closer to 1, the better the fit)."
   ]
  },
  {
   "cell_type": "markdown",
   "id": "90e9c12b-29b8-4bc2-b6e4-061303384f5e",
   "metadata": {},
   "source": [
    "## ANOVA (Analysis of Variance)\n",
    "\n",
    "### One-way ANOVA\n",
    "\n",
    "Comparing Means Across Multiple Groups:\n",
    "\n",
    "* ANOVA (Analysis of Variance): A statistical method used to compare the means of three or more groups to determine if at least one group mean is significantly different from the others.\n",
    "* One-way ANOVA: Tests the effect of a single independent variable (factor) on a dependent variable. It assumes the groups are independent and normally distributed with equal variances.\n",
    "\n"
   ]
  },
  {
   "cell_type": "code",
   "execution_count": 18,
   "id": "d3a01acf-b6ef-47d4-91ab-41a912977cd6",
   "metadata": {},
   "outputs": [
    {
     "name": "stdout",
     "output_type": "stream",
     "text": [
      "One-way ANOVA: F-statistic = 4.264285714285714, p-value = 0.03989652843752253\n"
     ]
    }
   ],
   "source": [
    "from scipy import stats\n",
    "\n",
    "# Example data: scores from three different groups\n",
    "group1 = [20, 23, 22, 30, 25]\n",
    "group2 = [18, 19, 24, 22, 20]\n",
    "group3 = [25, 28, 22, 27, 29]\n",
    "\n",
    "# Perform one-way ANOVA\n",
    "f_statistic, p_value = stats.f_oneway(group1, group2, group3)\n",
    "print(f\"One-way ANOVA: F-statistic = {f_statistic}, p-value = {p_value}\")\n"
   ]
  },
  {
   "cell_type": "markdown",
   "id": "7a139786-66e0-40af-a5e1-a6fefc764950",
   "metadata": {},
   "source": [
    "**Explanation:**\n",
    "\n",
    "* F-statistic: Measures the ratio of between-group variability to within-group variability. A larger F-statistic suggests a larger difference between group means.\n",
    "* p-value: If the p-value is less than 0.05, it indicates that at least one group mean is significantly different from the others.\n",
    "\n",
    "**Interpretation:**\n",
    "\n",
    "* If the p-value is small (e.g., < 0.05), you reject the null hypothesis, which means there is evidence that at least one group mean is significantly different from the others.\n",
    "* If the p-value is large (e.g., > 0.05), you fail to reject the null hypothesis, meaning there isn’t enough evidence to suggest a difference between the group means."
   ]
  },
  {
   "cell_type": "markdown",
   "id": "4ced9949-0f92-4c4c-9007-fd04a5e4738d",
   "metadata": {},
   "source": [
    "## Non-parametric Tests\n",
    "\n",
    "#### Mann-Whitney U Test\n",
    "Non-parametric Alternative to the T-test:\n",
    "\n",
    "* Mann-Whitney U Test: This test compares the distributions of two independent groups. It’s used when the data doesn't meet the assumptions of normality required by the t-test.\n"
   ]
  },
  {
   "cell_type": "code",
   "execution_count": 19,
   "id": "3f83da7d-dff6-465c-ab25-575d82d7bc53",
   "metadata": {},
   "outputs": [
    {
     "name": "stdout",
     "output_type": "stream",
     "text": [
      "Mann-Whitney U Test: U-statistic = 5.0, p-value = 0.07061908194440973\n"
     ]
    }
   ],
   "source": [
    "from scipy.stats import mannwhitneyu\n",
    "\n",
    "# Example data for two independent groups\n",
    "group1 = [20, 23, 22, 30, 25]\n",
    "group2 = [18, 19, 24, 22, 20]\n",
    "\n",
    "# Perform the Mann-Whitney U Test\n",
    "u_stat, p_value = mannwhitneyu(group1, group2)\n",
    "print(f\"Mann-Whitney U Test: U-statistic = {u_stat}, p-value = {p_value}\")\n"
   ]
  },
  {
   "cell_type": "markdown",
   "id": "0cdf6f64-fb7a-4940-a827-d9173a9e2baa",
   "metadata": {},
   "source": [
    "**Explanation:**\n",
    "\n",
    "* U-statistic: The Mann-Whitney U test statistic, which ranks the observations to compare distributions.\n",
    "* p-value: If the p-value is less than 0.05, you reject the null hypothesis and conclude that the distributions of the two groups are different."
   ]
  },
  {
   "cell_type": "markdown",
   "id": "52b06ec7-742c-4a21-8f3f-91fb7b710a28",
   "metadata": {},
   "source": [
    "#### Kruskal-Wallis Test\n",
    "\n",
    "Non-parametric Alternative to ANOVA:\n",
    "\n",
    "* Kruskal-Wallis Test: This test is used to compare the distributions of three or more independent groups. It’s the non-parametric alternative to the one-way ANOVA and is used when the assumptions of ANOVA are violated.\n"
   ]
  },
  {
   "cell_type": "code",
   "execution_count": 20,
   "id": "cb790a45-2d20-4c8c-9fd4-a25304b30c41",
   "metadata": {},
   "outputs": [
    {
     "name": "stdout",
     "output_type": "stream",
     "text": [
      "Kruskal-Wallis Test: H-statistic = 5.979061371841154, p-value = 0.05031104286457823\n"
     ]
    }
   ],
   "source": [
    "from scipy.stats import kruskal\n",
    "\n",
    "# Example data for three independent groups\n",
    "group1 = [20, 23, 22, 30, 25]\n",
    "group2 = [18, 19, 24, 22, 20]\n",
    "group3 = [25, 28, 22, 27, 29]\n",
    "\n",
    "# Perform the Kruskal-Wallis Test\n",
    "h_statistic, p_value = kruskal(group1, group2, group3)\n",
    "print(f\"Kruskal-Wallis Test: H-statistic = {h_statistic}, p-value = {p_value}\")\n"
   ]
  },
  {
   "cell_type": "markdown",
   "id": "f5d66d41-6a63-461e-81c5-81a8ece0b8e2",
   "metadata": {},
   "source": [
    "Explanation:\n",
    "\n",
    "* H-statistic: The test statistic for the Kruskal-Wallis test. It assesses whether the group distributions differ significantly.\n",
    "* p-value: If the p-value is less than 0.05, you reject the null hypothesis and conclude that at least one group’s distribution is significantly different from the others.\n"
   ]
  },
  {
   "cell_type": "markdown",
   "id": "98932963-8617-47f4-b00d-910938501a25",
   "metadata": {},
   "source": [
    "## Confidence Intervals\n",
    "\n",
    "Understanding and Calculating Confidence Intervals:\n",
    "\n",
    "* Confidence Interval (CI): A range of values that is likely to contain the population parameter (e.g., the mean) with a certain level of confidence (typically 95%). The confidence level indicates how certain we are that the interval contains the true population parameter.\n",
    "* A 95% confidence interval means that if we were to take 100 different samples and compute the CI for each, we would expect about 95 of those intervals to contain the true population parameter.\n",
    "\n",
    "Formula for a Confidence Interval:\n",
    "\n",
    "For a sample mean, the confidence interval can be calculated as:\n",
    "\n",
    "$$\n",
    "\\text{CI} = \\bar{x} \\pm z \\cdot \\frac{s}{\\sqrt{n}}\n",
    "$$\n",
    "\n",
    "Where:\n",
    "* $\\bar{x}$ is the sample mean,\n",
    "* $ z $ is the critical value from the Z-distribution (e.g., 1.96 for a 95% confidence interval),\n",
    "* 𝑠 is the sample standard deviation,\n",
    "* 𝑛 is the sample size."
   ]
  },
  {
   "cell_type": "code",
   "execution_count": null,
   "id": "904c9d10-e931-4512-8f06-39ec2d20dab5",
   "metadata": {},
   "outputs": [],
   "source": [
    "import numpy as np\n",
    "from scipy import stats\n",
    "\n",
    "# Example data\n",
    "data = [20, 23, 22, 30, 25, 18, 21, 19, 24]\n",
    "\n",
    "# Calculate the mean and standard error\n",
    "mean = np.mean(data)\n",
    "std_err = stats.sem(data)  # Standard error of the mean\n",
    "\n",
    "# 95% confidence interval\n",
    "confidence = 0.95\n",
    "h = std_err * stats.t.ppf((1 + confidence) / 2, len(data) - 1)\n",
    "\n",
    "lower_bound = mean - h\n",
    "upper_bound = mean + h\n",
    "\n",
    "print(f\"95% Confidence Interval: ({lower_bound}, {upper_bound})\")\n"
   ]
  },
  {
   "cell_type": "markdown",
   "id": "f13eeae1-9ab0-44ad-8469-9ec5a2b212e5",
   "metadata": {},
   "source": [
    "Explanation:\n",
    "\n",
    "* Standard Error (SE): This is the standard deviation of the sampling distribution of a statistic. It measures the accuracy of the sample mean as an estimate of the population mean.\n",
    "* The confidence interval is constructed by adding and subtracting the margin of error (calculated as 𝑧⋅𝑆𝐸) from the sample mean."
   ]
  },
  {
   "cell_type": "markdown",
   "id": "f16e60b3-9d51-4b8b-a73d-e5d35cdf474f",
   "metadata": {},
   "source": [
    "## P-Values and Significance Testing\n",
    "(Note there is considerable disagreement on whether or not we should use p-values. I am in the camp that we should not. But I provide them here because many other reasonable people disagree.)\n",
    "\n",
    "\n",
    "Understanding P-values:\n",
    "\n",
    "* P-value: The p-value tells you the probability of observing the data (or something more extreme) given that the null hypothesis is true. It helps determine the statistical significance of the result.\n",
    "\n",
    "* Significance Level: The threshold for deciding whether to reject the null hypothesis, commonly set at 𝛼=0.05. If the p-value is less than 𝛼, the result is considered statistically significant.\n",
    "\n",
    "* Null Hypothesis (H0): Assumes no effect or no difference.\n",
    "\n",
    "* Alternative Hypothesis (H1): Assumes some effect or difference.\n",
    "\n",
    "Interpreting P-values:\n",
    "\n",
    "* p < 0.05: Reject the null hypothesis. The result is statistically significant.\n",
    "* p ≥ 0.05: Fail to reject the null hypothesis. The result is not statistically significant.\n"
   ]
  },
  {
   "cell_type": "code",
   "execution_count": 21,
   "id": "9990615c-0f6e-49db-b152-6accd43667d7",
   "metadata": {},
   "outputs": [
    {
     "name": "stdout",
     "output_type": "stream",
     "text": [
      "T-statistic: 1.6873916677505807, P-value: 0.13000864123151049\n"
     ]
    }
   ],
   "source": [
    "# Example: Two-sample T-test for independent groups\n",
    "group1 = [20, 23, 22, 30, 25]\n",
    "group2 = [18, 19, 24, 22, 20]\n",
    "\n",
    "# Perform two-sample t-test\n",
    "t_stat, p_value = stats.ttest_ind(group1, group2)\n",
    "\n",
    "print(f\"T-statistic: {t_stat}, P-value: {p_value}\")\n"
   ]
  },
  {
   "cell_type": "code",
   "execution_count": null,
   "id": "144354ed-d97a-470a-9d2e-172e2ab7bdb9",
   "metadata": {},
   "outputs": [],
   "source": []
  },
  {
   "cell_type": "code",
   "execution_count": null,
   "id": "45f96c7b-8727-4480-baa5-26c19a06b7ba",
   "metadata": {},
   "outputs": [],
   "source": []
  },
  {
   "cell_type": "code",
   "execution_count": null,
   "id": "38787346-5b3c-44f9-9dfa-444fad01f0bf",
   "metadata": {},
   "outputs": [],
   "source": []
  }
 ],
 "metadata": {
  "kernelspec": {
   "display_name": "Python 3",
   "language": "python",
   "name": "python3"
  },
  "language_info": {
   "codemirror_mode": {
    "name": "ipython",
    "version": 3
   },
   "file_extension": ".py",
   "mimetype": "text/x-python",
   "name": "python",
   "nbconvert_exporter": "python",
   "pygments_lexer": "ipython3",
   "version": "3.8.8"
  },
  "toc-autonumbering": false
 },
 "nbformat": 4,
 "nbformat_minor": 5
}
