{
 "cells": [
  {
   "cell_type": "markdown",
   "id": "1702123e-aa84-4688-b703-aec6433c3af6",
   "metadata": {},
   "source": [
    "# Week 4 Study Workbook"
   ]
  },
  {
   "cell_type": "markdown",
   "id": "98ba8a35-84ac-4caf-8345-9c52d7f50a04",
   "metadata": {},
   "source": [
    "Work together to answer these questions on Week 4.\n",
    "\n",
    "Questions are similar, but not exactly the same, as will appear on the Week 4 Quiz, so be sure to answer them to the best of your ability.\n",
    "\n",
    "You do not need to submit this assignment workbook... you just need to complete the quiz this week. \n",
    "\n",
    "For this quiz this week (and for future quizzes and exams) you MUST know how to download a data file (a csv for example) and load it into your notebook. If you do not... you are not ready for the quiz. "
   ]
  },
  {
   "cell_type": "markdown",
   "id": "07d81235-b5d9-4305-bec7-9c574a4d0e4f",
   "metadata": {},
   "source": [
    "### 1 Data for this week\n",
    "\n",
    "Get started by downloading the data for this week. The data is called \"homes.csv\", and it is located in the Canvas file folder. It is kind of a wreck! Call the dataframe \"homes\""
   ]
  },
  {
   "cell_type": "code",
   "execution_count": null,
   "id": "79195ef5-d84f-45ff-9a27-c0dc4878767d",
   "metadata": {},
   "outputs": [],
   "source": [
    "#WRITE IN YOUR SOLUTION HERE>>> or CREATE ANOTHER CODE CELL\n",
    "\n"
   ]
  },
  {
   "cell_type": "markdown",
   "id": "5e8f706f-5832-4b17-9ac9-e829a739039a",
   "metadata": {},
   "source": [
    "### 2 Missing Data \n",
    "\n",
    "Well we don't want it. What happens if you remove all the rows that have any missing data? Try it out. Delete rows if they have any missing data. Is this a good solution on this data set? That is a hard question to answer sometimes. Maybe not hard to answer here."
   ]
  },
  {
   "cell_type": "code",
   "execution_count": null,
   "id": "53563d90-89fa-4cd7-84b8-35f85c493136",
   "metadata": {},
   "outputs": [],
   "source": [
    "#WRITE IN YOUR SOLUTION HERE>>> or CREATE ANOTHER CODE CELL\n",
    "\n"
   ]
  },
  {
   "cell_type": "markdown",
   "id": "ada2293b-d4cb-4654-8d71-1977f6a5b2cf",
   "metadata": {},
   "source": [
    "### 3 Make a new dataframe\n",
    "\n",
    "Let's take just a small slice of this data... we don't need it all. Let's assume we want to create a dataset of home features such as TotalBedrooms, TotalBathrooms, YearBuilt and LastSalePrice. How would you write that code? Call that dataframe \"HomeFeatures\". "
   ]
  },
  {
   "cell_type": "code",
   "execution_count": null,
   "id": "bf2a33e2-0529-4dcc-a792-045016c4337b",
   "metadata": {},
   "outputs": [],
   "source": [
    "#WRITE IN YOUR SOLUTION HERE>>> or CREATE ANOTHER CODE CELL\n",
    "\n"
   ]
  },
  {
   "cell_type": "markdown",
   "id": "d1fd9b72-ece0-4936-971c-9d0dbf50ff2f",
   "metadata": {
    "tags": []
   },
   "source": [
    "### 4 Outliers\n",
    "\n",
    "Look through this set of data. Do you see or can you find any obvious outliers? What are some of the things we could do with those outliers? Practice a few of the solutions from the lecture this week (remove them, use the median to replace them, use the mean to replace them etc.) What do you think about each of those options here? It should depend on the purpose or goal you have in mind for this dataset, what are some scenarios you can think of to just delete it? What about imputing a new value?"
   ]
  },
  {
   "cell_type": "code",
   "execution_count": null,
   "id": "85d71c49-342a-4592-a173-016ee6f0a062",
   "metadata": {},
   "outputs": [],
   "source": [
    "#WRITE IN YOUR SOLUTION HERE>>> or CREATE ANOTHER CODE CELL"
   ]
  }
 ],
 "metadata": {
  "kernelspec": {
   "display_name": "Python 3 (ipykernel)",
   "language": "python",
   "name": "python3"
  },
  "language_info": {
   "codemirror_mode": {
    "name": "ipython",
    "version": 3
   },
   "file_extension": ".py",
   "mimetype": "text/x-python",
   "name": "python",
   "nbconvert_exporter": "python",
   "pygments_lexer": "ipython3",
   "version": "3.9.12"
  },
  "toc-autonumbering": false
 },
 "nbformat": 4,
 "nbformat_minor": 5
}
