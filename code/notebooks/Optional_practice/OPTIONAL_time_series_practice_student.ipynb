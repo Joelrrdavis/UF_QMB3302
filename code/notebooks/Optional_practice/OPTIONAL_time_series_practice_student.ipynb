{
 "cells": [
  {
   "cell_type": "code",
   "execution_count": null,
   "id": "9891ab2a",
   "metadata": {},
   "outputs": [],
   "source": [
    "import pandas as pd\n",
    "import numpy as np\n",
    "from matplotlib import pyplot as plt\n",
    "import seaborn as sns\n",
    "import datetime as dt"
   ]
  },
  {
   "cell_type": "code",
   "execution_count": null,
   "id": "724b3198",
   "metadata": {},
   "outputs": [],
   "source": [
    "import os #important to import when dealing with data\n",
    "import urllib #used to grab datasets from the web\n",
    "url = 'https://datahub.io/core/gold-prices/r/monthly.csv'\n",
    "newpath = os.path.join(\"data\")\n",
    "data_path = os.path.join(newpath,\"Gold.csv\" )\n",
    "req = urllib.request.urlretrieve(url, data_path)\n",
    "web_data = pd.read_csv(data_path)\n",
    "web_data.head()"
   ]
  },
  {
   "cell_type": "markdown",
   "id": "cfc2c9db",
   "metadata": {},
   "source": [
    "# Looking through data:\n",
    "## The data loaded in is that of gold prices throughout the years\n",
    "\n",
    "Now that we can see the data is loaded in properly we need to check wha type of data it holds"
   ]
  },
  {
   "cell_type": "code",
   "execution_count": null,
   "id": "4b0f0dff",
   "metadata": {},
   "outputs": [],
   "source": [
    "web_data.#something()"
   ]
  },
  {
   "cell_type": "markdown",
   "id": "0b7ca9a7",
   "metadata": {},
   "source": [
    "### We can see that the date type is an object and can be converted to datetime"
   ]
  },
  {
   "cell_type": "code",
   "execution_count": null,
   "id": "b0aa7264",
   "metadata": {},
   "outputs": [],
   "source": [
    "web_data['Date']=pd.to_datetime(web_data['Date'])"
   ]
  },
  {
   "cell_type": "code",
   "execution_count": null,
   "id": "6cf141f8",
   "metadata": {},
   "outputs": [],
   "source": [
    "web_data.#something()\n"
   ]
  },
  {
   "cell_type": "markdown",
   "id": "ffe740c2",
   "metadata": {},
   "source": [
    "# Plot to see what the data looks like"
   ]
  },
  {
   "cell_type": "code",
   "execution_count": null,
   "id": "6ee4f942",
   "metadata": {},
   "outputs": [],
   "source": [
    "web_data.plot#('#value','#value')"
   ]
  },
  {
   "cell_type": "markdown",
   "id": "a9c42efb",
   "metadata": {},
   "source": [
    "# Plot me the data between March, 2009 to March, 2019 "
   ]
  },
  {
   "cell_type": "code",
   "execution_count": null,
   "id": "5450ac7f",
   "metadata": {},
   "outputs": [],
   "source": [
    "web_data.plot#('#value','#value')\n",
    "#google a way to TIMESTAMP a plot\n",
    "# plt.xlim .... is one way"
   ]
  },
  {
   "cell_type": "markdown",
   "id": "c7ac1a5a",
   "metadata": {},
   "source": [
    "# Create a new Data Frame with a decade of data and then plot it"
   ]
  },
  {
   "cell_type": "code",
   "execution_count": null,
   "id": "95d58f56",
   "metadata": {},
   "outputs": [],
   "source": [
    "web_dataDecade = web_data[(web_data['Date'] [#OPERATOR] \"2000-01\") & (web_data['Date'] [#OPERATOR] \"2010-01\")]"
   ]
  },
  {
   "cell_type": "code",
   "execution_count": null,
   "id": "b97e761c",
   "metadata": {},
   "outputs": [],
   "source": [
    "web_dataDecade.plot('Date','Price')"
   ]
  },
  {
   "cell_type": "markdown",
   "id": "fe66badc",
   "metadata": {},
   "source": [
    "# Find your Decade's mean price vs the overall mean price of Gold"
   ]
  },
  {
   "cell_type": "code",
   "execution_count": null,
   "id": "bf1396b9",
   "metadata": {},
   "outputs": [],
   "source": [
    "web_dataDecade.Price.#something()"
   ]
  },
  {
   "cell_type": "code",
   "execution_count": null,
   "id": "761ad372",
   "metadata": {},
   "outputs": [],
   "source": [
    "web_data.Price.#something()"
   ]
  },
  {
   "cell_type": "markdown",
   "id": "13c2919e",
   "metadata": {},
   "source": [
    "# Plot a simple moving average with a laggard of 30\n",
    "## When predicted prices one tool used is often a simple moving average it is especially useful for time series data\n"
   ]
  },
  {
   "cell_type": "code",
   "execution_count": null,
   "id": "59b63ebc",
   "metadata": {},
   "outputs": [],
   "source": [
    "web_data['SMA']=web_data['Price'].rolling(#value).something()"
   ]
  },
  {
   "cell_type": "code",
   "execution_count": null,
   "id": "182f9ad0",
   "metadata": {},
   "outputs": [],
   "source": [
    "web_data.plot('Date',['Price','SMA'])"
   ]
  },
  {
   "cell_type": "markdown",
   "id": "19f8e986",
   "metadata": {},
   "source": [
    "# Feel free to play around and re-plot with various SMA"
   ]
  },
  {
   "cell_type": "markdown",
   "id": "bf6434ff",
   "metadata": {},
   "source": [
    "# "
   ]
  },
  {
   "cell_type": "markdown",
   "id": "de0175b4",
   "metadata": {},
   "source": [
    "# Now lets try a new set with various exchange rate data against the dollar"
   ]
  },
  {
   "cell_type": "code",
   "execution_count": null,
   "id": "83e9bcb8",
   "metadata": {},
   "outputs": [],
   "source": [
    "url = 'https://datahub.io/core/exchange-rates/r/daily.csv'\n",
    "newpath = os.path.join(\"data\")\n",
    "data_path = os.path.join(newpath,\"Gold.csv\" )\n",
    "req = urllib.request.urlretrieve(url, data_path)\n",
    "xchange = pd.read_csv(data_path)\n",
    "xchange.head()"
   ]
  },
  {
   "cell_type": "markdown",
   "id": "e9935168",
   "metadata": {},
   "source": [
    "# Repeat the same process of  converting date to datetime"
   ]
  },
  {
   "cell_type": "code",
   "execution_count": null,
   "id": "57fa315b",
   "metadata": {},
   "outputs": [],
   "source": [
    "xchange.info()"
   ]
  },
  {
   "cell_type": "code",
   "execution_count": null,
   "id": "1c32e8c4",
   "metadata": {},
   "outputs": [],
   "source": [
    "xchange['Date']=pd.to_datetime(xchange['Date'])"
   ]
  },
  {
   "cell_type": "code",
   "execution_count": null,
   "id": "9d251596",
   "metadata": {},
   "outputs": [],
   "source": [
    "xchange.info()"
   ]
  },
  {
   "cell_type": "markdown",
   "id": "da40776b",
   "metadata": {},
   "source": [
    "# When looking as the head, you may notice repeating values in the column for country, maybe its best to pivot this data"
   ]
  },
  {
   "cell_type": "code",
   "execution_count": null,
   "id": "2e21e2f8",
   "metadata": {},
   "outputs": [],
   "source": [
    "xchange2 =xchange.pivot(index='Date',columns='Country',values='Value')"
   ]
  },
  {
   "cell_type": "code",
   "execution_count": null,
   "id": "44ff2778",
   "metadata": {},
   "outputs": [],
   "source": [
    "xchange2.info()\n",
    "#or get rid of .info() to just see all data"
   ]
  },
  {
   "cell_type": "code",
   "execution_count": null,
   "id": "f6e33bb2",
   "metadata": {},
   "outputs": [],
   "source": [
    "xchange2 = pd.DataFrame(xchange2)"
   ]
  },
  {
   "cell_type": "markdown",
   "id": "2307b1a1",
   "metadata": {},
   "source": [
    "# Something to note, pivoted object is no longer a data frame and needs to be converted back"
   ]
  },
  {
   "cell_type": "markdown",
   "id": "7c7b0857",
   "metadata": {},
   "source": [
    "# Lets create 2 new dataframes to plot the exchange rate data of two countries of your choice, take one from the pivot table an another from the original data frame"
   ]
  },
  {
   "cell_type": "code",
   "execution_count": null,
   "id": "3e6a3079",
   "metadata": {},
   "outputs": [],
   "source": [
    "#Currency1 (name it actual currect EX: AUD) = xchange2['Country']"
   ]
  },
  {
   "cell_type": "code",
   "execution_count": null,
   "id": "a671d425",
   "metadata": {},
   "outputs": [],
   "source": [
    "#Currency = xchange[xchange.Country== #COUNTRY]"
   ]
  },
  {
   "cell_type": "code",
   "execution_count": null,
   "id": "2d17a57e",
   "metadata": {},
   "outputs": [],
   "source": []
  },
  {
   "cell_type": "code",
   "execution_count": null,
   "id": "667b59d4",
   "metadata": {},
   "outputs": [],
   "source": [
    "plt.plot(Currency1,label='Currency1')\n",
    "plt.plot(Currency2['Date'],Currency2['Value'],label='Currency2')\n",
    "plt.legend()\n",
    "plt.show()"
   ]
  },
  {
   "cell_type": "markdown",
   "id": "5887407f",
   "metadata": {},
   "source": [
    "# If the chart has rising values that does not mean the currency is appreciating but depreciated. The value of 1 dollar has become X in the currency you chose"
   ]
  },
  {
   "cell_type": "markdown",
   "id": "dfd2ffbe",
   "metadata": {},
   "source": [
    "# Now, for once last item, lets create a decade of timeseries data again"
   ]
  },
  {
   "cell_type": "code",
   "execution_count": null,
   "id": "3ba0fe2f",
   "metadata": {},
   "outputs": [],
   "source": [
    "#should be able to do it previously, copy that earlier code if needed"
   ]
  },
  {
   "cell_type": "markdown",
   "id": "25ac2ae3",
   "metadata": {},
   "source": [
    "# Plot as usual"
   ]
  },
  {
   "cell_type": "code",
   "execution_count": null,
   "id": "41e2b389",
   "metadata": {},
   "outputs": [],
   "source": [
    "#plot\n"
   ]
  },
  {
   "cell_type": "markdown",
   "id": "b59eb5ee",
   "metadata": {},
   "source": [
    "# The data should still be in DateTime and I am curious as to which weekday has the highest average value. Luckily we can find this out"
   ]
  },
  {
   "cell_type": "code",
   "execution_count": null,
   "id": "ab952d37",
   "metadata": {},
   "outputs": [],
   "source": [
    "#find the weekdays\n",
    "print(#something[].dt.day_name())"
   ]
  },
  {
   "cell_type": "code",
   "execution_count": 3,
   "id": "ac1a36c8",
   "metadata": {},
   "outputs": [],
   "source": [
    "#create a column for each Date's corresponding weekday\n"
   ]
  },
  {
   "cell_type": "code",
   "execution_count": null,
   "id": "5f9cc19b",
   "metadata": {},
   "outputs": [],
   "source": []
  },
  {
   "cell_type": "markdown",
   "id": "84f7d891",
   "metadata": {},
   "source": [
    "# Pandas has a groupby function to sort each value by similar grouping, in our case, weekdays\n",
    "\n",
    "# Group some weekdays and do some math or function calls to find the means "
   ]
  },
  {
   "cell_type": "code",
   "execution_count": null,
   "id": "1ec7f08a",
   "metadata": {},
   "outputs": [],
   "source": [
    "# x = df.groupby(something)"
   ]
  },
  {
   "cell_type": "code",
   "execution_count": null,
   "id": "636a9a77",
   "metadata": {},
   "outputs": [],
   "source": [
    "# print(something.mean())"
   ]
  },
  {
   "cell_type": "code",
   "execution_count": null,
   "id": "79743457",
   "metadata": {},
   "outputs": [],
   "source": []
  }
 ],
 "metadata": {
  "kernelspec": {
   "display_name": "Python 3",
   "language": "python",
   "name": "python3"
  },
  "language_info": {
   "codemirror_mode": {
    "name": "ipython",
    "version": 3
   },
   "file_extension": ".py",
   "mimetype": "text/x-python",
   "name": "python",
   "nbconvert_exporter": "python",
   "pygments_lexer": "ipython3",
   "version": "3.8.8"
  }
 },
 "nbformat": 4,
 "nbformat_minor": 5
}
