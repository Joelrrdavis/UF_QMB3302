{
 "cells": [
  {
   "cell_type": "markdown",
   "id": "4c78daff-7fd7-42b0-9268-caf8cc6e4092",
   "metadata": {},
   "source": [
    "Here is what we are going to go collect from online. \n",
    "\n",
    "https://www.acehardware.com/departments/home-and-decor/pet-supplies/pet-food/8505828"
   ]
  },
  {
   "cell_type": "code",
   "execution_count": 1,
   "id": "bda29947-d730-4d36-b2d3-ccad20dfc283",
   "metadata": {},
   "outputs": [],
   "source": [
    "# import libraries \n",
    "\n",
    "from bs4 import BeautifulSoup\n",
    "import requests\n",
    "from datetime import datetime\n",
    "import pandas as pd"
   ]
  },
  {
   "cell_type": "code",
   "execution_count": null,
   "id": "ebb77e47-4ef8-491b-b890-cda6fd71ffc8",
   "metadata": {},
   "outputs": [],
   "source": [
    "# you need some information from your browswer\n",
    "\n"
   ]
  },
  {
   "cell_type": "markdown",
   "id": "b4bac24e-2c84-45d9-80f3-571145622bbc",
   "metadata": {},
   "source": [
    "## Inspect HTML\n",
    "\n",
    "You need to inspect the website. This is a little easier (I think) in chrome, so that is what I will use. You can google how to inspect the HTML in Safari if interested. \n",
    "\n",
    "You also need YOUR User Agent info. Mine is below. To get yours, go to https://httpbin.org/get and copy the User Agent row. \n",
    "\n"
   ]
  },
  {
   "cell_type": "code",
   "execution_count": 4,
   "id": "7b35f0e7-5c01-492d-a86a-96e601f6394c",
   "metadata": {},
   "outputs": [
    {
     "name": "stdout",
     "output_type": "stream",
     "text": [
      "\n",
      "       Taste of the Wild High Prairie All Ages Roasted Bison and Venison Dry Dog Food Grain Free 28 lb\n",
      "      \n",
      "\n",
      "          59.99\n",
      "         \n"
     ]
    }
   ],
   "source": [
    "# Connect to Website and pull in data\n",
    "\n",
    "URL = 'https://www.acehardware.com/departments/home-and-decor/pet-supplies/pet-food/8505828'\n",
    "\n",
    "headers = {\"User-Agent\": \"Mozilla/5.0 (Macintosh; Intel Mac OS X 10_15_7) AppleWebKit/605.1.15 (KHTML, like Gecko) Version/15.4 Safari/605.1.15\", \n",
    "    \"X-Amzn-Trace-Id\": \"Root=1-63ea8b83-62abe2693bb683e84b5f4552\"}\n",
    "\n",
    "page = requests.get(URL, headers=headers)\n",
    "\n",
    "All = BeautifulSoup(page.content, \"html.parser\")\n",
    "\n",
    "pretty_soup = BeautifulSoup(All.prettify(), \"html.parser\")\n",
    "\n",
    "#these will form the basis for our dataframe\n",
    "product_name = pretty_soup.find(itemprop='name').get_text()\n",
    "price = pretty_soup.find(itemprop=\"price\").get_text()\n",
    "\n",
    "\n",
    "print(product_name)\n",
    "print(price)\n",
    "\n"
   ]
  },
  {
   "cell_type": "code",
   "execution_count": 5,
   "id": "19623762-957d-4725-bf5c-23e8142e6aae",
   "metadata": {},
   "outputs": [
    {
     "data": {
      "text/plain": [
       "str"
      ]
     },
     "execution_count": 5,
     "metadata": {},
     "output_type": "execute_result"
    }
   ],
   "source": [
    "type(price)"
   ]
  },
  {
   "cell_type": "code",
   "execution_count": 6,
   "id": "4b876fcb-5a32-4536-94f1-40b950990dd8",
   "metadata": {},
   "outputs": [
    {
     "data": {
      "text/plain": [
       "'59.99'"
      ]
     },
     "execution_count": 6,
     "metadata": {},
     "output_type": "execute_result"
    }
   ],
   "source": [
    "f_price = price.strip()\n",
    "f_price"
   ]
  },
  {
   "cell_type": "code",
   "execution_count": 7,
   "id": "fe1dcb58-168f-4118-b827-513e4d048ba4",
   "metadata": {},
   "outputs": [
    {
     "data": {
      "text/plain": [
       "str"
      ]
     },
     "execution_count": 7,
     "metadata": {},
     "output_type": "execute_result"
    }
   ],
   "source": [
    "type(f_price)"
   ]
  },
  {
   "cell_type": "code",
   "execution_count": 8,
   "id": "37d63be9-bd91-4af5-b734-b4e8355a7d4c",
   "metadata": {},
   "outputs": [
    {
     "name": "stdout",
     "output_type": "stream",
     "text": [
      "59.99\n",
      "<class 'float'>\n"
     ]
    }
   ],
   "source": [
    "c_price = float(f_price)\n",
    "print(c_price)\n",
    "print(type(c_price))"
   ]
  },
  {
   "cell_type": "code",
   "execution_count": 9,
   "id": "41b0a1ed-fbbb-4748-8230-9161e622a42a",
   "metadata": {},
   "outputs": [],
   "source": [
    "c_prod = product_name.strip()"
   ]
  },
  {
   "cell_type": "code",
   "execution_count": 10,
   "id": "ac4e9a80-c836-4379-afff-cf054c153367",
   "metadata": {},
   "outputs": [
    {
     "data": {
      "text/html": [
       "<div>\n",
       "<style scoped>\n",
       "    .dataframe tbody tr th:only-of-type {\n",
       "        vertical-align: middle;\n",
       "    }\n",
       "\n",
       "    .dataframe tbody tr th {\n",
       "        vertical-align: top;\n",
       "    }\n",
       "\n",
       "    .dataframe thead th {\n",
       "        text-align: right;\n",
       "    }\n",
       "</style>\n",
       "<table border=\"1\" class=\"dataframe\">\n",
       "  <thead>\n",
       "    <tr style=\"text-align: right;\">\n",
       "      <th></th>\n",
       "      <th>product_name</th>\n",
       "      <th>price</th>\n",
       "    </tr>\n",
       "  </thead>\n",
       "  <tbody>\n",
       "    <tr>\n",
       "      <th>0</th>\n",
       "      <td>Taste of the Wild High Prairie All Ages Roaste...</td>\n",
       "      <td>59.99</td>\n",
       "    </tr>\n",
       "  </tbody>\n",
       "</table>\n",
       "</div>"
      ],
      "text/plain": [
       "                                        product_name  price\n",
       "0  Taste of the Wild High Prairie All Ages Roaste...  59.99"
      ]
     },
     "execution_count": 10,
     "metadata": {},
     "output_type": "execute_result"
    }
   ],
   "source": [
    "product1 = pd.DataFrame({'product_name':[c_prod],\n",
    "                         'price': [c_price]})\n",
    "product1"
   ]
  },
  {
   "cell_type": "code",
   "execution_count": 11,
   "id": "6195a18f-9d83-44fa-9714-02d863946c97",
   "metadata": {},
   "outputs": [
    {
     "data": {
      "text/html": [
       "<div>\n",
       "<style scoped>\n",
       "    .dataframe tbody tr th:only-of-type {\n",
       "        vertical-align: middle;\n",
       "    }\n",
       "\n",
       "    .dataframe tbody tr th {\n",
       "        vertical-align: top;\n",
       "    }\n",
       "\n",
       "    .dataframe thead th {\n",
       "        text-align: right;\n",
       "    }\n",
       "</style>\n",
       "<table border=\"1\" class=\"dataframe\">\n",
       "  <thead>\n",
       "    <tr style=\"text-align: right;\">\n",
       "      <th></th>\n",
       "      <th>product_name</th>\n",
       "      <th>price</th>\n",
       "    </tr>\n",
       "  </thead>\n",
       "  <tbody>\n",
       "  </tbody>\n",
       "</table>\n",
       "</div>"
      ],
      "text/plain": [
       "Empty DataFrame\n",
       "Columns: [product_name, price]\n",
       "Index: []"
      ]
     },
     "execution_count": 11,
     "metadata": {},
     "output_type": "execute_result"
    }
   ],
   "source": [
    "all_prod = pd.DataFrame(columns=['product_name', 'price'])\n",
    "all_prod"
   ]
  },
  {
   "cell_type": "code",
   "execution_count": 12,
   "id": "2c8fd843-2043-4530-bf8b-f5e76624fbeb",
   "metadata": {},
   "outputs": [],
   "source": [
    "all_prod = pd.concat([all_prod, product1],\n",
    "                     ignore_index = True)"
   ]
  },
  {
   "cell_type": "code",
   "execution_count": 13,
   "id": "7fc9ee54-c548-4d49-a000-829fb5bce258",
   "metadata": {},
   "outputs": [
    {
     "data": {
      "text/html": [
       "<div>\n",
       "<style scoped>\n",
       "    .dataframe tbody tr th:only-of-type {\n",
       "        vertical-align: middle;\n",
       "    }\n",
       "\n",
       "    .dataframe tbody tr th {\n",
       "        vertical-align: top;\n",
       "    }\n",
       "\n",
       "    .dataframe thead th {\n",
       "        text-align: right;\n",
       "    }\n",
       "</style>\n",
       "<table border=\"1\" class=\"dataframe\">\n",
       "  <thead>\n",
       "    <tr style=\"text-align: right;\">\n",
       "      <th></th>\n",
       "      <th>product_name</th>\n",
       "      <th>price</th>\n",
       "    </tr>\n",
       "  </thead>\n",
       "  <tbody>\n",
       "    <tr>\n",
       "      <th>0</th>\n",
       "      <td>Taste of the Wild High Prairie All Ages Roaste...</td>\n",
       "      <td>59.99</td>\n",
       "    </tr>\n",
       "  </tbody>\n",
       "</table>\n",
       "</div>"
      ],
      "text/plain": [
       "                                        product_name  price\n",
       "0  Taste of the Wild High Prairie All Ages Roaste...  59.99"
      ]
     },
     "execution_count": 13,
     "metadata": {},
     "output_type": "execute_result"
    }
   ],
   "source": [
    "all_prod"
   ]
  },
  {
   "cell_type": "markdown",
   "id": "a26483f4-bc7d-456a-ab1d-d6aa7f66d2e2",
   "metadata": {},
   "source": [
    "Nice! Let's add time.\n",
    "\n",
    "We can get the time using the datetime package in Python. "
   ]
  },
  {
   "cell_type": "code",
   "execution_count": 17,
   "id": "764404e1-320a-46fe-b065-89fdc26c8a46",
   "metadata": {},
   "outputs": [
    {
     "name": "stdout",
     "output_type": "stream",
     "text": [
      "The current time is 11:24:04\n"
     ]
    }
   ],
   "source": [
    "date_time = datetime.now() \n",
    "time = date_time.strftime(\"%H:%M:%S\")\n",
    "print(\"The current time is\", time)\n"
   ]
  },
  {
   "cell_type": "code",
   "execution_count": 16,
   "id": "4a4a2f07-4da8-4c60-aa2d-f706ca37f370",
   "metadata": {},
   "outputs": [
    {
     "name": "stdout",
     "output_type": "stream",
     "text": [
      "11:24:01\n"
     ]
    }
   ],
   "source": [
    "#clean that up a little bit\n",
    "time = datetime.now().strftime(\"%H:%M:%S\")\n",
    "print(time)\n"
   ]
  },
  {
   "cell_type": "code",
   "execution_count": 22,
   "id": "d49e7b7d-8a71-4c2e-8ba1-fe82116caf9a",
   "metadata": {},
   "outputs": [],
   "source": [
    "## Let's put that all together\n",
    "\n",
    "# Connect to Website and pull in data\n",
    "\n",
    "URL = 'https://www.acehardware.com/departments/home-and-decor/pet-supplies/pet-food/8505828'\n",
    "\n",
    "headers = {\"User-Agent\": \"Mozilla/5.0 (Macintosh; Intel Mac OS X 10_15_7) AppleWebKit/605.1.15 (KHTML, like Gecko) Version/15.4 Safari/605.1.15\", \n",
    "    \"X-Amzn-Trace-Id\": \"Root=1-63ea8b83-62abe2693bb683e84b5f4552\"}\n",
    "\n",
    "page = requests.get(URL, headers=headers)\n",
    "\n",
    "All = BeautifulSoup(page.content, \"html.parser\")\n",
    "\n",
    "pretty_soup = BeautifulSoup(All.prettify(), \"html.parser\")\n",
    "\n",
    "#these will form the basis for our dataframe\n",
    "product_name = pretty_soup.find(itemprop='name').get_text()\n",
    "price = pretty_soup.find(itemprop=\"price\").get_text()\n",
    "time = datetime.now().strftime(\"%H:%M:%S\")\n",
    "\n",
    "c_prod = product_name.strip()\n",
    "c_price = float(price.strip())\n",
    "\n",
    "product1 = pd.DataFrame({'product_name':[c_prod],\n",
    "                         'price': [c_price],\n",
    "                         'time': [time]})\n",
    "\n",
    "all_prod = pd.DataFrame(columns=['product_name', 'price', 'time'])\n",
    "\n",
    "all_prod = pd.concat([all_prod, product1],\n",
    "                     ignore_index = True)\n"
   ]
  },
  {
   "cell_type": "code",
   "execution_count": 23,
   "id": "36b51ffa-7c68-4ce0-badf-df03b950faae",
   "metadata": {},
   "outputs": [
    {
     "data": {
      "text/html": [
       "<div>\n",
       "<style scoped>\n",
       "    .dataframe tbody tr th:only-of-type {\n",
       "        vertical-align: middle;\n",
       "    }\n",
       "\n",
       "    .dataframe tbody tr th {\n",
       "        vertical-align: top;\n",
       "    }\n",
       "\n",
       "    .dataframe thead th {\n",
       "        text-align: right;\n",
       "    }\n",
       "</style>\n",
       "<table border=\"1\" class=\"dataframe\">\n",
       "  <thead>\n",
       "    <tr style=\"text-align: right;\">\n",
       "      <th></th>\n",
       "      <th>product_name</th>\n",
       "      <th>price</th>\n",
       "      <th>time</th>\n",
       "    </tr>\n",
       "  </thead>\n",
       "  <tbody>\n",
       "    <tr>\n",
       "      <th>0</th>\n",
       "      <td>Taste of the Wild High Prairie All Ages Roaste...</td>\n",
       "      <td>59.99</td>\n",
       "      <td>11:25:40</td>\n",
       "    </tr>\n",
       "  </tbody>\n",
       "</table>\n",
       "</div>"
      ],
      "text/plain": [
       "                                        product_name  price      time\n",
       "0  Taste of the Wild High Prairie All Ages Roaste...  59.99  11:25:40"
      ]
     },
     "execution_count": 23,
     "metadata": {},
     "output_type": "execute_result"
    }
   ],
   "source": [
    "all_prod"
   ]
  },
  {
   "cell_type": "markdown",
   "id": "defcf672-23fd-4f78-8e66-43b06a25994b",
   "metadata": {},
   "source": [
    "# Clean all that up"
   ]
  },
  {
   "cell_type": "code",
   "execution_count": 24,
   "id": "67a6a4f7-89d2-445e-a9b3-d0afb956365e",
   "metadata": {},
   "outputs": [],
   "source": [
    "all_prod = pd.DataFrame(columns=['product_name', 'price', 'time'])"
   ]
  },
  {
   "cell_type": "code",
   "execution_count": 25,
   "id": "3c6124f4-e7df-4a41-9f2a-7869f2451665",
   "metadata": {},
   "outputs": [
    {
     "data": {
      "text/html": [
       "<div>\n",
       "<style scoped>\n",
       "    .dataframe tbody tr th:only-of-type {\n",
       "        vertical-align: middle;\n",
       "    }\n",
       "\n",
       "    .dataframe tbody tr th {\n",
       "        vertical-align: top;\n",
       "    }\n",
       "\n",
       "    .dataframe thead th {\n",
       "        text-align: right;\n",
       "    }\n",
       "</style>\n",
       "<table border=\"1\" class=\"dataframe\">\n",
       "  <thead>\n",
       "    <tr style=\"text-align: right;\">\n",
       "      <th></th>\n",
       "      <th>product_name</th>\n",
       "      <th>price</th>\n",
       "      <th>time</th>\n",
       "    </tr>\n",
       "  </thead>\n",
       "  <tbody>\n",
       "  </tbody>\n",
       "</table>\n",
       "</div>"
      ],
      "text/plain": [
       "Empty DataFrame\n",
       "Columns: [product_name, price, time]\n",
       "Index: []"
      ]
     },
     "execution_count": 25,
     "metadata": {},
     "output_type": "execute_result"
    }
   ],
   "source": [
    "all_prod"
   ]
  },
  {
   "cell_type": "code",
   "execution_count": 26,
   "id": "67dde841-9028-4518-a022-f6f0692e5e4c",
   "metadata": {},
   "outputs": [],
   "source": [
    "def get_me_dog_food():\n",
    "    URL = 'https://www.acehardware.com/departments/home-and-decor/pet-supplies/pet-food/8505828'\n",
    "\n",
    "    headers = {\"User-Agent\": \"Mozilla/5.0 (Macintosh; Intel Mac OS X 10_15_7) AppleWebKit/605.1.15 (KHTML, like Gecko) Version/15.4 Safari/605.1.15\", \n",
    "        \"X-Amzn-Trace-Id\": \"Root=1-63ea8b83-62abe2693bb683e84b5f4552\"}\n",
    "\n",
    "    page = requests.get(URL, headers=headers)\n",
    "\n",
    "    All = BeautifulSoup(page.content, \"html.parser\")\n",
    "\n",
    "    pretty_soup = BeautifulSoup(All.prettify(), \"html.parser\")\n",
    "\n",
    "    #these will form the basis for our dataframe\n",
    "    product_name = pretty_soup.find(itemprop='name').get_text()\n",
    "    price = pretty_soup.find(itemprop=\"price\").get_text()\n",
    "    time = datetime.now().strftime(\"%H:%M:%S\")\n",
    "\n",
    "    c_prod = product_name.strip()\n",
    "    c_price = float(price.strip())\n",
    "\n",
    "    df = pd.DataFrame({'product_name':[c_prod],\n",
    "                             'price': [c_price],\n",
    "                             'time': [time]})\n",
    "\n",
    "    return df\n"
   ]
  },
  {
   "cell_type": "code",
   "execution_count": 31,
   "id": "96427d40-6f65-4712-ab16-0c145e4ea43f",
   "metadata": {},
   "outputs": [
    {
     "data": {
      "text/html": [
       "<div>\n",
       "<style scoped>\n",
       "    .dataframe tbody tr th:only-of-type {\n",
       "        vertical-align: middle;\n",
       "    }\n",
       "\n",
       "    .dataframe tbody tr th {\n",
       "        vertical-align: top;\n",
       "    }\n",
       "\n",
       "    .dataframe thead th {\n",
       "        text-align: right;\n",
       "    }\n",
       "</style>\n",
       "<table border=\"1\" class=\"dataframe\">\n",
       "  <thead>\n",
       "    <tr style=\"text-align: right;\">\n",
       "      <th></th>\n",
       "      <th>product_name</th>\n",
       "      <th>price</th>\n",
       "      <th>time</th>\n",
       "    </tr>\n",
       "  </thead>\n",
       "  <tbody>\n",
       "    <tr>\n",
       "      <th>0</th>\n",
       "      <td>Taste of the Wild High Prairie All Ages Roaste...</td>\n",
       "      <td>59.99</td>\n",
       "      <td>11:28:00</td>\n",
       "    </tr>\n",
       "    <tr>\n",
       "      <th>1</th>\n",
       "      <td>Taste of the Wild High Prairie All Ages Roaste...</td>\n",
       "      <td>59.99</td>\n",
       "      <td>11:28:07</td>\n",
       "    </tr>\n",
       "    <tr>\n",
       "      <th>2</th>\n",
       "      <td>Taste of the Wild High Prairie All Ages Roaste...</td>\n",
       "      <td>59.99</td>\n",
       "      <td>11:28:13</td>\n",
       "    </tr>\n",
       "    <tr>\n",
       "      <th>3</th>\n",
       "      <td>Taste of the Wild High Prairie All Ages Roaste...</td>\n",
       "      <td>59.99</td>\n",
       "      <td>11:29:56</td>\n",
       "    </tr>\n",
       "    <tr>\n",
       "      <th>4</th>\n",
       "      <td>Taste of the Wild High Prairie All Ages Roaste...</td>\n",
       "      <td>59.99</td>\n",
       "      <td>11:30:02</td>\n",
       "    </tr>\n",
       "  </tbody>\n",
       "</table>\n",
       "</div>"
      ],
      "text/plain": [
       "                                        product_name  price      time\n",
       "0  Taste of the Wild High Prairie All Ages Roaste...  59.99  11:28:00\n",
       "1  Taste of the Wild High Prairie All Ages Roaste...  59.99  11:28:07\n",
       "2  Taste of the Wild High Prairie All Ages Roaste...  59.99  11:28:13\n",
       "3  Taste of the Wild High Prairie All Ages Roaste...  59.99  11:29:56\n",
       "4  Taste of the Wild High Prairie All Ages Roaste...  59.99  11:30:02"
      ]
     },
     "execution_count": 31,
     "metadata": {},
     "output_type": "execute_result"
    }
   ],
   "source": [
    "scrappy = get_me_dog_food()\n",
    "all_prod= pd.concat([all_prod, scrappy],\n",
    "                     ignore_index = True)\n",
    "all_prod"
   ]
  },
  {
   "cell_type": "code",
   "execution_count": 34,
   "id": "74565e34-d1e4-4dd3-b929-f634c726a008",
   "metadata": {},
   "outputs": [
    {
     "data": {
      "text/plain": [
       "'/Users/joeldavis/Library/CloudStorage/OneDrive-UniversityofFlorida/Documents/courses/QMB3302/notebooks/notebooks'"
      ]
     },
     "execution_count": 34,
     "metadata": {},
     "output_type": "execute_result"
    }
   ],
   "source": [
    "import os\n",
    "os.getcwd()"
   ]
  },
  {
   "cell_type": "code",
   "execution_count": null,
   "id": "bd4f4833-ed18-4da3-9f0c-e0ab424a3580",
   "metadata": {},
   "outputs": [],
   "source": []
  }
 ],
 "metadata": {
  "kernelspec": {
   "display_name": "Python 3 (ipykernel)",
   "language": "python",
   "name": "python3"
  },
  "language_info": {
   "codemirror_mode": {
    "name": "ipython",
    "version": 3
   },
   "file_extension": ".py",
   "mimetype": "text/x-python",
   "name": "python",
   "nbconvert_exporter": "python",
   "pygments_lexer": "ipython3",
   "version": "3.9.12"
  }
 },
 "nbformat": 4,
 "nbformat_minor": 5
}
