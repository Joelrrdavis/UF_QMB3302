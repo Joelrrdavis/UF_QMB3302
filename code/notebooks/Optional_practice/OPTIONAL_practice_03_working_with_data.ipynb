{
 "cells": [
  {
   "cell_type": "markdown",
   "metadata": {},
   "source": [
    "# NumPy, Pandas\n",
    "\n"
   ]
  },
  {
   "cell_type": "code",
   "execution_count": null,
   "metadata": {},
   "outputs": [],
   "source": [
    "#write the code necessary to import numpy as np\n",
    "\n",
    "\n",
    "#Here are 2 lists, write the code to convert them to a numpy array\n",
    "x = [1, 2, 2]\n",
    "z = [8, 3, 6]\n",
    "\n",
    "\n"
   ]
  },
  {
   "cell_type": "code",
   "execution_count": null,
   "metadata": {},
   "outputs": [],
   "source": [
    "#using your code above for your array(s). What would you expect to see\n",
    "#if you multiplied them together? What about division? Can you think of\n",
    "#why that works?\n",
    "\n"
   ]
  },
  {
   "cell_type": "code",
   "execution_count": 1,
   "metadata": {},
   "outputs": [],
   "source": [
    "#what shape is your array in? How would you write the code to get the shape?"
   ]
  },
  {
   "cell_type": "code",
   "execution_count": 2,
   "metadata": {},
   "outputs": [],
   "source": [
    "#write the code to view just the first value in your array based on list 'x'"
   ]
  },
  {
   "cell_type": "code",
   "execution_count": 3,
   "metadata": {},
   "outputs": [],
   "source": [
    "#write the code to get the mean of the array based on list 'z'\n",
    "\n",
    "#write the code to get the median of the array as well"
   ]
  },
  {
   "cell_type": "markdown",
   "metadata": {},
   "source": [
    "Function Name |\tNaN-safe Version  |\tDescription\n",
    "--------------|-------------------|-----\n",
    "np.sum | np.nansum\t| Compute sum of elements\n",
    "np.prod\t|np.nanprod\t|Compute product of elements\n",
    "np.mean\t|np.nanmean\t|Compute mean of elements\n",
    "np.std\t|np.nanstd\t|Compute standard deviation\n",
    "np.var\t|np.nanvar\t|Compute variance\n",
    "np.min\t|np.nanmin\t|Find minimum value\n",
    "np.max\t|np.nanmax\t|Find maximum value\n",
    "np.argmin\t|np.nanargmin\t|Find index of minimum value\n",
    "np.argmax\t|np.nanargmax\t|Find index of maximum value\n",
    "np.median\t|np.nanmedian\t|Compute median of elements\n",
    "np.percentile\t|np.nanpercentile\t|Compute rank-based statistics of elements\n",
    "np.any\t|N/A\t|Evaluate whether any elements are true\n",
    "np.all\t|N/A\t|Evaluate whether all elements are true\n",
    "\n",
    "The above table is a modified version of the table in the online text book: A Whirlwind Tour of Python by Jake VanderPlas (O’Reilly). Copyright 2016 O’Reilly Media, Inc., 978-1-491-96465-1. Available online at https://jakevdp.github.io/WhirlwindTourOfPython/"
   ]
  },
  {
   "cell_type": "code",
   "execution_count": null,
   "metadata": {},
   "outputs": [],
   "source": [
    "#can you think of the purpose for the below code? Why would \n",
    "#you use it?\n",
    "\n",
    "import os\n",
    "os.getcwd()\n"
   ]
  },
  {
   "cell_type": "code",
   "execution_count": 5,
   "metadata": {
    "scrolled": true
   },
   "outputs": [],
   "source": [
    "#this is an example of a relative directory. \n",
    "#what is the relative directory on your machine for Module 3 data?\n",
    "import pandas as pd\n",
    "path = \"../data/segments.csv\"\n",
    "\n"
   ]
  },
  {
   "cell_type": "code",
   "execution_count": 7,
   "metadata": {},
   "outputs": [],
   "source": [
    "#import the excel file segments.xlsx from the class files as a pandas dataframe, and fix the code \n",
    "#so that the header is correct. \n",
    "\n"
   ]
  },
  {
   "cell_type": "code",
   "execution_count": 8,
   "metadata": {},
   "outputs": [],
   "source": [
    "#using that excel file that you have imported. Practice subsetting out columns (you choose)\n",
    "#as shown in the videos"
   ]
  },
  {
   "cell_type": "code",
   "execution_count": null,
   "metadata": {},
   "outputs": [],
   "source": [
    "#still using that dataframe, how would you groupby a column in\n",
    "#that dataframe? Try several groupbys. "
   ]
  }
 ],
 "metadata": {
  "kernelspec": {
   "display_name": "Python 3 (ipykernel)",
   "language": "python",
   "name": "python3"
  },
  "language_info": {
   "codemirror_mode": {
    "name": "ipython",
    "version": 3
   },
   "file_extension": ".py",
   "mimetype": "text/x-python",
   "name": "python",
   "nbconvert_exporter": "python",
   "pygments_lexer": "ipython3",
   "version": "3.11.9"
  },
  "toc-autonumbering": true
 },
 "nbformat": 4,
 "nbformat_minor": 4
}
