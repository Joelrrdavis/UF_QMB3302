{
 "cells": [
  {
   "cell_type": "code",
   "execution_count": 2,
   "id": "bcbdde38",
   "metadata": {},
   "outputs": [],
   "source": [
    "import pandas as pd\n",
    "import numpy as np\n",
    "from matplotlib import pyplot as plt\n",
    "import seaborn as sns\n",
    "\n",
    "#make the plots show up inline\n",
    "%matplotlib inline \n",
    "#these imports are taken directly from the weekly notebook, always useful to have"
   ]
  },
  {
   "cell_type": "markdown",
   "id": "4e0fe6f7-4a81-4c85-87e1-df0445124981",
   "metadata": {},
   "source": [
    "In the following chunk of code, look closely at the 'newpath' variable. This variable, along with the next line of code \"data_path\" create a path that looks like \n",
    "\n",
    "``data/construction_spending.csv``\n",
    "\n",
    "That structure assumes that the data folder is in the same directory as this code. But it may be that you have a structure you like better... if you need to change that to move \"up\" one level to find a data folder... it is a simple fix. Change newpath!\n",
    "\n",
    "``newpath = os.path.join(\"../data\")``\n"
   ]
  },
  {
   "cell_type": "code",
   "execution_count": 5,
   "id": "1e6fe589",
   "metadata": {},
   "outputs": [
    {
     "data": {
      "text/html": [
       "<div>\n",
       "<style scoped>\n",
       "    .dataframe tbody tr th:only-of-type {\n",
       "        vertical-align: middle;\n",
       "    }\n",
       "\n",
       "    .dataframe tbody tr th {\n",
       "        vertical-align: top;\n",
       "    }\n",
       "\n",
       "    .dataframe thead th {\n",
       "        text-align: right;\n",
       "    }\n",
       "</style>\n",
       "<table border=\"1\" class=\"dataframe\">\n",
       "  <thead>\n",
       "    <tr style=\"text-align: right;\">\n",
       "      <th></th>\n",
       "      <th>time.index</th>\n",
       "      <th>time.month</th>\n",
       "      <th>time.month name</th>\n",
       "      <th>time.period</th>\n",
       "      <th>time.year</th>\n",
       "      <th>annual.combined.amusement and recreation</th>\n",
       "      <th>annual.combined.commercial</th>\n",
       "      <th>annual.combined.communication</th>\n",
       "      <th>annual.combined.conservation and development</th>\n",
       "      <th>annual.combined.educational</th>\n",
       "      <th>...</th>\n",
       "      <th>current.public.nonresidential</th>\n",
       "      <th>current.public.office</th>\n",
       "      <th>current.public.power</th>\n",
       "      <th>current.public.public safety</th>\n",
       "      <th>current.public.religious</th>\n",
       "      <th>current.public.residential</th>\n",
       "      <th>current.public.sewage and waste disposal</th>\n",
       "      <th>current.public.total construction</th>\n",
       "      <th>current.public.transportation</th>\n",
       "      <th>current.public.water supply</th>\n",
       "    </tr>\n",
       "  </thead>\n",
       "  <tbody>\n",
       "    <tr>\n",
       "      <th>0</th>\n",
       "      <td>1</td>\n",
       "      <td>1</td>\n",
       "      <td>Jan</td>\n",
       "      <td>Jan2002</td>\n",
       "      <td>2002</td>\n",
       "      <td>17866</td>\n",
       "      <td>68254</td>\n",
       "      <td>18873</td>\n",
       "      <td>3603</td>\n",
       "      <td>72357</td>\n",
       "      <td>...</td>\n",
       "      <td>13844</td>\n",
       "      <td>697</td>\n",
       "      <td>273</td>\n",
       "      <td>637</td>\n",
       "      <td>0</td>\n",
       "      <td>400</td>\n",
       "      <td>1127</td>\n",
       "      <td>14243</td>\n",
       "      <td>1285</td>\n",
       "      <td>826</td>\n",
       "    </tr>\n",
       "    <tr>\n",
       "      <th>1</th>\n",
       "      <td>2</td>\n",
       "      <td>2</td>\n",
       "      <td>Feb</td>\n",
       "      <td>Feb2002</td>\n",
       "      <td>2002</td>\n",
       "      <td>18317</td>\n",
       "      <td>65840</td>\n",
       "      <td>19943</td>\n",
       "      <td>3712</td>\n",
       "      <td>74336</td>\n",
       "      <td>...</td>\n",
       "      <td>13691</td>\n",
       "      <td>661</td>\n",
       "      <td>284</td>\n",
       "      <td>640</td>\n",
       "      <td>0</td>\n",
       "      <td>423</td>\n",
       "      <td>1119</td>\n",
       "      <td>14113</td>\n",
       "      <td>1318</td>\n",
       "      <td>851</td>\n",
       "    </tr>\n",
       "    <tr>\n",
       "      <th>2</th>\n",
       "      <td>3</td>\n",
       "      <td>3</td>\n",
       "      <td>Mar</td>\n",
       "      <td>Mar2002</td>\n",
       "      <td>2002</td>\n",
       "      <td>17988</td>\n",
       "      <td>66722</td>\n",
       "      <td>19092</td>\n",
       "      <td>3332</td>\n",
       "      <td>72247</td>\n",
       "      <td>...</td>\n",
       "      <td>13967</td>\n",
       "      <td>728</td>\n",
       "      <td>222</td>\n",
       "      <td>626</td>\n",
       "      <td>0</td>\n",
       "      <td>420</td>\n",
       "      <td>1182</td>\n",
       "      <td>14386</td>\n",
       "      <td>1452</td>\n",
       "      <td>865</td>\n",
       "    </tr>\n",
       "    <tr>\n",
       "      <th>3</th>\n",
       "      <td>4</td>\n",
       "      <td>4</td>\n",
       "      <td>Apr</td>\n",
       "      <td>Apr2002</td>\n",
       "      <td>2002</td>\n",
       "      <td>17264</td>\n",
       "      <td>64879</td>\n",
       "      <td>19150</td>\n",
       "      <td>3076</td>\n",
       "      <td>74553</td>\n",
       "      <td>...</td>\n",
       "      <td>15791</td>\n",
       "      <td>798</td>\n",
       "      <td>369</td>\n",
       "      <td>638</td>\n",
       "      <td>0</td>\n",
       "      <td>430</td>\n",
       "      <td>1272</td>\n",
       "      <td>16221</td>\n",
       "      <td>1479</td>\n",
       "      <td>967</td>\n",
       "    </tr>\n",
       "    <tr>\n",
       "      <th>4</th>\n",
       "      <td>5</td>\n",
       "      <td>5</td>\n",
       "      <td>May</td>\n",
       "      <td>May2002</td>\n",
       "      <td>2002</td>\n",
       "      <td>16988</td>\n",
       "      <td>62741</td>\n",
       "      <td>18735</td>\n",
       "      <td>3199</td>\n",
       "      <td>75577</td>\n",
       "      <td>...</td>\n",
       "      <td>17937</td>\n",
       "      <td>864</td>\n",
       "      <td>388</td>\n",
       "      <td>654</td>\n",
       "      <td>0</td>\n",
       "      <td>438</td>\n",
       "      <td>1417</td>\n",
       "      <td>18375</td>\n",
       "      <td>1652</td>\n",
       "      <td>1082</td>\n",
       "    </tr>\n",
       "  </tbody>\n",
       "</table>\n",
       "<p>5 rows × 119 columns</p>\n",
       "</div>"
      ],
      "text/plain": [
       "   time.index  time.month time.month name time.period  time.year  \\\n",
       "0           1           1             Jan     Jan2002       2002   \n",
       "1           2           2             Feb     Feb2002       2002   \n",
       "2           3           3             Mar     Mar2002       2002   \n",
       "3           4           4             Apr     Apr2002       2002   \n",
       "4           5           5             May     May2002       2002   \n",
       "\n",
       "   annual.combined.amusement and recreation  annual.combined.commercial  \\\n",
       "0                                     17866                       68254   \n",
       "1                                     18317                       65840   \n",
       "2                                     17988                       66722   \n",
       "3                                     17264                       64879   \n",
       "4                                     16988                       62741   \n",
       "\n",
       "   annual.combined.communication  \\\n",
       "0                          18873   \n",
       "1                          19943   \n",
       "2                          19092   \n",
       "3                          19150   \n",
       "4                          18735   \n",
       "\n",
       "   annual.combined.conservation and development  annual.combined.educational  \\\n",
       "0                                          3603                        72357   \n",
       "1                                          3712                        74336   \n",
       "2                                          3332                        72247   \n",
       "3                                          3076                        74553   \n",
       "4                                          3199                        75577   \n",
       "\n",
       "   ...  current.public.nonresidential  current.public.office  \\\n",
       "0  ...                          13844                    697   \n",
       "1  ...                          13691                    661   \n",
       "2  ...                          13967                    728   \n",
       "3  ...                          15791                    798   \n",
       "4  ...                          17937                    864   \n",
       "\n",
       "   current.public.power  current.public.public safety  \\\n",
       "0                   273                           637   \n",
       "1                   284                           640   \n",
       "2                   222                           626   \n",
       "3                   369                           638   \n",
       "4                   388                           654   \n",
       "\n",
       "   current.public.religious  current.public.residential  \\\n",
       "0                         0                         400   \n",
       "1                         0                         423   \n",
       "2                         0                         420   \n",
       "3                         0                         430   \n",
       "4                         0                         438   \n",
       "\n",
       "   current.public.sewage and waste disposal  \\\n",
       "0                                      1127   \n",
       "1                                      1119   \n",
       "2                                      1182   \n",
       "3                                      1272   \n",
       "4                                      1417   \n",
       "\n",
       "   current.public.total construction  current.public.transportation  \\\n",
       "0                              14243                           1285   \n",
       "1                              14113                           1318   \n",
       "2                              14386                           1452   \n",
       "3                              16221                           1479   \n",
       "4                              18375                           1652   \n",
       "\n",
       "   current.public.water supply  \n",
       "0                          826  \n",
       "1                          851  \n",
       "2                          865  \n",
       "3                          967  \n",
       "4                         1082  \n",
       "\n",
       "[5 rows x 119 columns]"
      ]
     },
     "execution_count": 5,
     "metadata": {},
     "output_type": "execute_result"
    }
   ],
   "source": [
    "import os #important to import when dealing with data\n",
    "import urllib #used to grab datasets from the web\n",
    "#this importmethod can be seen in the week 5 optional notebook\n",
    "url = 'https://corgis-edu.github.io/corgis/datasets/csv/construction_spending/construction_spending.csv'\n",
    "newpath = os.path.join(\"data\")\n",
    "data_path = os.path.join(newpath,\"construction_spending.csv\" )\n",
    "req = urllib.request.urlretrieve(url, data_path)\n",
    "construction_data = pd.read_csv(data_path)\n",
    "construction_data.head()"
   ]
  },
  {
   "cell_type": "markdown",
   "id": "47b1b196",
   "metadata": {},
   "source": [
    "# In this weekly notebook we once again get to act like data scientist except this time we are focusing on modeling and regression\n",
    "## The data set chosen this week has the relevant information of being about construction costs (Total dollar value spent). The government has spent trillions on construction throughout history, so lets dive deeper especially with the 1 trillion dollar infrastructure bill passed in 2021"
   ]
  },
  {
   "cell_type": "code",
   "execution_count": 6,
   "id": "74584435",
   "metadata": {},
   "outputs": [
    {
     "data": {
      "text/plain": [
       "<AxesSubplot:xlabel='time.year'>"
      ]
     },
     "execution_count": 6,
     "metadata": {},
     "output_type": "execute_result"
    },
    {
     "data": {
      "image/png": "[encoded data removed]",
      "text/plain": [
       "<Figure size 432x288 with 1 Axes>"
      ]
     },
     "metadata": {
      "needs_background": "light"
     },
     "output_type": "display_data"
    }
   ],
   "source": [
    "#lets start by just taking a look at the data, I quickly want to check how much we have spent on communication construction vs educational \n",
    "construction_data.plot('time.year', y = ['annual.combined.communication', 'annual.combined.educational' ])"
   ]
  },
  {
   "cell_type": "markdown",
   "id": "ecd2a948",
   "metadata": {},
   "source": [
    "## At a quick glance we can see we spend far more on education infrastructure than communications, around the receccsion we see this spending drop, less money in the economy means less money for projects"
   ]
  },
  {
   "cell_type": "code",
   "execution_count": 40,
   "id": "95397bc9",
   "metadata": {},
   "outputs": [
    {
     "data": {
      "image/png": "[encoded data removed]",
      "text/plain": [
       "<Figure size 432x288 with 1 Axes>"
      ]
     },
     "metadata": {
      "needs_background": "light"
     },
     "output_type": "display_data"
    }
   ],
   "source": [
    "#one more review lets do some sns stuff\n",
    "chart= sns.boxplot(x='time.year', y ='annual.private.transportation', #fill this out)\n",
    "chart =sns.boxplot(x='time.year', y ='annual.public.transportation', #fill this out)\n",
    "chart.set_xticklabels(chart.get_xticklabels(), #change tick rotation)\n",
    "chart.set(ylabel= 'Dollars Spent')\n",
    "plt.show()"
   ]
  },
  {
   "cell_type": "markdown",
   "id": "349ed4f8",
   "metadata": {},
   "source": [
    "## As this is a quick referesher there are tons of ways to change this graph, ideas include change colors, use different types of graphs, label each of the series ETC...\n",
    "### The previous examples were made to give you a taste of the data and show it is working data that is can be understoof if plotted\n",
    "#### Edit it some more below if youd like and play around"
   ]
  },
  {
   "cell_type": "code",
   "execution_count": null,
   "id": "4a4ab2ce",
   "metadata": {},
   "outputs": [],
   "source": [
    "#optional feel free to replot, change data, or edit"
   ]
  },
  {
   "cell_type": "code",
   "execution_count": null,
   "id": "f86c0394",
   "metadata": {},
   "outputs": [],
   "source": [
    "#optional feel free to replot, change data, or edit"
   ]
  },
  {
   "cell_type": "code",
   "execution_count": null,
   "id": "699072de",
   "metadata": {},
   "outputs": [],
   "source": [
    "#optional feel free to replot, change data, or edit"
   ]
  },
  {
   "cell_type": "markdown",
   "id": "22337396",
   "metadata": {},
   "source": [
    "# Now we have plotted and have found obvservational information about the data, but what about the hard facts. Whats the mean of a certain column of data and even more so, whats the regression on it?"
   ]
  },
  {
   "cell_type": "code",
   "execution_count": 3,
   "id": "0146dc3f",
   "metadata": {},
   "outputs": [],
   "source": [
    "# linear regression is predicting on value based on another, luckily sickit learn is good at this\n",
    "from sklearn.linear_model import LinearRegression"
   ]
  },
  {
   "cell_type": "code",
   "execution_count": 4,
   "id": "c1e1b108",
   "metadata": {},
   "outputs": [],
   "source": [
    "x= np.array(construction_data['time.year'])\n",
    "y= construction_data['annual.combined.power']"
   ]
  },
  {
   "cell_type": "code",
   "execution_count": 5,
   "id": "5e5c77cd",
   "metadata": {},
   "outputs": [
    {
     "data": {
      "text/plain": [
       "LinearRegression()"
      ]
     },
     "execution_count": 5,
     "metadata": {},
     "output_type": "execute_result"
    }
   ],
   "source": [
    "# Create a LinearRegression object\n",
    "\n",
    "model = LinearRegression()\n",
    "# Fit the model to the data\n",
    "model.fit(x.reshape(-1,1), y)"
   ]
  },
  {
   "cell_type": "code",
   "execution_count": 6,
   "id": "7b051763",
   "metadata": {},
   "outputs": [
    {
     "name": "stdout",
     "output_type": "stream",
     "text": [
      "Intercept:  -10761473.330240857\n",
      "Coefficient:  [5392.13520878]\n"
     ]
    }
   ],
   "source": [
    "# Print the coefficients of the linear equation\n",
    "print(\"Intercept: \", model.intercept_)\n",
    "print(\"Coefficient: \", model.coef_)"
   ]
  },
  {
   "cell_type": "code",
   "execution_count": 87,
   "id": "ecd994a7",
   "metadata": {},
   "outputs": [
    {
     "data": {
      "image/png": "[encoded data removed]",
      "text/plain": [
       "<Figure size 432x288 with 1 Axes>"
      ]
     },
     "metadata": {
      "needs_background": "light"
     },
     "output_type": "display_data"
    }
   ],
   "source": [
    "#lets plot this linear regression we just made\n",
    "import matplotlib.pyplot as plt\n",
    "# Plot the linear regression line\n",
    "x_line = x  # Create 100 evenly spaced points between 0 and 1\n",
    "#y_line = model(x_line.reshape(-1, 1))  # Predict the corresponding y values two of these should be deleted 1 uncomment\n",
    "#y_line = model.predict(x_line.reshape(-1, 1))  # Predict the corresponding y values two of these should be deleted 1 uncomment\n",
    "#y_line = model.predict(x)  # Predict the corresponding y values two of these should be deleted 1 uncomment\n",
    "plt.plot(x_line, y_line, color='red')\n",
    "# Add axis labels and a title\n",
    "plt.xlabel('X')\n",
    "plt.ylabel('y')\n",
    "plt.title('Linear Regression')\n",
    "# Show the plot\n",
    "plt.show()\n"
   ]
  },
  {
   "cell_type": "markdown",
   "id": "dffa8edc",
   "metadata": {},
   "source": [
    "# Now what would this data tell me, well in 2017 I should have the following total spending:"
   ]
  },
  {
   "cell_type": "code",
   "execution_count": 1,
   "id": "ae218597",
   "metadata": {},
   "outputs": [
    {
     "ename": "NameError",
     "evalue": "name 'Year_2017' is not defined",
     "output_type": "error",
     "traceback": [
      "\u001b[1;31m---------------------------------------------------------------------------\u001b[0m",
      "\u001b[1;31mNameError\u001b[0m                                 Traceback (most recent call last)",
      "\u001b[1;32m<ipython-input-1-f6d7fa895e92>\u001b[0m in \u001b[0;36m<module>\u001b[1;34m\u001b[0m\n\u001b[0;32m      1\u001b[0m \u001b[1;31m#using y = mx + b\u001b[0m\u001b[1;33m\u001b[0m\u001b[1;33m\u001b[0m\u001b[1;33m\u001b[0m\u001b[0m\n\u001b[0;32m      2\u001b[0m \u001b[1;31m#solve for the value of the year 2017\u001b[0m\u001b[1;33m\u001b[0m\u001b[1;33m\u001b[0m\u001b[1;33m\u001b[0m\u001b[0m\n\u001b[1;32m----> 3\u001b[1;33m \u001b[0mprint\u001b[0m\u001b[1;33m(\u001b[0m\u001b[0mYear_2017\u001b[0m\u001b[1;33m)\u001b[0m\u001b[1;33m\u001b[0m\u001b[1;33m\u001b[0m\u001b[0m\n\u001b[0m",
      "\u001b[1;31mNameError\u001b[0m: name 'Year_2017' is not defined"
     ]
    }
   ],
   "source": [
    "#using y = mx + b\n",
    "#solve for the value of the year 2017\n",
    "print(Year_2017)"
   ]
  },
  {
   "cell_type": "code",
   "execution_count": 90,
   "id": "abcab501",
   "metadata": {},
   "outputs": [
    {
     "data": {
      "image/png": "[encoded data removed]",
      "text/plain": [
       "<Figure size 432x288 with 1 Axes>"
      ]
     },
     "metadata": {
      "needs_background": "light"
     },
     "output_type": "display_data"
    }
   ],
   "source": [
    "#lets do an eye test for this value\n",
    "graph = construction_data.plot('time.year', 'annual.combined.power' )"
   ]
  },
  {
   "cell_type": "markdown",
   "id": "025f96f2",
   "metadata": {},
   "source": [
    "### Well it does seem possible that the number could be there but we can never know because we never extrapolate for future data, just try it again with 2016 and compare the predicted vs actual"
   ]
  },
  {
   "cell_type": "code",
   "execution_count": 11,
   "id": "94d35a94",
   "metadata": {},
   "outputs": [
    {
     "name": "stdout",
     "output_type": "stream",
     "text": [
      "109071.25065962225\n"
     ]
    }
   ],
   "source": [
    "#using y = mx + b\n",
    "#solve for the value of the year 2016\n",
    "print(Year_2016)\n"
   ]
  },
  {
   "cell_type": "code",
   "execution_count": 105,
   "id": "a8532085",
   "metadata": {},
   "outputs": [
    {
     "data": {
      "image/png": "[encoded data removed]",
      "text/plain": [
       "<Figure size 432x288 with 1 Axes>"
      ]
     },
     "metadata": {
      "needs_background": "light"
     },
     "output_type": "display_data"
    }
   ],
   "source": [
    "construction_data.plot('time.year',  'annual.combined.power' )\n",
    "plt.scatter(#[year],[solved value],color = \"red\")\n",
    "plt.show()\n"
   ]
  },
  {
   "cell_type": "markdown",
   "id": "a87ed98a",
   "metadata": {},
   "source": [
    "# Well I guess its not too far off. I now want to make the regression line go through my data, heres one way to do that based off the model"
   ]
  },
  {
   "cell_type": "code",
   "execution_count": 122,
   "id": "80cfacb2",
   "metadata": {},
   "outputs": [
    {
     "data": {
      "image/png": "[encoded data removed]",
      "text/plain": [
       "<Figure size 432x288 with 1 Axes>"
      ]
     },
     "metadata": {
      "needs_background": "light"
     },
     "output_type": "display_data"
    }
   ],
   "source": [
    "#find the 2002 number \n",
    "#plot it\n",
    "#connect the lines\n",
    "construction_data.plot('time.year',  'annual.combined.power' )\n",
    "plt.plot([2002,2016], [40000, 109071.25065962225], color = \"red\",label = \"regression\")\n",
    "leg = plt.legend(loc='upper center')\n",
    "plt.show()"
   ]
  },
  {
   "cell_type": "markdown",
   "id": "c52e01e1",
   "metadata": {},
   "source": [
    "## Here you can see the trend line roughly follows the data."
   ]
  },
  {
   "cell_type": "markdown",
   "id": "4e9e7a1d",
   "metadata": {},
   "source": [
    "### Notice that with only two points we can make the line, I used the first and last point roughly. Furthermore my model is based soley on a yearly basis and not on the overall trend of monthly changes, doing so could improve the line further"
   ]
  },
  {
   "cell_type": "markdown",
   "id": "9e440799",
   "metadata": {},
   "source": [
    "# Seeing is one thing but another way to truly check if the trend line and model predictor is accurate is to find the correlation between the data"
   ]
  },
  {
   "cell_type": "code",
   "execution_count": 31,
   "id": "2747ee2d",
   "metadata": {},
   "outputs": [],
   "source": [
    "regression_data=np.array([]) #create a np array\n",
    "year = 2002\n",
    "for x in range(#I want the range of the column of construction data, aka how large it is) :\n",
    "    if(x%11 == 0):#mod by 11 as years are off by one because arrays are indexed at zero\n",
    "        year+=1 #shorthand to add a variable to itself\n",
    "    line = #y = mx+b\n",
    "    regression_data= np.append(regression_data,line)"
   ]
  },
  {
   "cell_type": "code",
   "execution_count": 37,
   "id": "2d619c01",
   "metadata": {},
   "outputs": [
    {
     "name": "stdout",
     "output_type": "stream",
     "text": [
      "Correlation coefficient: 0.8743687937868831\n"
     ]
    }
   ],
   "source": [
    "corrm = np.corrcoef(#what value, #what value) #create a correlation matrix from regression data\n",
    "#hint correlation should be between two variables or in this case two matrices/lines\n",
    "corr_coeff = corrm[0, 1]\n",
    "print(f\"Correlation coefficient: {corr_coeff}\") #way of printing"
   ]
  },
  {
   "cell_type": "code",
   "execution_count": 43,
   "id": "e8939085",
   "metadata": {},
   "outputs": [
    {
     "data": {
      "image/png": "[encoded data removed]",
      "text/plain": [
       "<Figure size 432x288 with 1 Axes>"
      ]
     },
     "metadata": {
      "needs_background": "light"
     },
     "output_type": "display_data"
    }
   ],
   "source": [
    "#Final plot all together\n",
    "fig, ax = plt.subplots()\n",
    "ax.plot(#what should the x be, y,label='Construction data')\n",
    "ax.plot(#what should the x be, y, label='Regression Data', color = 'red')\n",
    "ax.legend()\n",
    "plt.show()"
   ]
  },
  {
   "cell_type": "markdown",
   "id": "5bfd7f57",
   "metadata": {},
   "source": [
    "Here you can see on a yearly level the plot roughly follows suit with a general trend outline once again confirming that high correlation and regression line from earlier\n",
    "\n",
    "As stated if you wanted to further improve this, you can see how it jumps every year because the multiplication is based off of a yearly model and not each month in the year, basing it only months in the year would ultimately make this a smooth line. The line would follow a trend of hitting every point at the start and end of every year"
   ]
  },
  {
   "cell_type": "code",
   "execution_count": 44,
   "id": "1ac000a2",
   "metadata": {},
   "outputs": [],
   "source": [
    "#if you would like to continue do so by creating one more graph and matrix that takes the point at the start and end of every\n",
    "#year to crate this one straight line"
   ]
  },
  {
   "cell_type": "markdown",
   "id": "ca20c69d",
   "metadata": {},
   "source": [
    "\n",
    "As a review from this notebook, I hope you learned some further functions of sickit learn as well as the real life application of it and how we can use python to predict data and help either track government spending or any data set you'd like. Play around with this notebook and change the model to fit a different column of data and go through the steps again to get more practice!"
   ]
  },
  {
   "cell_type": "code",
   "execution_count": null,
   "id": "885867cc",
   "metadata": {},
   "outputs": [],
   "source": []
  }
 ],
 "metadata": {
  "kernelspec": {
   "display_name": "Python 3 (ipykernel)",
   "language": "python",
   "name": "python3"
  },
  "language_info": {
   "codemirror_mode": {
    "name": "ipython",
    "version": 3
   },
   "file_extension": ".py",
   "mimetype": "text/x-python",
   "name": "python",
   "nbconvert_exporter": "python",
   "pygments_lexer": "ipython3",
   "version": "3.9.12"
  }
 },
 "nbformat": 4,
 "nbformat_minor": 5
}
