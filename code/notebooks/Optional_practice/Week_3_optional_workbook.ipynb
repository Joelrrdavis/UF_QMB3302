{
 "cells": [
  {
   "cell_type": "markdown",
   "id": "9686beb5-4907-4aa9-82ca-37b6e3b4a612",
   "metadata": {},
   "source": [
    "# Week 3 Workbook"
   ]
  },
  {
   "cell_type": "markdown",
   "id": "9f932689-d69b-4a85-9fb2-84bda556479f",
   "metadata": {},
   "source": [
    "Try to answer these questions on Week 3. This should be a little less hectic than last week (we'll alternate the stress if we can!)\n",
    "\n",
    "Questions very similar, but in some cases not exactly the same, as on the Week 3 Quiz, so be sure to answer them to the best of your ability.\n",
    "\n",
    "You do not need to submit this assignment workbook... you just need to complete the quiz this week. Note that this workbook asks you to explore a few different ways of getting to a solution. It is less about \"the right solution\" and more about getting you coding and getting hands on the keyboard. Don't over think it...just code! \n",
    "\n",
    "Good luck!"
   ]
  },
  {
   "cell_type": "markdown",
   "id": "dcabb6c0-d0d6-445e-b185-2302c4ebb658",
   "metadata": {},
   "source": [
    "## What is df?\n",
    "\n",
    "df (short for dataframe) is used alot as an example. You saw it in the course videos, and in the textbook too! It is just a shorthand way of saving a quick dataframe. Eventually you will probably want to rename your \"df\" tables something else. One thing you want to make sure of: if there are multiple tables called df, make sure you are running code on the right one! It is easy to mix this up.\n"
   ]
  },
  {
   "cell_type": "markdown",
   "id": "b5360019-1e46-46bb-af1a-6397daf53299",
   "metadata": {},
   "source": [
    "## Selecting from Dataframes"
   ]
  },
  {
   "cell_type": "markdown",
   "id": "654684aa-fe1d-4057-97e4-55df62dd68cd",
   "metadata": {},
   "source": [
    "### 1 Simple selections from a series\n",
    "\n",
    "Imagine we create a pandas series using the below code. What is a simple way to retrieve the value 2 from the series? In other words, what code would show '2' in the output. (There is more than one way, try them all!)"
   ]
  },
  {
   "cell_type": "code",
   "execution_count": null,
   "id": "06584db8-d7dd-4b8b-afd6-0099a806f5be",
   "metadata": {
    "tags": []
   },
   "outputs": [],
   "source": [
    "import pandas as pd\n",
    "df = pd.Series([2, 4, 4, 1],\n",
    "                 index=['a', 'b', 'c', 'd'])\n"
   ]
  },
  {
   "cell_type": "code",
   "execution_count": null,
   "id": "77d38790-a49f-4166-9b5b-97cafbbeb570",
   "metadata": {},
   "outputs": [],
   "source": [
    "#WRITE IN YOUR SOLUTION HERE>>> or CREATE ANOTHER CODE CELL\n",
    "\n"
   ]
  },
  {
   "cell_type": "markdown",
   "id": "6725e842-34ac-4683-87b8-b2721690bbf5",
   "metadata": {},
   "source": [
    "### 2 Create a quick data frame, select from it\n",
    "\n",
    "Create the below data frame.\n"
   ]
  },
  {
   "cell_type": "code",
   "execution_count": null,
   "id": "dba9aacd-e33e-4b90-8137-61ed8029d358",
   "metadata": {},
   "outputs": [],
   "source": [
    "\n",
    "import pandas as pd\n",
    "  \n",
    "# create a list of lists\n",
    "data = [['Sam', 2], ['Dave', 3], ['Jim', 7], ['Molly', 1]]\n",
    "  \n",
    "# Create the pandas DataFrame\n",
    "cats = pd.DataFrame(data, columns=['Name', 'Cats'])\n",
    "cats\n",
    "\n"
   ]
  },
  {
   "cell_type": "markdown",
   "id": "fad329da-1d34-40b5-920f-53513a37ce48",
   "metadata": {},
   "source": [
    "Run the code below, what does it produce? Try different variations of selecting with .loc. What happens when you try 'cats.loc[:2]'?"
   ]
  },
  {
   "cell_type": "code",
   "execution_count": null,
   "id": "66b88611-96bd-466f-a9cf-34e44328791f",
   "metadata": {},
   "outputs": [],
   "source": [
    "cats.loc[2:3]"
   ]
  },
  {
   "cell_type": "markdown",
   "id": "ead88aec-32b0-4312-9c77-ec2ad1ac36e4",
   "metadata": {},
   "source": [
    "### 3 Make some data\n",
    "\n",
    "Create a dataframe of random numbers. The code is below. What happens when you change the values 1234 at the end of 'rng = np.random.default_rng(1234)'? "
   ]
  },
  {
   "cell_type": "code",
   "execution_count": null,
   "id": "eb6f65f5-62bc-4796-897a-83a36d699382",
   "metadata": {},
   "outputs": [],
   "source": [
    "import numpy as np\n",
    "#create a range of random values... this just makes it reproducible.\n",
    "rng = np.random.default_rng(1234)\n",
    "#create a dataframe using those random values!\n",
    "df = pd.DataFrame(rng.integers(0,400,size=(15, 4)), columns=list('ABCD'))\n",
    "df[\"A\"].mean()"
   ]
  },
  {
   "cell_type": "markdown",
   "id": "4e68ea93-7e39-4a36-96e8-1c3463f9df67",
   "metadata": {},
   "source": [
    "Can you figure out how the dataframe was created? It has 15 'rows' and 4 'columns'. How would you rewrite the above code so that is has 20 rows and 5 columns. The columns should have the names \"ABCDE\". You can google the answer... but it should be pretty easy to figure out by just looking at that code."
   ]
  },
  {
   "cell_type": "code",
   "execution_count": null,
   "id": "ec8b0165-3009-440d-a8ad-4e23c22ced67",
   "metadata": {},
   "outputs": [],
   "source": [
    "#make a table with 20 rows and 5 columns\n",
    "\n",
    "#WRITE IN YOUR SOLUTION HERE>>> or CREATE ANOTHER CODE CELL\n",
    "\n",
    "\n"
   ]
  },
  {
   "cell_type": "markdown",
   "id": "5cb1c0b3-69c9-4a28-af92-3acfc65ddc56",
   "metadata": {},
   "source": [
    "### 4 Describing data\n",
    "\n",
    "What does describe do? Run it on the dataframe you created in 3. Play around with both the random number keyh (1234) and the column and row structure."
   ]
  },
  {
   "cell_type": "code",
   "execution_count": null,
   "id": "c6a77f8b-1bff-447d-b8e1-7b781c97347a",
   "metadata": {},
   "outputs": [],
   "source": [
    "###WRITE IN YOUR SOLUTION HERE>>> or CREATE ANOTHER CODE CELL\n",
    "\n"
   ]
  },
  {
   "cell_type": "markdown",
   "id": "277310cc-e264-42f7-8e1b-deb509b847ec",
   "metadata": {},
   "source": [
    "### 5 Errors in code"
   ]
  },
  {
   "cell_type": "markdown",
   "id": "3ffa1a55-88cd-4dc6-bb0a-ceaf198843bb",
   "metadata": {},
   "source": [
    "Small errors can creep into code (usually late at night and without enough coffee). Can you fix the below so that it prints up 'array([3, 3, 3])'"
   ]
  },
  {
   "cell_type": "code",
   "execution_count": null,
   "id": "b310e1f7-f50b-49fa-bfe1-ab28dc38bfdf",
   "metadata": {},
   "outputs": [],
   "source": [
    "import numpy as np\n",
    "a = [1,1,1]\n",
    "b = [2,2,2]\n",
    "\n",
    "np_a = numpy.array(a)\n",
    "np_b = numpy.array(b)\n",
    "a + b"
   ]
  },
  {
   "cell_type": "markdown",
   "id": "471cf6e3-57f2-4537-8dda-84ce2be510f4",
   "metadata": {},
   "source": [
    "One common error is trying to run a function or method that is not in your current session. Run the code below and see what happens! How would you fix it? (feel free to google the answer here!)"
   ]
  },
  {
   "cell_type": "code",
   "execution_count": 1,
   "id": "0e5cf9c0-1167-4253-a849-e502d95d1b72",
   "metadata": {},
   "outputs": [
    {
     "ename": "NameError",
     "evalue": "name 'datetime' is not defined",
     "output_type": "error",
     "traceback": [
      "\u001b[0;31m---------------------------------------------------------------------------\u001b[0m",
      "\u001b[0;31mNameError\u001b[0m                                 Traceback (most recent call last)",
      "Cell \u001b[0;32mIn [1], line 2\u001b[0m\n\u001b[1;32m      1\u001b[0m \u001b[38;5;28;01mimport\u001b[39;00m \u001b[38;5;21;01mpandas\u001b[39;00m \u001b[38;5;28;01mas\u001b[39;00m \u001b[38;5;21;01mpd\u001b[39;00m\n\u001b[0;32m----> 2\u001b[0m today \u001b[38;5;241m=\u001b[39m \u001b[43mdatetime\u001b[49m\u001b[38;5;241m.\u001b[39mdatetime\u001b[38;5;241m.\u001b[39mnow()\n\u001b[1;32m      3\u001b[0m \u001b[38;5;28mprint\u001b[39m(now)\n",
      "\u001b[0;31mNameError\u001b[0m: name 'datetime' is not defined"
     ]
    }
   ],
   "source": [
    "import pandas as pd\n",
    "today = datetime.datetime.now()\n",
    "print(now)"
   ]
  },
  {
   "cell_type": "code",
   "execution_count": 4,
   "id": "6650ad7b-5929-483f-86d5-2d4fff724b34",
   "metadata": {},
   "outputs": [
    {
     "name": "stdout",
     "output_type": "stream",
     "text": [
      "2023-01-26 14:51:58.604813\n"
     ]
    }
   ],
   "source": [
    "###WRITE IN YOUR SOLUTION HERE>>> or CREATE ANOTHER CODE CELL\n",
    "import datetime as datetime\n",
    "import pandas as pd\n",
    "today = datetime.datetime.now()\n",
    "print(today)\n"
   ]
  },
  {
   "cell_type": "code",
   "execution_count": null,
   "id": "224da296-8bba-475e-84c9-a86d5b87ad3f",
   "metadata": {},
   "outputs": [],
   "source": []
  }
 ],
 "metadata": {
  "kernelspec": {
   "display_name": "Python 3 (ipykernel)",
   "language": "python",
   "name": "python3"
  },
  "language_info": {
   "codemirror_mode": {
    "name": "ipython",
    "version": 3
   },
   "file_extension": ".py",
   "mimetype": "text/x-python",
   "name": "python",
   "nbconvert_exporter": "python",
   "pygments_lexer": "ipython3",
   "version": "3.11.9"
  }
 },
 "nbformat": 4,
 "nbformat_minor": 5
}
