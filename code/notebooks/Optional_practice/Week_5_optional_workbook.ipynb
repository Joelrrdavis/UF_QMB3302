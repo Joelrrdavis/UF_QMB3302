{
 "cells": [
  {
   "cell_type": "markdown",
   "id": "e7e36075",
   "metadata": {},
   "source": [
    "# Matplotlib\n",
    "## It is important to remember to import at the start of every file with these commands"
   ]
  },
  {
   "cell_type": "code",
   "execution_count": null,
   "id": "202460e0",
   "metadata": {},
   "outputs": [],
   "source": [
    "%matplotlib inline\n",
    "import numpy as np\n",
    "import matplotlib.pyplot as plt\n",
    "import pandas as pd\n",
    "import seaborn as sns"
   ]
  },
  {
   "cell_type": "markdown",
   "id": "6d20d237",
   "metadata": {},
   "source": [
    "### I want to create a new graph and play around with attributes"
   ]
  },
  {
   "cell_type": "code",
   "execution_count": null,
   "id": "97dcdfdd",
   "metadata": {},
   "outputs": [],
   "source": [
    "value1 = [3, 5, 6]\n",
    "value2 = [1, 3, 3]\n",
    "value3 = [3, 4, 9]\n",
    "\n",
    "plt.plot(value1, value2)\n",
    "plt.plot(value1, value3)\n",
    "#Im missing a title and axis, how do I add this"
   ]
  },
  {
   "cell_type": "code",
   "execution_count": null,
   "id": "fad84739",
   "metadata": {},
   "outputs": [],
   "source": [
    "#I wish I had a thin diamond marker and the color red on one of the lines\n",
    "#How do I make my dream a reality\n",
    "value1 = [3, 5, 6]\n",
    "value2 = [1, 3, 3]\n",
    "value3 = [3, 4, 9]\n",
    "\n",
    "plt.plot(value1, value2)\n",
    "plt.plot(value1, value3)"
   ]
  },
  {
   "cell_type": "markdown",
   "id": "2d31bf26",
   "metadata": {},
   "source": [
    "## Its cool enough using matplot lib on your own, now what about with premade data sets?"
   ]
  },
  {
   "cell_type": "code",
   "execution_count": null,
   "id": "387ccb03",
   "metadata": {},
   "outputs": [],
   "source": [
    "import os #important to import when dealing with data\n",
    "import urllib #used to grab datasets from the web\n",
    "url = 'https://corgis-edu.github.io/corgis/datasets/csv/consumer_price_index/consumer_price_index.csv'\n",
    "newpath = os.path.join(\"data\")\n",
    "data_path = os.path.join(newpath,\"CPIworkbook.csv\" )\n",
    "req = urllib.request.urlretrieve(url, data_path)\n",
    "web_data = pd.read_csv(data_path)\n",
    "web_data.head()"
   ]
  },
  {
   "cell_type": "code",
   "execution_count": null,
   "id": "0f866dc0",
   "metadata": {},
   "outputs": [],
   "source": [
    "#Now I can plot from this data\n",
    "#add some labels to the Y axis and a title as well as changing the color\n",
    "web_data.plot('Year', 'Data.Meat.Beef')"
   ]
  },
  {
   "cell_type": "markdown",
   "id": "cfd19c8b",
   "metadata": {},
   "source": [
    "### You can see how in the professional world you can use this data.\n",
    "#### The data set is taken from Consumer Price Index reports throughout the year\n",
    "#### Some takeaways from this data is you can see that the CPI was high for beef around 1978ish\n",
    "#### Why might this be the case? A google search tells me a beef boycott as well as high inflationary period"
   ]
  },
  {
   "cell_type": "markdown",
   "id": "71e221b4",
   "metadata": {},
   "source": [
    "# What other takeaways do you see? This is the beauty of data. Take a moment to play around with other sets of data within the workbook\n"
   ]
  },
  {
   "cell_type": "code",
   "execution_count": null,
   "id": "f79fd7c2",
   "metadata": {},
   "outputs": [],
   "source": [
    "#try plotting something new I.E Year vs Fuel and Coal or maybe the prices of two CPIS against each other you may get weird results\n",
    "#web_data.plot('Year', 'Data.Meat.Beef')\n",
    "#web_data.plot('Year', 'Data.Fuel.Average')"
   ]
  },
  {
   "cell_type": "code",
   "execution_count": null,
   "id": "983abdee",
   "metadata": {},
   "outputs": [],
   "source": [
    "#try plotting something new I.E Year vs Fuel and Coal or maybe the prices of two CPIS against each other"
   ]
  },
  {
   "cell_type": "code",
   "execution_count": null,
   "id": "d2ad4f96",
   "metadata": {},
   "outputs": [],
   "source": [
    "#try plotting something new I.E Year vs Fuel and Coal or maybe the prices of two CPIS against each other"
   ]
  },
  {
   "cell_type": "markdown",
   "id": "a6aa08ce",
   "metadata": {},
   "source": [
    "# Lets change some things now"
   ]
  },
  {
   "cell_type": "code",
   "execution_count": null,
   "id": "54e66dae",
   "metadata": {},
   "outputs": [],
   "source": [
    "#Combine the two plots onto one chart and Matplotlib\n",
    "#web_data.plot(x ='Year',  y = SOMEVALUEHERE)\n",
    "#hint [] will be used"
   ]
  },
  {
   "cell_type": "code",
   "execution_count": null,
   "id": "72c472f5",
   "metadata": {},
   "outputs": [],
   "source": [
    "#now lets see what Seaborn can do for us\n",
    "sns.lineplot(x= 'Year', y='Data.Fuel.Average', data=web_data)"
   ]
  },
  {
   "cell_type": "code",
   "execution_count": null,
   "id": "8fb8b8e5",
   "metadata": {},
   "outputs": [],
   "source": [
    "#hmm its plotting with seaborn, but I dont notice any difference in style, how would I change the style?\n",
    "#change style, a quick google may be needed\n",
    "sns.lineplot(x= 'Year', y='Data.Fuel.Average', data=web_data)"
   ]
  },
  {
   "cell_type": "code",
   "execution_count": null,
   "id": "9a9f3746",
   "metadata": {},
   "outputs": [],
   "source": [
    "#now that the style is changed try and change it again"
   ]
  },
  {
   "cell_type": "code",
   "execution_count": null,
   "id": "e122c7f5",
   "metadata": {},
   "outputs": [],
   "source": [
    "#now that im familiar with data, create a joint plot for Year and a variable of your choice"
   ]
  },
  {
   "cell_type": "markdown",
   "id": "fbf69d78",
   "metadata": {},
   "source": [
    "## Combination of everything learned"
   ]
  },
  {
   "cell_type": "code",
   "execution_count": null,
   "id": "8653cd97",
   "metadata": {},
   "outputs": [],
   "source": [
    "#Back to either matplot or Seaborn combine it all together and graph a plot with \n",
    "#a marker of your choice\n",
    "#color of your choice\n",
    "#style of chocie\n",
    "#a line style\n",
    "#Title and Axis Labels\n",
    "#Two or more data columns against year"
   ]
  },
  {
   "cell_type": "markdown",
   "id": "5786f60f",
   "metadata": {},
   "source": [
    "# The graph you just made is as professional as it gets and can really tell you about the data, maybe try googling and learning more about what your graph means\n",
    "\n",
    "# You should now feel more confident with matplotlib and Seaborn and hopefully learned some further capabilities of it."
   ]
  },
  {
   "cell_type": "code",
   "execution_count": null,
   "id": "510bf506",
   "metadata": {},
   "outputs": [],
   "source": []
  }
 ],
 "metadata": {
  "kernelspec": {
   "display_name": "Python 3 (ipykernel)",
   "language": "python",
   "name": "python3"
  },
  "language_info": {
   "codemirror_mode": {
    "name": "ipython",
    "version": 3
   },
   "file_extension": ".py",
   "mimetype": "text/x-python",
   "name": "python",
   "nbconvert_exporter": "python",
   "pygments_lexer": "ipython3",
   "version": "3.9.12"
  }
 },
 "nbformat": 4,
 "nbformat_minor": 5
}
