{
 "cells": [
  {
   "cell_type": "code",
   "execution_count": 2,
   "id": "fc139e13",
   "metadata": {},
   "outputs": [],
   "source": [
    "import numpy as np\n",
    "import pandas as pd"
   ]
  },
  {
   "cell_type": "markdown",
   "id": "8e0ff47a",
   "metadata": {},
   "source": [
    "# Financial Calculations\n",
    "\n",
    "### Lets say we have 1000 dollars today and want to find what the value of this 1000 dollars is in 5 years\n",
    "### When you think about it, it may come to mind that 1000 dollars today is worth more than 1000 dollars in 5 years\n",
    "### Time Value of Money confirms this. If we have 1000 dollars there will be some sort of inflation or interest rate happening every year which will discount the price."
   ]
  },
  {
   "cell_type": "markdown",
   "id": "cea6b8be",
   "metadata": {},
   "source": [
    "# Math\n",
    "### Lets see how much this 1000 dollars in 5 years is worth today given a 6% discount rate\n",
    "### Present Value (PV) = Future Value (FV) * (1/(1+r)^n) \n",
    "### r is our interest rate and n is our time or years"
   ]
  },
  {
   "cell_type": "code",
   "execution_count": 10,
   "id": "3d3dcb78",
   "metadata": {},
   "outputs": [
    {
     "name": "stdout",
     "output_type": "stream",
     "text": [
      "The Present Value of 1000 Dollars is: 747.258172866057\n"
     ]
    }
   ],
   "source": [
    "#lets see what our number is\n",
    "PV = 1000*(1/pow((1+.06),5))\n",
    "print (f'The Present Value of 1000 Dollars is:', PV)"
   ]
  },
  {
   "cell_type": "markdown",
   "id": "0cb858f3",
   "metadata": {},
   "source": [
    "### Now lets say we want to do the opposite and solve for future value given what this 1000 dollars today is worth in the future\n",
    "### You can solve for FV with the old equation to yield\n",
    "### Future Value (FV) = Present value (PV) * (1+r)^n\n"
   ]
  },
  {
   "cell_type": "code",
   "execution_count": 13,
   "id": "06bf10d3",
   "metadata": {},
   "outputs": [
    {
     "name": "stdout",
     "output_type": "stream",
     "text": [
      "The Future Value of 1000 Dollars is: 1338.2255776000002\n"
     ]
    }
   ],
   "source": [
    "FV = 1000*(pow((1+.06),5))\n",
    "print (f'The Future Value of 1000 Dollars is:', FV)"
   ]
  },
  {
   "cell_type": "markdown",
   "id": "126ccfce",
   "metadata": {},
   "source": [
    "## On top of Future and Present Values we can start adding in payments and lots of variables\n",
    "### Lets say we get a payment of 50 dollars every year and the 1000 dollars up front\n",
    "### This would mean we would have to solve for the future value of an annuity and add that to our principle future value"
   ]
  },
  {
   "cell_type": "code",
   "execution_count": 16,
   "id": "02aa44f2",
   "metadata": {},
   "outputs": [],
   "source": [
    "#PMT = (1+i)^n -1\n",
    "#       __________\n",
    "#          i\n",
    "FVPMT =50*( pow((1+.06),5) -1)/0.06\n",
    "FV = FV +FVPMT"
   ]
  },
  {
   "cell_type": "code",
   "execution_count": 17,
   "id": "ef90a076",
   "metadata": {},
   "outputs": [
    {
     "name": "stdout",
     "output_type": "stream",
     "text": [
      "The Future Value of 1000 Dollars with payment is: 1620.0802256000004\n"
     ]
    }
   ],
   "source": [
    "print (f'The Future Value of 1000 Dollars with payment is:', FV)"
   ]
  },
  {
   "cell_type": "markdown",
   "id": "306d6af4",
   "metadata": {},
   "source": [
    "# This is a lot of work though and many things can change such as payments each year, so luckily there is a package to do these formulas for us behind the scenes"
   ]
  },
  {
   "cell_type": "code",
   "execution_count": 22,
   "id": "656fb6a7",
   "metadata": {},
   "outputs": [],
   "source": [
    "#pip install if not installed\n",
    "import numpy_financial as npf"
   ]
  },
  {
   "cell_type": "markdown",
   "id": "98def7af",
   "metadata": {},
   "source": [
    "# NPF is a variation of numpy where its focused soley on financial calculation\n",
    "\n",
    "### lets take a combination of the two in order to find the values of varrying cash flows"
   ]
  },
  {
   "cell_type": "code",
   "execution_count": 32,
   "id": "15f0737c",
   "metadata": {},
   "outputs": [
    {
     "name": "stdout",
     "output_type": "stream",
     "text": [
      "The present value of all your cashflows: 832.7525406879503\n"
     ]
    }
   ],
   "source": [
    "# I will keep my 6 percent interest rate and have cash flows of 100, 200, 550, and 65 for varying years\n",
    "#lets make a np array to store these\n",
    "cashflow = np.array([100, 200, 550, 65])\n",
    "#now we have cashflows and a rate we just have to use this command\n",
    "print (f'The present value of all your cashflows:', npf.npv(0.06,cashflow))"
   ]
  },
  {
   "cell_type": "code",
   "execution_count": 33,
   "id": "77a873e2",
   "metadata": {},
   "outputs": [
    {
     "data": {
      "text/plain": [
       "-1620.0802256000004"
      ]
     },
     "execution_count": 33,
     "metadata": {},
     "output_type": "execute_result"
    }
   ],
   "source": [
    "#we will now revisit our previous calculations to make sure our formulas were correct\n",
    "npf.fv(0.06,5,50,1000)"
   ]
  },
  {
   "cell_type": "code",
   "execution_count": 34,
   "id": "334b89d9",
   "metadata": {},
   "outputs": [
    {
     "data": {
      "text/plain": [
       "1620.0802256000004"
      ]
     },
     "execution_count": 34,
     "metadata": {},
     "output_type": "execute_result"
    }
   ],
   "source": [
    "abs(npf.fv(0.06,5,50,1000))"
   ]
  },
  {
   "cell_type": "markdown",
   "id": "67993876",
   "metadata": {},
   "source": [
    "# Notice how our values match, ignore negatives at this point and focus on the absolute value"
   ]
  },
  {
   "cell_type": "code",
   "execution_count": 42,
   "id": "7cb83829",
   "metadata": {},
   "outputs": [
    {
     "data": {
      "text/plain": [
       "0.5672303344358536"
      ]
     },
     "execution_count": 42,
     "metadata": {},
     "output_type": "execute_result"
    }
   ],
   "source": [
    "#now lets find the Internal rate of return of cash flows\n",
    "npf.irr([-250000, 100000, 150000, 200000, 250000, 300000])"
   ]
  },
  {
   "cell_type": "code",
   "execution_count": 44,
   "id": "2efd6546",
   "metadata": {},
   "outputs": [
    {
     "data": {
      "text/plain": [
       "0.05999999999999996"
      ]
     },
     "execution_count": 44,
     "metadata": {},
     "output_type": "execute_result"
    }
   ],
   "source": [
    "#we can also reverse solve our interest rate at this point (fv and pv signs must be opposite)\n",
    "npf.rate(5,50,1000,-1620.0802256000004)"
   ]
  },
  {
   "cell_type": "code",
   "execution_count": 45,
   "id": "0127a13a",
   "metadata": {},
   "outputs": [],
   "source": [
    "#we get our 6 percent as expected"
   ]
  },
  {
   "cell_type": "markdown",
   "id": "faf25b2b",
   "metadata": {},
   "source": [
    " # Here is the list of commands for calculations we can do\n",
    "fv(rate, nper, pmt, pv[, when])\n",
    "\n",
    "Compute the future value.\n",
    "\n",
    "ipmt(rate, per, nper, pv[, fv, when])\n",
    "\n",
    "Compute the interest portion of a payment.\n",
    "\n",
    "irr(values)\n",
    "\n",
    "Return the Internal Rate of Return (IRR).\n",
    "\n",
    "mirr(values, finance_rate, reinvest_rate)\n",
    "\n",
    "Modified internal rate of return.\n",
    "\n",
    "nper(rate, pmt, pv[, fv, when])\n",
    "\n",
    "Compute the number of periodic payments.\n",
    "\n",
    "npv(rate, values)\n",
    "\n",
    "Returns the NPV (Net Present Value) of a cash flow series.\n",
    "\n",
    "pmt(rate, nper, pv[, fv, when])\n",
    "\n",
    "Compute the payment against loan principal plus interest.\n",
    "\n",
    "ppmt(rate, per, nper, pv[, fv, when])\n",
    "\n",
    "Compute the payment against loan principal.\n",
    "\n",
    "pv(rate, nper, pmt[, fv, when])\n",
    "\n",
    "Compute the present value.\n",
    "\n",
    "rate(nper, pmt, pv, fv[, when, guess, tol, …])\n",
    "\n",
    "Compute the rate of interest per period."
   ]
  },
  {
   "cell_type": "markdown",
   "id": "93c37e83",
   "metadata": {},
   "source": [
    "# Problems"
   ]
  },
  {
   "cell_type": "markdown",
   "id": "054846aa",
   "metadata": {},
   "source": [
    "### 1. Tom said he would give me 1000 dollars today or 500 dollars plus a 100 dollar payment each year for the next 6 years, which is more favorable to me. N = 6 I = 6%\n",
    "### 2.Tom now said he would give me 6000 dollars today or 8000 dollars in 6 years, which is better. N = 6 I = 6%\n",
    "### 3. Tom now said he would give me 6000 dollars today or 8000 dollars in 6 years plus 100 dollars every year from the start, which is better. N = 6 I = 6%\n",
    "### 4. Bill is paying me rent monthly at a fixed rate of  1200 Dollars how much do I get in a year in todays money?    I = 9%\n",
    "### 4. Bill is paying me rent for four months. Due to the short lease the rates are different, 1100, 1200, 1300, 2000. what is my return in todays money? I = 11%\n",
    "### 5. Steve Pays me 12000 Dollars today and it is worth 18000 in the future and includes a monthly payment, what is this amount, N= 8 I = 4%\n",
    "### 5. Steve Pays me 14000 Dollars today and it is worth 19000 in the future and includes a monthly payment of 300, what is my interest rate, N= 10"
   ]
  },
  {
   "cell_type": "markdown",
   "id": "2bed816f",
   "metadata": {},
   "source": [
    "# Harder Problems\n",
    "\n",
    "Problem 1: The Investment Gift\n",
    "\n",
    "Emily received a birthday gift of $500 from her grandparents. She decides to invest the money in a savings account that offers an annual interest rate of 4%. If the interest is compounded annually, how much will Emily have in the account after 3 years?\n",
    "\n",
    "Problem 2: Retirement Savings Surprise\n",
    "\n",
    "John just turned 30, and for his birthday, he decides to start saving for retirement. He plans to contribute $200 each month to his retirement account, which has an annual interest rate of 6%, compounded monthly. If he continues this savings plan until he retires at the age of 65, how much money will he have in his retirement account?"
   ]
  },
  {
   "cell_type": "markdown",
   "id": "6d3d6a70",
   "metadata": {},
   "source": [
    "# There are tons of practice problems online, feel free to try them out or when you take business finance plug some problems into here"
   ]
  },
  {
   "cell_type": "code",
   "execution_count": null,
   "id": "ff5513eb",
   "metadata": {},
   "outputs": [],
   "source": []
  }
 ],
 "metadata": {
  "kernelspec": {
   "display_name": "Python 3 (ipykernel)",
   "language": "python",
   "name": "python3"
  },
  "language_info": {
   "codemirror_mode": {
    "name": "ipython",
    "version": 3
   },
   "file_extension": ".py",
   "mimetype": "text/x-python",
   "name": "python",
   "nbconvert_exporter": "python",
   "pygments_lexer": "ipython3",
   "version": "3.11.4"
  }
 },
 "nbformat": 4,
 "nbformat_minor": 5
}
