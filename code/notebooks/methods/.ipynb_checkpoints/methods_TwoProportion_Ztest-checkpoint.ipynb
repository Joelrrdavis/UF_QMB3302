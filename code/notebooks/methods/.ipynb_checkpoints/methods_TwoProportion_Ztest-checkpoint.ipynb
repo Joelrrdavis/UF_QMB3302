{
 "cells": [
  {
   "cell_type": "markdown",
   "id": "4eeacedc-9616-45eb-bc25-8bf1e6fb1a18",
   "metadata": {},
   "source": []
  },
  {
   "cell_type": "markdown",
   "id": "dd1b721c-410e-4627-aed9-5f98121b4ba8",
   "metadata": {},
   "source": [
    "# Two-Proportion Z-Test\n",
    "\n",
    "## 1. Introduction\n",
    "The two-proportion z-test is a statistical method used to determine whether two population proportions are significantly different from each other. This guide will explain the concept, how to perform the test, and how to interpret the results.\n",
    "\n",
    "## 2. Theoretical Background\n",
    "### Statistical Hypotheses\n",
    "- **Null Hypothesis (H₀)**: There is no difference between the two population proportions, symbolically expressed as $( p_1 = p_2 ).$\n",
    "- **Alternative Hypothesis (H₁)**: There is a difference between the two population proportions, expressed as $( p_1 \\neq p_2).$\n",
    "\n",
    "### Importance of Hypothesis Testing\n",
    "Hypothesis testing is a fundamental aspect of making inferential statistical conclusions, helping us understand if observed data can be explained by chance or if there are significant differences to be addressed.\n",
    "\n",
    "## 3. Assumptions of the Two-Proportion Z-Test\n",
    "- **Sample Size**: Both groups must be sufficiently large, typically each group should have \\( np \\) and \\( n(1-p) \\) greater than 5.\n",
    "- **Independence**: The samples must be independent of each other.\n",
    "- **Normality**: The sampling distribution should be approximately normal.\n",
    "\n",
    "## 4. Test Statistic Calculation\n",
    "### Formula\n",
    "The z-score is calculated using the formula:\n",
    "$z = \\frac{\\hat{p}_1 - \\hat{p}_2}{\\sqrt{\\hat{p}(1-\\hat{p})(\\frac{1}{n_1} + \\frac{1}{n_2})}}$\n",
    "where:\n",
    "- $ (\\hat{p}_1 )$  and  $( \\hat{p}_2 )$ are the sample proportions\n",
    "- $( n_1 )$ and $( n_2 )$ are the sample sizes\n",
    "- $( \\hat{p} )$ is the pooled proportion of successes, calculated as $( \\frac{x_1 + x_2}{n_1 + n_2} )$\n",
    "\n",
    "### Interpretation of Z-Score\n",
    "The z-score measures the number of standard deviations the observed difference in proportions is from the null hypothesis. A large absolute value of z indicates more evidence against the null hypothesis.\n",
    "\n",
    "## 5. Python Code Implementation\n",
    "### Setting Up the Environment\n"
   ]
  },
  {
   "cell_type": "code",
   "execution_count": 5,
   "id": "f402638c-da8f-4edd-b7b3-9db85c0b2870",
   "metadata": {},
   "outputs": [],
   "source": [
    "import numpy as np\n",
    "from statsmodels.stats.proportion import proportions_ztest\n",
    "import matplotlib.pyplot as plt"
   ]
  },
  {
   "cell_type": "code",
   "execution_count": 6,
   "id": "41819157-6f47-4394-971e-d6d639558c14",
   "metadata": {},
   "outputs": [],
   "source": [
    "def two_proportion_z_test(success_a, size_a, success_b, size_b):\n",
    "    stat, pval = proportions_ztest([success_a, success_b], [size_a, size_b])\n",
    "    return stat, pval\n"
   ]
  },
  {
   "cell_type": "code",
   "execution_count": 7,
   "id": "b2f07bdb-c2dd-4489-af30-d70a3d1135a2",
   "metadata": {},
   "outputs": [],
   "source": [
    "def plot_proportions(success_a, size_a, success_b, size_b):\n",
    "    proportions = [success_a / size_a, success_b / size_b]\n",
    "    plt.bar(['Group A', 'Group B'], proportions, color=['blue', 'green'])\n",
    "    plt.ylabel('Proportion')\n",
    "    plt.title('Proportion of Successes in Each Group')\n",
    "    plt.show()\n"
   ]
  },
  {
   "cell_type": "markdown",
   "id": "b3c70414-dd03-4044-b9e7-883601bc4674",
   "metadata": {},
   "source": [
    "### Example 1: Basic"
   ]
  },
  {
   "cell_type": "code",
   "execution_count": 8,
   "id": "55ab28ed-5b88-4686-8a56-f8513ad38f93",
   "metadata": {},
   "outputs": [
    {
     "name": "stdout",
     "output_type": "stream",
     "text": [
      "Z-statistic: 2.503915429180671, P-value: 0.012282738972377402\n"
     ]
    }
   ],
   "source": [
    "# Sample data\n",
    "stat, pval = two_proportion_z_test(300, 1000, 250, 1000)\n",
    "print(f\"Z-statistic: {stat}, P-value: {pval}\")\n"
   ]
  },
  {
   "cell_type": "markdown",
   "id": "8f9a9045-98c3-47ac-980c-80738a125c53",
   "metadata": {},
   "source": [
    "## 7. Interpretation of Results\n",
    "Understanding the output involves interpreting both the z-statistic and the p-value. If the p-value is less than 0.05, we reject the null hypothesis, indicating a significant difference between the two proportions.\n",
    "\n",
    "## 8. Limitations and Considerations\n",
    "This test assumes that samples are large and independently drawn. It may not be appropriate for small sample sizes or correlated samples.\n",
    "\n",
    "## 9. Conclusion\n",
    "The two-proportion z-test is a powerful statistical tool used to compare the proportions from two different groups when certain conditions are met. This test is particularly useful when dealing with large sample sizes where the Central Limit Theorem ensures (at least in theory...) the normality of the sampling distribution of the proportions. It allows a user to determine if an observed differences in proportions are likely due to just random chance or if those differences reflect actual differences in the population.\n",
    "\n",
    "This test should be used when:\n",
    "- You have two independent samples from different populations.\n",
    "- The sample sizes are large enough for the approximation to the normal distribution to hold (typically, each sample should have at least 10 successes and 10 failures).\n",
    "- You are interested in testing a hypothesis about the equality (or lack thereof) of the two proportions.\n",
    "\n"
   ]
  },
  {
   "cell_type": "code",
   "execution_count": null,
   "id": "6a95c90e-3c36-4f2a-bbfd-2e8ba9743d2c",
   "metadata": {},
   "outputs": [],
   "source": []
  },
  {
   "cell_type": "code",
   "execution_count": null,
   "id": "d6491d66-62e8-4196-8188-c002eda07338",
   "metadata": {},
   "outputs": [],
   "source": []
  }
 ],
 "metadata": {
  "kernelspec": {
   "display_name": "Python 3 (ipykernel)",
   "language": "python",
   "name": "python3"
  },
  "language_info": {
   "codemirror_mode": {
    "name": "ipython",
    "version": 3
   },
   "file_extension": ".py",
   "mimetype": "text/x-python",
   "name": "python",
   "nbconvert_exporter": "python",
   "pygments_lexer": "ipython3",
   "version": "3.11.9"
  }
 },
 "nbformat": 4,
 "nbformat_minor": 5
}
