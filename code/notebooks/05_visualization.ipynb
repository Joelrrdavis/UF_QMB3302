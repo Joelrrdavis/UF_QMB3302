{
 "cells": [
  {
   "cell_type": "markdown",
   "metadata": {},
   "source": [
    "If you want to open this in google colab, use the link below:\n",
    "\n",
    "[![Open In Colab](https://colab.research.google.com/assets/colab-badge.svg)](https://githubtocolab.com/Joelrrdavis/UF_QMB3302/blob/main/code/notebooks/05_visualization.ipynb)\n",
    "\n",
    "\n",
    "# Tale of Two Visualization Libraries \n"
   ]
  },
  {
   "cell_type": "code",
   "execution_count": null,
   "metadata": {},
   "outputs": [],
   "source": []
  },
  {
   "cell_type": "markdown",
   "metadata": {},
   "source": [
    "## Seaborn vs Matplotlib\n",
    "\n",
    "Matplotlib is great for visualization, but it can often require very complicated and convoluted code to get from a dataframe to the chart. Seaborn was built on top of Matplotlib, and provides a better (some say) format experience. Because matplotlib is so widely used, it is important to understand how it works. But for our purposes, on some charts, Seaborn should be preferred. Because seaborn is built on matplotlib, many of the formatting tweaks you can make on a matplotlib chart you can also make on a seaborn chart. \n",
    "\n",
    "### Why use Matplotlib?\n",
    "\n",
    "* Flexibility and Control: Matplotlib offers extensive control over almost every aspect of a plot or graph, making it highly customizable. This is particularly useful for creating complex and detailed visualizations.\n",
    "* Wide Variety of Plot Types: It supports a wide range of plots and charts, from basic line and bar charts to complex 3D plots.\n",
    "* Integration with Pandas: Matplotlib works well with Pandas, a powerful data manipulation library, allowing for easy plotting of DataFrame and Series objects.\n",
    "* Fine-tuning and Adjustments: It allows for fine adjustments to elements like axes, grids, labels, and titles, which is crucial for creating publication-quality figures.\n",
    "* Large Community and Resources: Being older and more established, Matplotlib has a larger community, which means more resources, tutorials, and support available.\n",
    "\n",
    "### Why use Seaborn?\n",
    "\n",
    "* Built on Matplotlib: Seaborn is built on top of Matplotlib and provides a high-level interface for drawing attractive and informative statistical graphics.\n",
    "* Ease of Use: It simplifies the process of creating complex visualizations. For instance, creating a multi-plot grid is more straightforward with Seaborn.\n",
    "* Better Default Aesthetics: Seaborn comes with default themes that are more aesthetically pleasing and modern, which often makes the plots more visually appealing without much customization.\n",
    "* Specialized in Statistical Plots: Seaborn provides functions to create a variety of statistical plots easily, which is useful for exploratory data analysis.\n",
    "* Integration with Pandas: Like Matplotlib, Seaborn works well with Pandas, which is convenient for data analysis workflows.\n",
    "\n"
   ]
  },
  {
   "cell_type": "markdown",
   "metadata": {},
   "source": [
    "# Matplotlib\n",
    "\n",
    "https://matplotlib.org/stable/api/_as_gen/matplotlib.pyplot.plot.html\n",
    "\n",
    "The matplotlib page is an excellent resource. This first example is going to walk through (build up) on the concepts from that page. It would be worthwhile to read through that page and have that available as we go. "
   ]
  },
  {
   "cell_type": "code",
   "execution_count": 1,
   "metadata": {},
   "outputs": [],
   "source": [
    "%matplotlib inline\n",
    "import numpy as np\n",
    "import matplotlib.pyplot as plt\n",
    "import pandas as pd"
   ]
  },
  {
   "cell_type": "markdown",
   "metadata": {},
   "source": [
    "### Purpose of %matplotlib inline\n",
    "\n",
    "* Inline Display: When you use %matplotlib inline, it instructs Jupyter notebook to display plots inline, directly below the code cells that produce them. This means that your Matplotlib graphs will be shown within the notebook itself, rather than in a new window.\n",
    "* Static Images: The plots that appear as a result of %matplotlib inline are static images. They are embedded into the notebook, which means that once they are created, they do not change dynamically.\n",
    "\n",
    "\n",
    "### What is .plot?\n",
    "\n",
    "In Matplotlib, the .plot function is one of the core functions used for creating a wide variety of plots. \n",
    "\n",
    "**Basic Syntax:** plt.plot(x, y), where x and y are arrays or lists of coordinates.\n"
   ]
  },
  {
   "cell_type": "code",
   "execution_count": null,
   "metadata": {},
   "outputs": [],
   "source": [
    "plt.plot([1, 2, 3], [1, 2, 3])\n"
   ]
  },
  {
   "cell_type": "code",
   "execution_count": null,
   "metadata": {},
   "outputs": [],
   "source": [
    "plt.plot([1, 2, 3], [1, 2, 3])\n",
    "plt.plot([1, 2, 3], [1, 4, 9])"
   ]
  },
  {
   "cell_type": "markdown",
   "metadata": {},
   "source": [
    "In the above examples we are passing in the values directly, but we can also pass in variables that store the values, like the below lists."
   ]
  },
  {
   "cell_type": "code",
   "execution_count": null,
   "metadata": {},
   "outputs": [],
   "source": [
    "value1 = [1, 2, 3]\n",
    "value2 = [1, 2, 3]\n",
    "value3 = [1, 4, 9]\n",
    "\n",
    "plt.plot(value1, value2)\n",
    "plt.plot(value1, value3)"
   ]
  },
  {
   "cell_type": "markdown",
   "metadata": {},
   "source": [
    "## Formatting"
   ]
  },
  {
   "cell_type": "markdown",
   "metadata": {},
   "source": [
    "You do not need to keep reimporting the packages.. this is only necessary once on each workbook. I just include it below in case you are starting the workbook from here\n",
    "\n",
    "Customizing plots in Matplotlib involves altering the visual elements of plots to make them more informative and aesthetically pleasing. Key aspects of customization include adjusting colors, adding labels and titles, and using legends effectively. \n",
    "\n"
   ]
  },
  {
   "cell_type": "code",
   "execution_count": 1,
   "metadata": {},
   "outputs": [],
   "source": [
    "%matplotlib inline\n",
    "import numpy as np\n",
    "import matplotlib.pyplot as plt\n",
    "import pandas as pd\n"
   ]
  },
  {
   "cell_type": "markdown",
   "metadata": {},
   "source": [
    "### Labels & Titles\n",
    "\n",
    "Labels are essential for making a plot understandable. They typically include x-axis and y-axis labels and a title for the plot. Good labels should be concise yet descriptive.\n",
    "\n",
    "\n",
    "#### Labels"
   ]
  },
  {
   "cell_type": "code",
   "execution_count": 2,
   "metadata": {},
   "outputs": [
    {
     "data": {
      "text/plain": [
       "Text(0, 0.5, 'Y')"
      ]
     },
     "execution_count": 2,
     "metadata": {},
     "output_type": "execute_result"
    },
    {
     "data": {
      "image/png": "[encoded data removed]",
      "text/plain": [
       "<Figure size 640x480 with 1 Axes>"
      ]
     },
     "metadata": {},
     "output_type": "display_data"
    }
   ],
   "source": [
    "value1 = [1, 2, 3]\n",
    "value2 = [1, 2, 3]\n",
    "value3 = [1, 4, 9]\n",
    "\n",
    "plt.plot(value1, value2)\n",
    "plt.plot(value1, value3)\n",
    "\n",
    "#add an xlabel\n",
    "plt.xlabel('This is some X')\n",
    "\n",
    "#add a y label\n",
    "plt.ylabel('Y')"
   ]
  },
  {
   "cell_type": "markdown",
   "metadata": {},
   "source": [
    "#### Titles"
   ]
  },
  {
   "cell_type": "code",
   "execution_count": 3,
   "metadata": {},
   "outputs": [
    {
     "data": {
      "text/plain": [
       "Text(0.5, 1.0, 'Here is a title for the graph')"
      ]
     },
     "execution_count": 3,
     "metadata": {},
     "output_type": "execute_result"
    },
    {
     "data": {
      "image/png": "[encoded data removed]",
      "text/plain": [
       "<Figure size 640x480 with 1 Axes>"
      ]
     },
     "metadata": {},
     "output_type": "display_data"
    }
   ],
   "source": [
    "value1 = [1, 2, 3]\n",
    "value2 = [1, 2, 3]\n",
    "value3 = [1, 4, 9]\n",
    "\n",
    "plt.plot(value1, value2)\n",
    "plt.plot(value1, value3)\n",
    "\n",
    "#add x and y labels\n",
    "plt.xlabel('This is some X')\n",
    "plt.ylabel('Y')\n",
    "\n",
    "#add a title\n",
    "plt.title('Here is a title for the graph')\n"
   ]
  },
  {
   "cell_type": "markdown",
   "metadata": {},
   "source": [
    "### Legend(s)\n",
    "\n",
    "Legends are crucial when a plot contains more than one dataset. They help distinguish between different groups of data. Matplotlib automatically generates a legend if you label your datasets.\n",
    "\n"
   ]
  },
  {
   "cell_type": "code",
   "execution_count": 4,
   "metadata": {},
   "outputs": [
    {
     "data": {
      "text/plain": [
       "<matplotlib.legend.Legend at 0x12e192410>"
      ]
     },
     "execution_count": 4,
     "metadata": {},
     "output_type": "execute_result"
    },
    {
     "data": {
      "image/png": "[encoded data removed]",
      "text/plain": [
       "<Figure size 640x480 with 1 Axes>"
      ]
     },
     "metadata": {},
     "output_type": "display_data"
    }
   ],
   "source": [
    "value1 = [1, 2, 3]\n",
    "value2 = [1, 2, 3]\n",
    "value3 = [1, 4, 9]\n",
    "\n",
    "plt.plot(value1, value2, label='Value 2')\n",
    "plt.plot(value1, value3, label='Value 3')\n",
    "\n",
    "#add x and y labels\n",
    "plt.xlabel('This is some X')\n",
    "plt.ylabel('Y')\n",
    "\n",
    "#add a title\n",
    "plt.title('Here is a title for the graph')\n",
    "\n",
    "#add a legend to your graph\n",
    "plt.legend()"
   ]
  },
  {
   "cell_type": "markdown",
   "metadata": {},
   "source": [
    "### Formatting arguments\n",
    "\n",
    "Formatting arguments can be passed into the .plot function. They appear inside the plt.plot( ) function, and allow you to fine tune different parameters. For a full list of these, check the documentation.\n",
    "\n",
    "For example:\n",
    "\n",
    "color = ' '\n",
    "marker = ' '\n",
    "linestyle = ' '\n",
    "markersize =  (some number)\n",
    "\n"
   ]
  },
  {
   "cell_type": "markdown",
   "metadata": {},
   "source": [
    "### Working with color abbreviations\n",
    "\n",
    "The documentation lists several default colors that you can use.\n",
    "\n",
    "| abbreviation | color   |   |   |\n",
    "|-----------|---------|---|---|\n",
    "| 'b'       | blue    |   |   |\n",
    "| 'g'       | green   |   |   |\n",
    "| 'r'       | red     |   |   |\n",
    "| 'c'       | cyan    |   |   |\n",
    "| 'm'       | magenta |   |   |\n",
    "| 'y'       | yellow  |   |   |\n",
    "| 'k'       | black   |   |   |\n",
    "| 'w'       | white   |   |   |\n",
    "|           |         |   |   |\n"
   ]
  },
  {
   "cell_type": "code",
   "execution_count": 5,
   "metadata": {},
   "outputs": [
    {
     "data": {
      "text/plain": [
       "<matplotlib.legend.Legend at 0x11f8ccb90>"
      ]
     },
     "execution_count": 5,
     "metadata": {},
     "output_type": "execute_result"
    },
    {
     "data": {
      "image/png": "[encoded data removed]",
      "text/plain": [
       "<Figure size 640x480 with 1 Axes>"
      ]
     },
     "metadata": {},
     "output_type": "display_data"
    }
   ],
   "source": [
    "value1 = [1, 2, 3]\n",
    "value2 = [1, 2, 3]\n",
    "value3 = [1, 4, 9]\n",
    "\n",
    "plt.plot(value1, value2, color='g', label='Value 2')\n",
    "plt.plot(value1, value3, color='r', label='Value 3')\n",
    "\n",
    "plt.xlabel('This is some X')\n",
    "plt.ylabel('Y')\n",
    "plt.title('Here is a title for the graph')\n",
    "plt.legend()"
   ]
  },
  {
   "cell_type": "markdown",
   "metadata": {},
   "source": [
    "### Working with hex colors\n",
    "\n",
    "From the documentation: \"If the color is the only part of the format string, you can additionally use any matplotlib.colors spec, e.g. full names ('green') or hex strings ('#008000').\"\n",
    "\n",
    "Just google \"hex color picker\" to find hex color codes. Here are some near the top of the search results : \n",
    "\n",
    "https://www.w3schools.com/colors/colors_picker.asp\n",
    "\n",
    "https://htmlcolorcodes.com/\n",
    "\n"
   ]
  },
  {
   "cell_type": "code",
   "execution_count": 6,
   "metadata": {},
   "outputs": [
    {
     "data": {
      "text/plain": [
       "<matplotlib.legend.Legend at 0x12e2acb10>"
      ]
     },
     "execution_count": 6,
     "metadata": {},
     "output_type": "execute_result"
    },
    {
     "data": {
      "image/png": "[encoded data removed]",
      "text/plain": [
       "<Figure size 640x480 with 1 Axes>"
      ]
     },
     "metadata": {},
     "output_type": "display_data"
    }
   ],
   "source": [
    "value1 = [1, 2, 3]\n",
    "value2 = [1, 2, 3]\n",
    "value3 = [1, 4, 9]\n",
    "\n",
    "plt.plot(value1, value2, color='#0000ff', label='Value 2')\n",
    "plt.plot(value1, value3, color='#ff8000', label='Value 3')\n",
    "\n",
    "plt.xlabel('This is some X')\n",
    "plt.ylabel('Y')\n",
    "plt.title('Here is a title for the graph')\n",
    "plt.legend()"
   ]
  },
  {
   "cell_type": "markdown",
   "metadata": {},
   "source": [
    "### Different Markers\n",
    "\n",
    "From the documentation again:\n",
    "\n",
    "| character | description           |\n",
    "|-----------|-----------------------|\n",
    "| '.'       | point marker          |\n",
    "| ','       | pixel marker          |\n",
    "| 'o'       | circle marker         |\n",
    "| 'v'       | triangle_down marker  |\n",
    "| '^'       | triangle_up marker    |\n",
    "| '<'       | triangle_left marker  |\n",
    "| '>'       | triangle_right marker |\n",
    "| '1'       | tri_down marker       |\n",
    "| '2'       | tri_up marker         |\n",
    "| '3'       | tri_left marker       |\n",
    "| '4'       | tri_right marker      |\n",
    "| 's'       | square marker         |\n",
    "| 'p'       | pentagon marker       |\n",
    "| '*'       | star marker           |\n",
    "| 'h'       | hexagon1 marker       |\n",
    "| 'H'       | hexagon2 marker       |\n",
    "| '+'       | plus marker           |\n",
    "| 'x'       | x marker              |\n",
    "| 'D'       | diamond marker        |\n",
    "| 'd'       | thin_diamond marker   |\n",
    "| '\\|'      | vline marker          |\n",
    "| '_'       | hline marker          |\n",
    "|           |                       |\n",
    "|           |                       |\n",
    "|           |                       |\n"
   ]
  },
  {
   "cell_type": "code",
   "execution_count": 7,
   "metadata": {},
   "outputs": [
    {
     "data": {
      "text/plain": [
       "<matplotlib.legend.Legend at 0x12e341cd0>"
      ]
     },
     "execution_count": 7,
     "metadata": {},
     "output_type": "execute_result"
    },
    {
     "data": {
      "image/png": "[encoded data removed]",
      "text/plain": [
       "<Figure size 640x480 with 1 Axes>"
      ]
     },
     "metadata": {},
     "output_type": "display_data"
    }
   ],
   "source": [
    "value1 = [1, 2, 3]\n",
    "value2 = [1, 2, 3]\n",
    "value3 = [1, 4, 9]\n",
    "\n",
    "plt.plot(value1, value2, color='#0000ff', marker = '.', label='Value 2')\n",
    "plt.plot(value1, value3, color='#ff8000', marker = 'o', label='Value 3')\n",
    "\n",
    "plt.xlabel('This is some X')\n",
    "plt.ylabel('Y')\n",
    "plt.title('Here is a title for the graph')\n",
    "plt.legend()"
   ]
  },
  {
   "cell_type": "markdown",
   "metadata": {},
   "source": [
    "### Line styles\n",
    "\n",
    "| character | description         |\n",
    "|-----------|---------------------|\n",
    "| '-'       | solid line style    |\n",
    "| '--'      | dashed line style   |\n",
    "| '-.'      | dash-dot line style |\n",
    "| ':'       | dotted line style   |"
   ]
  },
  {
   "cell_type": "code",
   "execution_count": 8,
   "metadata": {},
   "outputs": [
    {
     "data": {
      "text/plain": [
       "<matplotlib.legend.Legend at 0x12e3dca50>"
      ]
     },
     "execution_count": 8,
     "metadata": {},
     "output_type": "execute_result"
    },
    {
     "data": {
      "image/png": "[encoded data removed]",
      "text/plain": [
       "<Figure size 640x480 with 1 Axes>"
      ]
     },
     "metadata": {},
     "output_type": "display_data"
    }
   ],
   "source": [
    "value1 = [1, 2, 3]\n",
    "value2 = [1, 2, 3]\n",
    "value3 = [1, 4, 9]\n",
    "\n",
    "plt.plot(value1, value2, color='#0000ff', linestyle= '-', marker = '.', label='Value 2')\n",
    "plt.plot(value1, value3, color='#ff8000', linestyle= ':',marker = 'o', label='Value 3')\n",
    "\n",
    "plt.xlabel('This is some X')\n",
    "plt.ylabel('Y')\n",
    "plt.title('Here is a title for the graph')\n",
    "plt.legend()"
   ]
  },
  {
   "cell_type": "markdown",
   "metadata": {},
   "source": [
    "### Line Width"
   ]
  },
  {
   "cell_type": "code",
   "execution_count": null,
   "metadata": {},
   "outputs": [],
   "source": [
    "plt.plot(value1, value2, color='#0000ff', linestyle= '-', marker = '.', linewidth=5,  label='Value 2')\n",
    "plt.plot(value1, value3, color='#ff8000', linestyle= ':',marker = 'o', linewidth=1, label='Value 3')\n",
    "\n",
    "plt.xlabel('This is some X')\n",
    "plt.ylabel('Y')\n",
    "plt.title('Here is a title for the graph')\n",
    "plt.legend()"
   ]
  },
  {
   "cell_type": "markdown",
   "metadata": {},
   "source": [
    "### Abbreviated formatting arguments\n",
    "\n",
    "You don't need the whole argument 'color =', you can shorten that to just be the color. Keep in mind this may make your code less readable.\n",
    "\n",
    "fmt = '[marker][line][color]'\n"
   ]
  },
  {
   "cell_type": "code",
   "execution_count": null,
   "metadata": {},
   "outputs": [],
   "source": [
    "plt.plot(value1, value2, '.-b', linewidth=2,  label='Value 2')\n",
    "plt.plot(value1, value3, 'o:m', linewidth=1, label='Value 3')\n",
    "\n",
    "plt.xlabel('This is some X')\n",
    "plt.ylabel('Y')\n",
    "plt.title('Here is a title for the graph')\n",
    "plt.legend()\n",
    "\n"
   ]
  },
  {
   "cell_type": "markdown",
   "metadata": {},
   "source": [
    "### Tick marks"
   ]
  },
  {
   "cell_type": "code",
   "execution_count": null,
   "metadata": {},
   "outputs": [],
   "source": [
    "value1 = [1, 2, 3]\n",
    "value2 = [1, 2, 3]\n",
    "value3 = [1, 4, 9]\n",
    "\n",
    "\n",
    "plt.plot(value1, value2, color='#0000ff', linestyle= '-', marker = '.', linewidth=2,  label='Value 2')\n",
    "plt.plot(value1, value3, color='#ff8000', linestyle= ':',marker = 'o', linewidth=1, label='Value 3')\n",
    "\n",
    "plt.xlabel('This is some X')\n",
    "plt.ylabel('Y')\n",
    "plt.xticks(fontsize=9)\n",
    "plt.yticks(fontsize=6)\n",
    "\n",
    "plt.title('Here is a title for the graph')\n",
    "plt.legend()"
   ]
  },
  {
   "cell_type": "markdown",
   "metadata": {},
   "source": [
    "## Graph Styles\n",
    "\n",
    "https://matplotlib.org/stable/gallery/style_sheets/style_sheets_reference.html\n",
    "\n",
    "\n",
    "Takes the form of:\n",
    "\n",
    "plt.style.use()"
   ]
  },
  {
   "cell_type": "code",
   "execution_count": null,
   "metadata": {},
   "outputs": [],
   "source": [
    "# ggolot 2 style\n",
    "plt.style.use('ggplot')\n",
    "plt.plot(value1, value2, label='Value 2')\n",
    "plt.plot(value1, value3, label='Value 3')\n",
    "\n",
    "plt.xlabel('This is some X')\n",
    "plt.ylabel('Y')\n",
    "plt.title('Here is a title for the graph')\n",
    "plt.legend()\n"
   ]
  },
  {
   "cell_type": "code",
   "execution_count": null,
   "metadata": {},
   "outputs": [],
   "source": [
    "# seaborn 2 style\n",
    "plt.style.use('seaborn')\n",
    "plt.plot(value1, value2, label='Value 2')\n",
    "plt.plot(value1, value3, label='Value 3')\n",
    "\n",
    "plt.xlabel('This is some X')\n",
    "plt.ylabel('Y')\n",
    "plt.title('Here is a title for the graph')\n",
    "plt.legend()"
   ]
  },
  {
   "cell_type": "code",
   "execution_count": null,
   "metadata": {},
   "outputs": [],
   "source": [
    "# fivethirtyeight style\n",
    "plt.style.use('fivethirtyeight')\n",
    "plt.plot(value1, value2, label='Value 2')\n",
    "plt.plot(value1, value3, label='Value 3')\n",
    "\n",
    "plt.xlabel('This is some X')\n",
    "plt.ylabel('Y')\n",
    "plt.title('Here is a title for the graph')\n",
    "plt.legend()"
   ]
  },
  {
   "cell_type": "code",
   "execution_count": null,
   "metadata": {},
   "outputs": [],
   "source": [
    "print(plt.style.available)"
   ]
  },
  {
   "cell_type": "markdown",
   "metadata": {},
   "source": [
    "## Other Useful Properties \n"
   ]
  },
  {
   "cell_type": "code",
   "execution_count": null,
   "metadata": {},
   "outputs": [],
   "source": [
    "plt.style.use('default')\n",
    "plt.plot(value1, value2, color='#0000ff', linestyle= '-', marker = '.', linewidth=2,  label='Value 2')\n",
    "plt.plot(value1, value3, color='#ff8000', linestyle= ':',marker = 'o', linewidth=1, label='Value 3')\n",
    "\n",
    "plt.xlabel('This is some X')\n",
    "plt.ylabel('Y')\n",
    "plt.title('Here is a title for the graph')\n",
    "plt.legend()"
   ]
  },
  {
   "cell_type": "markdown",
   "metadata": {},
   "source": [
    "### Set Plot Size\n"
   ]
  },
  {
   "cell_type": "code",
   "execution_count": null,
   "metadata": {},
   "outputs": [],
   "source": [
    "#this can sometimes go wrong, set this BEFORE calling a plot\n",
    "plt.figure(figsize=(20, 10))\n",
    "plt.plot(value1, value2, color='#0000ff', linestyle= '-', marker = '.', linewidth=2,  label='Value 2')\n",
    "plt.plot(value1, value3, color='#ff8000', linestyle= ':',marker = 'o', linewidth=1, label='Value 3')\n",
    "\n",
    "plt.xlabel('This is some X')\n",
    "plt.ylabel('Y')\n",
    "plt.title('Here is a title for the graph')\n",
    "plt.legend()\n",
    "\n"
   ]
  },
  {
   "cell_type": "markdown",
   "metadata": {},
   "source": [
    "## Graph Examples\n",
    "\n",
    "### Line graphs\n",
    "\n",
    "Line plots are used to display trends over time or ordered categories. They are especially useful for time-series data.\n",
    "\n",
    "#### Example 1: Simple Line Plot\n",
    "\n",
    "**Use-Case:** Showing temperature changes over a week.\n",
    "\n",
    "**Interpretation:** The plot will show temperature trends, with time on the x-axis and temperature on the y-axis."
   ]
  },
  {
   "cell_type": "code",
   "execution_count": null,
   "metadata": {},
   "outputs": [],
   "source": [
    "import matplotlib.pyplot as plt\n",
    "import numpy as np\n",
    "\n",
    "# Data\n",
    "days = np.array(['Mon', 'Tue', 'Wed', 'Thu', 'Fri', 'Sat', 'Sun'])\n",
    "temperatures = np.array([22, 24, 19, 23, 25, 27, 26])\n",
    "\n",
    "# Plot\n",
    "plt.plot(days, temperatures)\n",
    "plt.title('Temperature Over a Week')\n",
    "plt.xlabel('Day')\n",
    "plt.ylabel('Temperature (°C)')\n",
    "plt.show()\n"
   ]
  },
  {
   "cell_type": "markdown",
   "metadata": {},
   "source": [
    "#### Example 2: Multiple Line Plot\n",
    "\n",
    "**Use-Case:** Comparing sales of different products over a year.\n",
    "\n",
    "**Interpretation:** Each line represents a product, allowing comparison of sales trends."
   ]
  },
  {
   "cell_type": "code",
   "execution_count": null,
   "metadata": {},
   "outputs": [],
   "source": [
    "months = range(1, 13)\n",
    "\n",
    "#this code just creates a random set of numbers for our example\n",
    "product_a_sales = np.random.randint(20, 50, size=12)\n",
    "product_b_sales = np.random.randint(10, 40, size=12)\n",
    "\n",
    "plt.plot(months, product_a_sales, label='Product A')\n",
    "plt.plot(months, product_b_sales, label='Product B')\n",
    "plt.title('Monthly Sales Comparison')\n",
    "plt.xlabel('Month')\n",
    "plt.ylabel('Sales Units')\n",
    "plt.legend()\n",
    "plt.show()\n"
   ]
  },
  {
   "cell_type": "markdown",
   "metadata": {},
   "source": [
    "### Scatter Plots"
   ]
  },
  {
   "cell_type": "code",
   "execution_count": null,
   "metadata": {},
   "outputs": [],
   "source": [
    "## example from the book\n",
    "## this is an older example, and may throw you an error. It is inlcuded here.. because the example\n",
    "## in the book is really good. \n",
    "\n",
    "rng = np.random.RandomState(1955)\n",
    "x = rng.randn(100)\n",
    "y = rng.randn(100)\n",
    "\n",
    "colors = rng.rand(100)\n",
    "sizes = 1000 * rng.rand(100)\n",
    "\n",
    "plt.scatter(x, y, c=colors, s=sizes, alpha=0.3, \n",
    "            cmap='viridis')\n",
    "plt.colorbar();  # show color scale\n"
   ]
  },
  {
   "cell_type": "markdown",
   "metadata": {},
   "source": [
    "There is a lot more to do with scatterplots, but we will pause there until we start learning seaborn..."
   ]
  },
  {
   "cell_type": "markdown",
   "metadata": {},
   "source": []
  },
  {
   "cell_type": "markdown",
   "metadata": {},
   "source": [
    "### Stack Plots"
   ]
  },
  {
   "cell_type": "code",
   "execution_count": null,
   "metadata": {},
   "outputs": [],
   "source": [
    "qtrs = [1, 2, 3, 4]\n",
    "series1 = [60, 120, 150, 152]\n",
    "series2 = [10, 15, 26, 109]\n",
    "series3 = [7, 56, 115, 117]\n",
    "labels = ['series1','series2','series3']\n",
    "\n",
    "plt.stackplot(qtrs, series1, series2, series3, labels=labels)\n",
    "plt.title(\"Sales over 4 QTRS\")\n",
    "\n",
    "plt.legend(loc='upper left')\n",
    "\n",
    "\n"
   ]
  },
  {
   "cell_type": "code",
   "execution_count": null,
   "metadata": {},
   "outputs": [],
   "source": [
    "# Stacking to 100%\n",
    "\n",
    "days = [1, 2, 3, 4, 5, 6, 7]\n",
    "breakfast = [.2, .1, .2, .25, .3, .4, .45]\n",
    "lunch = [.35, .20, .4, .35, .5, .35, .25]\n",
    "dinner =  [.45, .70, .4, .40, .2, .25, .30]\n",
    "\n",
    "labels = ['breakfast', 'lunch', 'dinner']\n",
    "plt.stackplot(days, breakfast, lunch, dinner, labels=labels)\n",
    "plt.title(\"Sales Per DayPart\")\n",
    "plt.legend(bbox_to_anchor=(1.05, 1.0), loc='upper left')\n"
   ]
  },
  {
   "cell_type": "markdown",
   "metadata": {},
   "source": [
    "### Histograms"
   ]
  },
  {
   "cell_type": "code",
   "execution_count": null,
   "metadata": {},
   "outputs": [],
   "source": [
    "age = [69, 21, 31, 80, 37, 53, 20, 27, 38, 43, 26, 46, 62, 69, 34, 47, 59]\n",
    "\n",
    "binsep = [20,30, 40, 50,60, 70, 80]\n",
    "plt.hist(age, bins=binsep, edgecolor='white')\n",
    "\n"
   ]
  },
  {
   "cell_type": "code",
   "execution_count": null,
   "metadata": {},
   "outputs": [],
   "source": [
    "import pandas as pd\n",
    "import numpy as np\n",
    "path = \"../data/covid_survey_full.csv\"\n",
    "sur= pd.read_csv(path)\n",
    "sur.head(5)"
   ]
  },
  {
   "cell_type": "code",
   "execution_count": null,
   "metadata": {},
   "outputs": [],
   "source": [
    "sur.info()"
   ]
  },
  {
   "cell_type": "code",
   "execution_count": null,
   "metadata": {},
   "outputs": [],
   "source": [
    "sur.dropna(inplace=True)\n",
    "sur.info()"
   ]
  },
  {
   "cell_type": "code",
   "execution_count": null,
   "metadata": {},
   "outputs": [],
   "source": [
    "plt.style.use('default')\n",
    "s_age = sur['age']\n",
    "\n",
    "binsep = [20, 30, 40, 50, 60, 70, 80, 90, 100]\n",
    "plt.hist(s_age, bins=binsep, edgecolor='white')\n",
    "plt.title(\"Ages of Survey Takers\")"
   ]
  },
  {
   "cell_type": "markdown",
   "metadata": {},
   "source": [
    "### Bar Charts\n",
    "\n",
    "Bar charts are useful for comparing quantities among discrete categories.\n",
    "\n",
    "**Example 1:** Vertical Bar Chart\n",
    "\n",
    "**Use-Case:** Displaying the number of customers in different age groups.\n",
    "\n",
    "**Interpretation:** Each bar represents an age group, and its height shows the number of customers."
   ]
  },
  {
   "cell_type": "code",
   "execution_count": null,
   "metadata": {},
   "outputs": [],
   "source": [
    "age_groups = ['18-25', '26-35', '36-45', '46-55', '56+']\n",
    "customers = [45, 67, 38, 52, 19]\n",
    "\n",
    "plt.bar(age_groups, customers)\n",
    "plt.title('Customers by Age Group')\n",
    "plt.xlabel('Age Group')\n",
    "plt.ylabel('Number of Customers')\n",
    "plt.show()\n"
   ]
  },
  {
   "cell_type": "markdown",
   "metadata": {},
   "source": [
    "##### Example: Horizontal Bar Chart\n",
    "\n",
    "**Use-Case:** Showing the amount of time spent on different activities in a day.\n",
    "\n",
    "**Interpretation:** Each bar represents an activity, and its length indicates the time spent."
   ]
  },
  {
   "cell_type": "code",
   "execution_count": null,
   "metadata": {},
   "outputs": [],
   "source": [
    "activities = ['Sleeping', 'Eating', 'Working', 'Leisure']\n",
    "hours = [8, 2, 8, 6]\n",
    "\n",
    "plt.barh(activities, hours)\n",
    "plt.title('Daily Time Spent on Activities')\n",
    "plt.xlabel('Hours')\n",
    "plt.ylabel('Activities')\n",
    "plt.show()\n"
   ]
  },
  {
   "cell_type": "code",
   "execution_count": null,
   "metadata": {},
   "outputs": [],
   "source": []
  },
  {
   "cell_type": "markdown",
   "metadata": {},
   "source": [
    "#### Matplotlib Barcharts"
   ]
  },
  {
   "cell_type": "code",
   "execution_count": null,
   "metadata": {},
   "outputs": [],
   "source": [
    "%matplotlib inline\n",
    "import numpy as np\n",
    "import matplotlib.pyplot as plt\n",
    "import pandas as pd"
   ]
  },
  {
   "cell_type": "markdown",
   "metadata": {},
   "source": [
    "##### Example\n",
    "\n",
    "Highlight just one bar on the barchart"
   ]
  },
  {
   "cell_type": "code",
   "execution_count": null,
   "metadata": {},
   "outputs": [],
   "source": [
    "company = ['ACME', \"RRIndustries\", \"Speedyco\", \"BugsInc\"]\n",
    "sales = [29, 33, 44, 55]\n",
    "\n",
    "ccs = plt.bar(company, sales, color='grey')\n",
    "ccs[2].set_color('r')\n",
    "plt.title(\"Cartoon Company Sales\")\n"
   ]
  },
  {
   "cell_type": "code",
   "execution_count": null,
   "metadata": {},
   "outputs": [],
   "source": [
    "# Side by side bar charts\n",
    "\n",
    "company = ['ACME', \"RRIndustries\", \"Speedyco\", \"BugsInc\"]\n",
    "sales = [29, 33, 44, 55]\n",
    "views = [49, 55, 24, 16]\n",
    "\n",
    "xposition = np.arange(len(company)) \n",
    "plt.xticks(xposition, company)\n",
    "\n",
    "plt.bar(xposition-0.15, sales, width=0.3, label='Sales')\n",
    "plt.bar(xposition+0.15, views, width=0.3, label='Views')\n",
    "\n",
    "plt.xlabel('Sales')\n",
    "plt.title('Cartoon Company Sales')\n",
    "plt.legend()"
   ]
  },
  {
   "cell_type": "code",
   "execution_count": null,
   "metadata": {},
   "outputs": [],
   "source": [
    "# horizontal charts\n",
    "\n",
    "company = ['ACME', \"RRIndustries\", \"Speedyco\", \"BugsInc\"]\n",
    "sales = [29, 33, 44, 55]\n",
    "views = [49, 55, 24, 16]\n",
    "\n",
    "\n",
    "yposition = np.arange(len(company)) \n",
    "plt.yticks(yposition, company)\n",
    "\n",
    "plt.barh(yposition-0.15, sales, height=0.3, label='Sales')\n",
    "plt.barh(yposition+0.15, views, height=0.3, label='Views')\n",
    "\n",
    "plt.ylabel('Sales')\n",
    "plt.title('Cartoon Company Sales')\n",
    "plt.legend()\n"
   ]
  },
  {
   "cell_type": "markdown",
   "metadata": {},
   "source": [
    "#### Pandas Bar Charts\n"
   ]
  },
  {
   "cell_type": "code",
   "execution_count": null,
   "metadata": {},
   "outputs": [],
   "source": [
    "path = \"../data/seattle_pet_licenses.csv\"\n",
    "pets = pd.read_csv(path)\n",
    "pets.head(5)"
   ]
  },
  {
   "cell_type": "code",
   "execution_count": null,
   "metadata": {},
   "outputs": [],
   "source": [
    "pets.columns = ['issue_date', 'license', 'pname', 'species',\n",
    "       'breed', 'secondary_breed', 'zip']\n",
    "pets"
   ]
  },
  {
   "cell_type": "markdown",
   "metadata": {},
   "source": [
    "#### Breaking down a bar chart\n",
    "In the next code chunk, we will put together a slighltly more complex set of code to create a bar chart. Here I describe the various pieces we have put together one at a time. \n",
    "```python\n",
    "pets[\"pname\"].value_counts()[:30].plot(kind='bar')\n",
    "plt.title('Pet names in Seattle')\n",
    "```\n",
    "\n",
    "```pets[\"pname\"].value_counts()[:30].plot(kind='bar'):```\n",
    "\n",
    "* pets is the name of our pandas DataFrame, a 2-dimensional labeled data structure with columns of  different types.\n",
    "* ```[\"pname\"]``` is indexing or selecting a column from the DataFrame pets. This column, named pname, contains the names of pets.\n",
    "* ```.value_counts()``` is a method called on the pname series (a pandas Series is a one-dimensional array capable of holding any data type). This method returns a Series containing counts of unique values, in descending order so that the first element is the most frequently-occurring element. It essentially counts how many times each pet name appears in the dataset.\n",
    "* ```[:30] ``` slices the resulting Series to keep only the top 30 most frequent pet names.\n",
    "* ```.plot(kind='bar'):``` This part of the code takes the sliced Series of top 30 pet names and their counts and plots them as a bar chart. The kind='bar' argument specifies that the plot should be a bar chart, which is suitable for showing the frequency of each pet name visually.\n",
    "\n",
    "Here is the second line of our code:\n",
    "```\n",
    "plt.title('Pet names in Seattle')\n",
    "```\n",
    "\n",
    "* ```plt``` plt refers to matplotlib's pyplot module, which is a collection of functions that make matplotlib work like MATLAB, providing a procedural interface to the matplotlib object-oriented plotting library.\n",
    "* ```title()``` is a function of pyplot that sets the title of the current axis or chart. Here, it's setting the title of the bar chart to 'Pet names in Seattle', which describes the content of the visualization."
   ]
  },
  {
   "cell_type": "code",
   "execution_count": null,
   "metadata": {},
   "outputs": [],
   "source": [
    "#Using a Pandas Dataframe\n",
    "\n",
    "pets[\"pname\"].value_counts()[:30].plot(kind='bar')\n",
    "plt.title('Pet names in Seattle')\n"
   ]
  },
  {
   "cell_type": "markdown",
   "metadata": {},
   "source": [
    "### Pie Charts"
   ]
  },
  {
   "cell_type": "markdown",
   "metadata": {},
   "source": [
    "In general, there are better ways of looking at information. Pie charts tend to be over used. Before using one, think about whether a bar chart would work better for what you are trying to achieve."
   ]
  },
  {
   "cell_type": "code",
   "execution_count": null,
   "metadata": {},
   "outputs": [],
   "source": [
    "%matplotlib inline\n",
    "import numpy as np\n",
    "import matplotlib.pyplot as plt\n",
    "import pandas as pd"
   ]
  },
  {
   "cell_type": "code",
   "execution_count": null,
   "metadata": {},
   "outputs": [],
   "source": [
    "# a reluctant example\n",
    "\n",
    "slices = [80, 20]\n",
    "colors = ['#EBF426', '#FCFCFC']\n",
    "labels = ['Portion that looks like Pacman', \n",
    "         'Portion that does not look like Pacman']\n",
    "angle=45\n",
    "plt.pie(slices,\n",
    "        labels=labels,\n",
    "       colors=colors,\n",
    "       startangle=angle)\n",
    "plt.title('PacMan')\n",
    "\n",
    "# pac man (this example was creatively borrowed from graphjam.com)\n",
    "\n"
   ]
  },
  {
   "cell_type": "markdown",
   "metadata": {},
   "source": [
    "### Pets Data"
   ]
  },
  {
   "cell_type": "code",
   "execution_count": null,
   "metadata": {},
   "outputs": [],
   "source": [
    "path = \"../data/seattle_pet_licenses.csv\"\n",
    "pets = pd.read_csv(path)\n",
    "pets.head(5)"
   ]
  },
  {
   "cell_type": "code",
   "execution_count": null,
   "metadata": {},
   "outputs": [],
   "source": [
    "df = pets['Species'].value_counts()\n",
    "df"
   ]
  },
  {
   "cell_type": "code",
   "execution_count": null,
   "metadata": {},
   "outputs": [],
   "source": [
    "df = pets.groupby('Species').size()\n",
    "df"
   ]
  },
  {
   "cell_type": "code",
   "execution_count": null,
   "metadata": {},
   "outputs": [],
   "source": [
    "slices = df\n",
    "#plt.pie(slices)\n",
    "labels = ['Cat', 'Dog', \"so small you can't see it\", \"\" ]\n",
    "\n",
    "plt.pie(slices, labels=labels)\n",
    "\n",
    "plt.show()"
   ]
  },
  {
   "cell_type": "code",
   "execution_count": null,
   "metadata": {},
   "outputs": [],
   "source": [
    "df"
   ]
  },
  {
   "cell_type": "code",
   "execution_count": null,
   "metadata": {},
   "outputs": [],
   "source": [
    "df2 = pets.groupby('Species').size().to_frame(name='count').reset_index()\n",
    "df2"
   ]
  },
  {
   "cell_type": "code",
   "execution_count": null,
   "metadata": {},
   "outputs": [],
   "source": [
    "df3=df2.set_index(['Species'], append = False)\n",
    "df3"
   ]
  },
  {
   "cell_type": "code",
   "execution_count": null,
   "metadata": {},
   "outputs": [],
   "source": [
    "\n",
    "plot = df3.plot.pie(y='count', figsize=(5, 5))"
   ]
  },
  {
   "cell_type": "markdown",
   "metadata": {},
   "source": [
    "How could you fix that label problem? "
   ]
  },
  {
   "cell_type": "code",
   "execution_count": null,
   "metadata": {},
   "outputs": [],
   "source": [
    "df3[:2].plot.pie(y='count', labels= labels, figsize=(5, 5))\n",
    "labels = ['Cat', 'Dog']\n"
   ]
  },
  {
   "cell_type": "markdown",
   "metadata": {},
   "source": [
    "### Different styles "
   ]
  },
  {
   "cell_type": "code",
   "execution_count": null,
   "metadata": {},
   "outputs": [],
   "source": [
    "# fivethirtyeight\n",
    "\n",
    "plt.style.use('fivethirtyeight')\n",
    "slices = df\n",
    "plt.pie(slices)\n",
    "labels = ['Dog', 'Cat', \"so small you can't see it\", \"\" ]\n",
    "\n",
    "plt.pie(slices, labels=labels)\n",
    "\n",
    "plt.show()"
   ]
  },
  {
   "cell_type": "markdown",
   "metadata": {},
   "source": [
    "### Special Plots for Timeseries\n",
    "\n"
   ]
  },
  {
   "cell_type": "code",
   "execution_count": null,
   "metadata": {},
   "outputs": [],
   "source": [
    "# load csv of \"GSPC\"(S&P) data\n",
    "# if the dates need to be adjusted, they can be parsed in here or as a later step... we will use a 2 step process. \n",
    "import pandas as pd\n",
    "import matplotlib.pyplot as plt\n",
    "\n",
    "path = \"../data/GSPC.csv\"\n",
    "sp = pd.read_csv(path)\n",
    "sp['Date'] = pd.to_datetime(sp['Date'])\n",
    "sp.head()"
   ]
  },
  {
   "cell_type": "code",
   "execution_count": null,
   "metadata": {},
   "outputs": [],
   "source": [
    "# Index the date\n",
    "sp.set_index('Date', inplace = True) \n",
    "sp\n"
   ]
  },
  {
   "cell_type": "code",
   "execution_count": null,
   "metadata": {},
   "outputs": [],
   "source": [
    "#we can plot this using Pandas\n",
    "sp['Close'].resample(rule = 'W').mean().plot(kind = 'line', figsize = (15,5))\n",
    "plt.title('Weekly mean close price for S&P')"
   ]
  },
  {
   "cell_type": "code",
   "execution_count": null,
   "metadata": {},
   "outputs": [],
   "source": [
    "# we can also use a lower level matplotlib graph\n",
    "## keep in mind, you do not need to keep reimporting the data!\n",
    "## I am just doing this in case you are starting here. If you started\n",
    "## in the cell above you just need to use .reset_index()\n",
    "\n",
    "path = \"../data/GSPC.csv\"\n",
    "sp = pd.read_csv(path)\n",
    "sp['Date'] = pd.to_datetime(sp['Date'])\n",
    "\n",
    "sp_date = sp['Date']\n",
    "sp_close = sp['Close']\n",
    "\n",
    "plt.figure(figsize=(50,40))\n",
    "\n",
    "plt.plot_date(sp_date, sp_close,\n",
    "              linestyle='solid')\n"
   ]
  },
  {
   "cell_type": "code",
   "execution_count": null,
   "metadata": {},
   "outputs": [],
   "source": [
    "\n",
    "plt.figure(figsize=(40,30))\n",
    "plt.plot_date(sp_date, sp_close,\n",
    "              linestyle='solid')\n",
    "plt.xlabel('Years', fontsize=24)\n",
    "plt.ylabel('Close', fontsize=24)\n",
    "plt.xticks(fontsize=22)\n",
    "plt.yticks(fontsize=22)\n",
    "\n"
   ]
  },
  {
   "cell_type": "markdown",
   "metadata": {},
   "source": [
    "# Seaborn"
   ]
  },
  {
   "cell_type": "markdown",
   "metadata": {},
   "source": [
    "Matplotlib is great for visualization, but it can often require very complicated and convoluted code to get from a dataframe to the chart. Seaborn was built on top of Matplotlib, and provides a better (some say) format experience. Because matplotlib is so widely used, it is important to understand how it works. But for our purposes, on some charts, Seaborn should be preferred. \n",
    "\n",
    "https://seaborn.pydata.org/index.html"
   ]
  },
  {
   "cell_type": "code",
   "execution_count": 3,
   "metadata": {},
   "outputs": [],
   "source": [
    "import pandas as pd\n",
    "from matplotlib import pyplot as plt\n",
    "import seaborn as sns\n",
    "\n",
    "#make the plots show up inline\n",
    "%matplotlib inline \n"
   ]
  },
  {
   "cell_type": "code",
   "execution_count": null,
   "metadata": {},
   "outputs": [],
   "source": [
    "sns.get_dataset_names()"
   ]
  },
  {
   "cell_type": "markdown",
   "metadata": {},
   "source": [
    "## Changing shapes\n",
    "To change the default size when catplot(), relplot(), pairplot(), lmplot() and jointplot() pass the plot function an argument for height and for aspect (example in scatterplots dialogue below)"
   ]
  },
  {
   "cell_type": "markdown",
   "metadata": {},
   "source": [
    "## Load some data"
   ]
  },
  {
   "cell_type": "code",
   "execution_count": 4,
   "metadata": {},
   "outputs": [],
   "source": [
    "# load the data for this example\n",
    "path = \"../data/winequality_red.csv\"\n",
    "wine = pd.read_csv(path, delimiter = ';')\n",
    "\n",
    "path = \"../data/country_2012.csv\"\n",
    "country = pd.read_csv(path)\n"
   ]
  },
  {
   "cell_type": "code",
   "execution_count": null,
   "metadata": {},
   "outputs": [],
   "source": [
    "wine.head()"
   ]
  },
  {
   "cell_type": "code",
   "execution_count": null,
   "metadata": {},
   "outputs": [],
   "source": [
    "country.head()"
   ]
  },
  {
   "cell_type": "markdown",
   "metadata": {},
   "source": [
    "## Barplot/Countplot\n"
   ]
  },
  {
   "cell_type": "code",
   "execution_count": null,
   "metadata": {},
   "outputs": [],
   "source": [
    "sns.countplot(x='Region', data=country)"
   ]
  },
  {
   "cell_type": "markdown",
   "metadata": {},
   "source": [
    "That's not great... we can rotate that. "
   ]
  },
  {
   "cell_type": "code",
   "execution_count": null,
   "metadata": {},
   "outputs": [],
   "source": [
    "sns.countplot(x='Region', data=country)\n",
    "plt.xticks(rotation=-90)\n",
    "plt.show()"
   ]
  },
  {
   "cell_type": "markdown",
   "metadata": {},
   "source": [
    "## Scatterplots\n",
    "You use sns.lmplot to make scatterplots in seaborn. \n"
   ]
  },
  {
   "cell_type": "code",
   "execution_count": null,
   "metadata": {},
   "outputs": [],
   "source": [
    "sns.lmplot(x='lifeexp', y='income', data=country)   "
   ]
  },
  {
   "cell_type": "code",
   "execution_count": null,
   "metadata": {},
   "outputs": [],
   "source": [
    "#You can remove the linear line by adding \"fit_reg=False\"\n",
    "sns.lmplot(x='lifeexp', y='income',\n",
    "           fit_reg=False,\n",
    "           data=country) "
   ]
  },
  {
   "cell_type": "code",
   "execution_count": null,
   "metadata": {},
   "outputs": [],
   "source": [
    "#fill in below\n",
    "sns.lmplot(x='lifeexp', y='income',\n",
    "           fit_reg=False,\n",
    "           hue='Region',\n",
    "           data=country) "
   ]
  },
  {
   "cell_type": "code",
   "execution_count": null,
   "metadata": {},
   "outputs": [],
   "source": [
    "#add another argument... this time \"hue='Region'\" also add in a regression line. Easy!\n",
    "sns.lmplot(x='lifeexp', y='income',\n",
    "           fit_reg=True,\n",
    "           hue='Region',\n",
    "           data=country)"
   ]
  },
  {
   "cell_type": "markdown",
   "metadata": {},
   "source": [
    "## Density Plots\n",
    "If you can visualize points, you can probably visualize some sort of density with points\n"
   ]
  },
  {
   "cell_type": "code",
   "execution_count": null,
   "metadata": {},
   "outputs": [],
   "source": [
    "sns.lmplot(x='lifeexp', y='income', data=country,\n",
    "           fit_reg=True, \n",
    "           hue='Region',\n",
    "           height=4, # change height\n",
    "           aspect=2)"
   ]
  },
  {
   "cell_type": "code",
   "execution_count": null,
   "metadata": {},
   "outputs": [],
   "source": [
    "#this type of density chart is probably only useful to a small number of you\n",
    "sns.kdeplot(x=country.lifeexp, y=country.income)"
   ]
  },
  {
   "cell_type": "code",
   "execution_count": null,
   "metadata": {},
   "outputs": [],
   "source": [
    "#notice how we we can add some matplotlib arguments. Cool!\n",
    "plt.figure(figsize=(80,40))\n",
    "sns.lmplot(x='lifeexp', y='income', data=country,\n",
    "           fit_reg=True, \n",
    "           line_kws={'color': 'red'},\n",
    "           height=5, # change height\n",
    "           aspect=3)\n",
    "sns.kdeplot(x=country.lifeexp, y=country.income\n",
    "           )"
   ]
  },
  {
   "cell_type": "markdown",
   "metadata": {},
   "source": [
    "## Point Plots"
   ]
  },
  {
   "cell_type": "code",
   "execution_count": null,
   "metadata": {},
   "outputs": [],
   "source": [
    "sns.pointplot(x='quality', y='pH', data=wine)"
   ]
  },
  {
   "cell_type": "markdown",
   "metadata": {},
   "source": [
    "## Catplot"
   ]
  },
  {
   "cell_type": "code",
   "execution_count": null,
   "metadata": {},
   "outputs": [],
   "source": [
    "country.head()"
   ]
  },
  {
   "cell_type": "code",
   "execution_count": null,
   "metadata": {},
   "outputs": [],
   "source": [
    "#these plots can really help to understand counts (number of records) in categorical\n",
    "#values\n",
    "p = sns.catplot(x='Region', y='income', \n",
    "                  data=country,\n",
    "                  col=\"wb_class\",\n",
    "                hue= 'wb_class')\n",
    "\n",
    "p.set_xticklabels(rotation=-90)"
   ]
  },
  {
   "cell_type": "markdown",
   "metadata": {},
   "source": [
    "## Jointplot\n"
   ]
  },
  {
   "cell_type": "code",
   "execution_count": null,
   "metadata": {},
   "outputs": [],
   "source": [
    "sns.jointplot(x= 'lifeexp', y='income', data=country)"
   ]
  },
  {
   "cell_type": "markdown",
   "metadata": {},
   "source": [
    "### Trying out some different kinds of joint plots\n",
    "\n",
    "\n",
    "https://seaborn.pydata.org/generated/seaborn.jointplot.html\n",
    "\n",
    "kind{ “scatter” | “kde” | “hist” | “hex” | “reg” | “resid” }"
   ]
  },
  {
   "cell_type": "code",
   "execution_count": null,
   "metadata": {},
   "outputs": [],
   "source": [
    "# the default (same as above)\n",
    "sns.jointplot(x= 'lifeexp', y='income', data=country, kind = 'scatter')"
   ]
  },
  {
   "cell_type": "code",
   "execution_count": null,
   "metadata": {},
   "outputs": [],
   "source": [
    "# kernel density plot\n",
    "sns.jointplot(x= 'lifeexp', y='income', data=country, kind = 'kde')"
   ]
  },
  {
   "cell_type": "code",
   "execution_count": null,
   "metadata": {},
   "outputs": [],
   "source": [
    "# regression\n",
    "sns.jointplot(x= 'lifeexp', y='income', data=country, kind = 'reg')"
   ]
  },
  {
   "cell_type": "code",
   "execution_count": null,
   "metadata": {},
   "outputs": [],
   "source": [
    "# hex\n",
    "sns.jointplot(x= 'lifeexp', y='income', data=country, kind = 'hex')"
   ]
  },
  {
   "cell_type": "code",
   "execution_count": null,
   "metadata": {},
   "outputs": [],
   "source": [
    "# layering using plot_joint\n",
    "gr = sns.jointplot(x= 'lifeexp', y='income', data=country, kind = 'reg')\n",
    "gr.plot_joint(sns.kdeplot, color='g', zorder=0, levels=6)"
   ]
  },
  {
   "cell_type": "markdown",
   "metadata": {},
   "source": [
    "## Pairplot\n",
    "\n",
    "This will take all the numerical values and compare them"
   ]
  },
  {
   "cell_type": "code",
   "execution_count": null,
   "metadata": {},
   "outputs": [],
   "source": [
    "sns.pairplot(country, height=2.5)"
   ]
  },
  {
   "cell_type": "code",
   "execution_count": null,
   "metadata": {},
   "outputs": [],
   "source": [
    "#add some color\n",
    "sns.pairplot(country, hue='Region', height=2.5)"
   ]
  },
  {
   "cell_type": "markdown",
   "metadata": {},
   "source": [
    "## Heatmap\n",
    "\n"
   ]
  },
  {
   "cell_type": "code",
   "execution_count": 5,
   "metadata": {},
   "outputs": [
    {
     "data": {
      "text/html": [
       "<div>\n",
       "<style scoped>\n",
       "    .dataframe tbody tr th:only-of-type {\n",
       "        vertical-align: middle;\n",
       "    }\n",
       "\n",
       "    .dataframe tbody tr th {\n",
       "        vertical-align: top;\n",
       "    }\n",
       "\n",
       "    .dataframe thead th {\n",
       "        text-align: right;\n",
       "    }\n",
       "</style>\n",
       "<table border=\"1\" class=\"dataframe\">\n",
       "  <thead>\n",
       "    <tr style=\"text-align: right;\">\n",
       "      <th></th>\n",
       "      <th>country</th>\n",
       "      <th>lifeexp</th>\n",
       "      <th>pop</th>\n",
       "      <th>GDP10yr</th>\n",
       "      <th>income</th>\n",
       "      <th>Region</th>\n",
       "      <th>wb_class</th>\n",
       "    </tr>\n",
       "  </thead>\n",
       "  <tbody>\n",
       "    <tr>\n",
       "      <th>0</th>\n",
       "      <td>Afghanistan</td>\n",
       "      <td>61.2</td>\n",
       "      <td>34400000</td>\n",
       "      <td>9.170714</td>\n",
       "      <td>1770</td>\n",
       "      <td>Asia_Australia_Pacific</td>\n",
       "      <td>L</td>\n",
       "    </tr>\n",
       "    <tr>\n",
       "      <th>1</th>\n",
       "      <td>Albania</td>\n",
       "      <td>78.0</td>\n",
       "      <td>2890000</td>\n",
       "      <td>4.822857</td>\n",
       "      <td>10400</td>\n",
       "      <td>Europe</td>\n",
       "      <td>UM</td>\n",
       "    </tr>\n",
       "    <tr>\n",
       "      <th>2</th>\n",
       "      <td>Algeria</td>\n",
       "      <td>77.1</td>\n",
       "      <td>39700000</td>\n",
       "      <td>3.377143</td>\n",
       "      <td>13200</td>\n",
       "      <td>Africa</td>\n",
       "      <td>UM</td>\n",
       "    </tr>\n",
       "    <tr>\n",
       "      <th>3</th>\n",
       "      <td>Andorra</td>\n",
       "      <td>82.6</td>\n",
       "      <td>78000</td>\n",
       "      <td>3.092583</td>\n",
       "      <td>41900</td>\n",
       "      <td>Europe</td>\n",
       "      <td>H</td>\n",
       "    </tr>\n",
       "    <tr>\n",
       "      <th>4</th>\n",
       "      <td>Angola</td>\n",
       "      <td>63.3</td>\n",
       "      <td>27900000</td>\n",
       "      <td>9.265000</td>\n",
       "      <td>6650</td>\n",
       "      <td>Africa</td>\n",
       "      <td>LM</td>\n",
       "    </tr>\n",
       "  </tbody>\n",
       "</table>\n",
       "</div>"
      ],
      "text/plain": [
       "       country  lifeexp       pop   GDP10yr  income                  Region  \\\n",
       "0  Afghanistan     61.2  34400000  9.170714    1770  Asia_Australia_Pacific   \n",
       "1      Albania     78.0   2890000  4.822857   10400                  Europe   \n",
       "2      Algeria     77.1  39700000  3.377143   13200                  Africa   \n",
       "3      Andorra     82.6     78000  3.092583   41900                  Europe   \n",
       "4       Angola     63.3  27900000  9.265000    6650                  Africa   \n",
       "\n",
       "  wb_class  \n",
       "0        L  \n",
       "1       UM  \n",
       "2       UM  \n",
       "3        H  \n",
       "4       LM  "
      ]
     },
     "execution_count": 5,
     "metadata": {},
     "output_type": "execute_result"
    }
   ],
   "source": [
    "country.head(5)"
   ]
  },
  {
   "cell_type": "code",
   "execution_count": 7,
   "metadata": {},
   "outputs": [
    {
     "data": {
      "text/html": [
       "<div>\n",
       "<style scoped>\n",
       "    .dataframe tbody tr th:only-of-type {\n",
       "        vertical-align: middle;\n",
       "    }\n",
       "\n",
       "    .dataframe tbody tr th {\n",
       "        vertical-align: top;\n",
       "    }\n",
       "\n",
       "    .dataframe thead th {\n",
       "        text-align: right;\n",
       "    }\n",
       "</style>\n",
       "<table border=\"1\" class=\"dataframe\">\n",
       "  <thead>\n",
       "    <tr style=\"text-align: right;\">\n",
       "      <th></th>\n",
       "      <th>lifeexp</th>\n",
       "      <th>pop</th>\n",
       "      <th>GDP10yr</th>\n",
       "      <th>income</th>\n",
       "    </tr>\n",
       "  </thead>\n",
       "  <tbody>\n",
       "    <tr>\n",
       "      <th>lifeexp</th>\n",
       "      <td>1.000000</td>\n",
       "      <td>0.016006</td>\n",
       "      <td>-0.191751</td>\n",
       "      <td>0.642610</td>\n",
       "    </tr>\n",
       "    <tr>\n",
       "      <th>pop</th>\n",
       "      <td>0.016006</td>\n",
       "      <td>1.000000</td>\n",
       "      <td>0.148180</td>\n",
       "      <td>-0.047743</td>\n",
       "    </tr>\n",
       "    <tr>\n",
       "      <th>GDP10yr</th>\n",
       "      <td>-0.191751</td>\n",
       "      <td>0.148180</td>\n",
       "      <td>1.000000</td>\n",
       "      <td>-0.058396</td>\n",
       "    </tr>\n",
       "    <tr>\n",
       "      <th>income</th>\n",
       "      <td>0.642610</td>\n",
       "      <td>-0.047743</td>\n",
       "      <td>-0.058396</td>\n",
       "      <td>1.000000</td>\n",
       "    </tr>\n",
       "  </tbody>\n",
       "</table>\n",
       "</div>"
      ],
      "text/plain": [
       "          lifeexp       pop   GDP10yr    income\n",
       "lifeexp  1.000000  0.016006 -0.191751  0.642610\n",
       "pop      0.016006  1.000000  0.148180 -0.047743\n",
       "GDP10yr -0.191751  0.148180  1.000000 -0.058396\n",
       "income   0.642610 -0.047743 -0.058396  1.000000"
      ]
     },
     "execution_count": 7,
     "metadata": {},
     "output_type": "execute_result"
    }
   ],
   "source": [
    "# get the correlations for the dataframe on country\n",
    "corr = country.corr(numeric_only = True)\n",
    "corr\n"
   ]
  },
  {
   "cell_type": "code",
   "execution_count": 8,
   "metadata": {},
   "outputs": [
    {
     "data": {
      "text/plain": [
       "<Axes: >"
      ]
     },
     "execution_count": 8,
     "metadata": {},
     "output_type": "execute_result"
    },
    {
     "data": {
      "image/png": "[encoded data removed]",
      "text/plain": [
       "<Figure size 640x480 with 2 Axes>"
      ]
     },
     "metadata": {},
     "output_type": "display_data"
    }
   ],
   "source": [
    "sns.heatmap(corr, annot=True, fmt='0.1f', square=True)"
   ]
  },
  {
   "cell_type": "markdown",
   "metadata": {},
   "source": [
    "The wine dataset is probably more interesting..."
   ]
  },
  {
   "cell_type": "code",
   "execution_count": 9,
   "metadata": {},
   "outputs": [
    {
     "data": {
      "text/html": [
       "<div>\n",
       "<style scoped>\n",
       "    .dataframe tbody tr th:only-of-type {\n",
       "        vertical-align: middle;\n",
       "    }\n",
       "\n",
       "    .dataframe tbody tr th {\n",
       "        vertical-align: top;\n",
       "    }\n",
       "\n",
       "    .dataframe thead th {\n",
       "        text-align: right;\n",
       "    }\n",
       "</style>\n",
       "<table border=\"1\" class=\"dataframe\">\n",
       "  <thead>\n",
       "    <tr style=\"text-align: right;\">\n",
       "      <th></th>\n",
       "      <th>fixed acidity</th>\n",
       "      <th>volatile acidity</th>\n",
       "      <th>citric acid</th>\n",
       "      <th>residual sugar</th>\n",
       "      <th>chlorides</th>\n",
       "      <th>free sulfur dioxide</th>\n",
       "      <th>total sulfur dioxide</th>\n",
       "      <th>density</th>\n",
       "      <th>pH</th>\n",
       "      <th>sulphates</th>\n",
       "      <th>alcohol</th>\n",
       "      <th>quality</th>\n",
       "    </tr>\n",
       "  </thead>\n",
       "  <tbody>\n",
       "    <tr>\n",
       "      <th>fixed acidity</th>\n",
       "      <td>1.000000</td>\n",
       "      <td>-0.256131</td>\n",
       "      <td>0.671703</td>\n",
       "      <td>0.114777</td>\n",
       "      <td>0.093705</td>\n",
       "      <td>-0.153794</td>\n",
       "      <td>-0.113181</td>\n",
       "      <td>0.668047</td>\n",
       "      <td>-0.682978</td>\n",
       "      <td>0.183006</td>\n",
       "      <td>-0.061668</td>\n",
       "      <td>0.124052</td>\n",
       "    </tr>\n",
       "    <tr>\n",
       "      <th>volatile acidity</th>\n",
       "      <td>-0.256131</td>\n",
       "      <td>1.000000</td>\n",
       "      <td>-0.552496</td>\n",
       "      <td>0.001918</td>\n",
       "      <td>0.061298</td>\n",
       "      <td>-0.010504</td>\n",
       "      <td>0.076470</td>\n",
       "      <td>0.022026</td>\n",
       "      <td>0.234937</td>\n",
       "      <td>-0.260987</td>\n",
       "      <td>-0.202288</td>\n",
       "      <td>-0.390558</td>\n",
       "    </tr>\n",
       "    <tr>\n",
       "      <th>citric acid</th>\n",
       "      <td>0.671703</td>\n",
       "      <td>-0.552496</td>\n",
       "      <td>1.000000</td>\n",
       "      <td>0.143577</td>\n",
       "      <td>0.203823</td>\n",
       "      <td>-0.060978</td>\n",
       "      <td>0.035533</td>\n",
       "      <td>0.364947</td>\n",
       "      <td>-0.541904</td>\n",
       "      <td>0.312770</td>\n",
       "      <td>0.109903</td>\n",
       "      <td>0.226373</td>\n",
       "    </tr>\n",
       "    <tr>\n",
       "      <th>residual sugar</th>\n",
       "      <td>0.114777</td>\n",
       "      <td>0.001918</td>\n",
       "      <td>0.143577</td>\n",
       "      <td>1.000000</td>\n",
       "      <td>0.055610</td>\n",
       "      <td>0.187049</td>\n",
       "      <td>0.203028</td>\n",
       "      <td>0.355283</td>\n",
       "      <td>-0.085652</td>\n",
       "      <td>0.005527</td>\n",
       "      <td>0.042075</td>\n",
       "      <td>0.013732</td>\n",
       "    </tr>\n",
       "    <tr>\n",
       "      <th>chlorides</th>\n",
       "      <td>0.093705</td>\n",
       "      <td>0.061298</td>\n",
       "      <td>0.203823</td>\n",
       "      <td>0.055610</td>\n",
       "      <td>1.000000</td>\n",
       "      <td>0.005562</td>\n",
       "      <td>0.047400</td>\n",
       "      <td>0.200632</td>\n",
       "      <td>-0.265026</td>\n",
       "      <td>0.371260</td>\n",
       "      <td>-0.221141</td>\n",
       "      <td>-0.128907</td>\n",
       "    </tr>\n",
       "    <tr>\n",
       "      <th>free sulfur dioxide</th>\n",
       "      <td>-0.153794</td>\n",
       "      <td>-0.010504</td>\n",
       "      <td>-0.060978</td>\n",
       "      <td>0.187049</td>\n",
       "      <td>0.005562</td>\n",
       "      <td>1.000000</td>\n",
       "      <td>0.667666</td>\n",
       "      <td>-0.021946</td>\n",
       "      <td>0.070377</td>\n",
       "      <td>0.051658</td>\n",
       "      <td>-0.069408</td>\n",
       "      <td>-0.050656</td>\n",
       "    </tr>\n",
       "    <tr>\n",
       "      <th>total sulfur dioxide</th>\n",
       "      <td>-0.113181</td>\n",
       "      <td>0.076470</td>\n",
       "      <td>0.035533</td>\n",
       "      <td>0.203028</td>\n",
       "      <td>0.047400</td>\n",
       "      <td>0.667666</td>\n",
       "      <td>1.000000</td>\n",
       "      <td>0.071269</td>\n",
       "      <td>-0.066495</td>\n",
       "      <td>0.042947</td>\n",
       "      <td>-0.205654</td>\n",
       "      <td>-0.185100</td>\n",
       "    </tr>\n",
       "    <tr>\n",
       "      <th>density</th>\n",
       "      <td>0.668047</td>\n",
       "      <td>0.022026</td>\n",
       "      <td>0.364947</td>\n",
       "      <td>0.355283</td>\n",
       "      <td>0.200632</td>\n",
       "      <td>-0.021946</td>\n",
       "      <td>0.071269</td>\n",
       "      <td>1.000000</td>\n",
       "      <td>-0.341699</td>\n",
       "      <td>0.148506</td>\n",
       "      <td>-0.496180</td>\n",
       "      <td>-0.174919</td>\n",
       "    </tr>\n",
       "    <tr>\n",
       "      <th>pH</th>\n",
       "      <td>-0.682978</td>\n",
       "      <td>0.234937</td>\n",
       "      <td>-0.541904</td>\n",
       "      <td>-0.085652</td>\n",
       "      <td>-0.265026</td>\n",
       "      <td>0.070377</td>\n",
       "      <td>-0.066495</td>\n",
       "      <td>-0.341699</td>\n",
       "      <td>1.000000</td>\n",
       "      <td>-0.196648</td>\n",
       "      <td>0.205633</td>\n",
       "      <td>-0.057731</td>\n",
       "    </tr>\n",
       "    <tr>\n",
       "      <th>sulphates</th>\n",
       "      <td>0.183006</td>\n",
       "      <td>-0.260987</td>\n",
       "      <td>0.312770</td>\n",
       "      <td>0.005527</td>\n",
       "      <td>0.371260</td>\n",
       "      <td>0.051658</td>\n",
       "      <td>0.042947</td>\n",
       "      <td>0.148506</td>\n",
       "      <td>-0.196648</td>\n",
       "      <td>1.000000</td>\n",
       "      <td>0.093595</td>\n",
       "      <td>0.251397</td>\n",
       "    </tr>\n",
       "    <tr>\n",
       "      <th>alcohol</th>\n",
       "      <td>-0.061668</td>\n",
       "      <td>-0.202288</td>\n",
       "      <td>0.109903</td>\n",
       "      <td>0.042075</td>\n",
       "      <td>-0.221141</td>\n",
       "      <td>-0.069408</td>\n",
       "      <td>-0.205654</td>\n",
       "      <td>-0.496180</td>\n",
       "      <td>0.205633</td>\n",
       "      <td>0.093595</td>\n",
       "      <td>1.000000</td>\n",
       "      <td>0.476166</td>\n",
       "    </tr>\n",
       "    <tr>\n",
       "      <th>quality</th>\n",
       "      <td>0.124052</td>\n",
       "      <td>-0.390558</td>\n",
       "      <td>0.226373</td>\n",
       "      <td>0.013732</td>\n",
       "      <td>-0.128907</td>\n",
       "      <td>-0.050656</td>\n",
       "      <td>-0.185100</td>\n",
       "      <td>-0.174919</td>\n",
       "      <td>-0.057731</td>\n",
       "      <td>0.251397</td>\n",
       "      <td>0.476166</td>\n",
       "      <td>1.000000</td>\n",
       "    </tr>\n",
       "  </tbody>\n",
       "</table>\n",
       "</div>"
      ],
      "text/plain": [
       "                      fixed acidity  volatile acidity  citric acid  \\\n",
       "fixed acidity              1.000000         -0.256131     0.671703   \n",
       "volatile acidity          -0.256131          1.000000    -0.552496   \n",
       "citric acid                0.671703         -0.552496     1.000000   \n",
       "residual sugar             0.114777          0.001918     0.143577   \n",
       "chlorides                  0.093705          0.061298     0.203823   \n",
       "free sulfur dioxide       -0.153794         -0.010504    -0.060978   \n",
       "total sulfur dioxide      -0.113181          0.076470     0.035533   \n",
       "density                    0.668047          0.022026     0.364947   \n",
       "pH                        -0.682978          0.234937    -0.541904   \n",
       "sulphates                  0.183006         -0.260987     0.312770   \n",
       "alcohol                   -0.061668         -0.202288     0.109903   \n",
       "quality                    0.124052         -0.390558     0.226373   \n",
       "\n",
       "                      residual sugar  chlorides  free sulfur dioxide  \\\n",
       "fixed acidity               0.114777   0.093705            -0.153794   \n",
       "volatile acidity            0.001918   0.061298            -0.010504   \n",
       "citric acid                 0.143577   0.203823            -0.060978   \n",
       "residual sugar              1.000000   0.055610             0.187049   \n",
       "chlorides                   0.055610   1.000000             0.005562   \n",
       "free sulfur dioxide         0.187049   0.005562             1.000000   \n",
       "total sulfur dioxide        0.203028   0.047400             0.667666   \n",
       "density                     0.355283   0.200632            -0.021946   \n",
       "pH                         -0.085652  -0.265026             0.070377   \n",
       "sulphates                   0.005527   0.371260             0.051658   \n",
       "alcohol                     0.042075  -0.221141            -0.069408   \n",
       "quality                     0.013732  -0.128907            -0.050656   \n",
       "\n",
       "                      total sulfur dioxide   density        pH  sulphates  \\\n",
       "fixed acidity                    -0.113181  0.668047 -0.682978   0.183006   \n",
       "volatile acidity                  0.076470  0.022026  0.234937  -0.260987   \n",
       "citric acid                       0.035533  0.364947 -0.541904   0.312770   \n",
       "residual sugar                    0.203028  0.355283 -0.085652   0.005527   \n",
       "chlorides                         0.047400  0.200632 -0.265026   0.371260   \n",
       "free sulfur dioxide               0.667666 -0.021946  0.070377   0.051658   \n",
       "total sulfur dioxide              1.000000  0.071269 -0.066495   0.042947   \n",
       "density                           0.071269  1.000000 -0.341699   0.148506   \n",
       "pH                               -0.066495 -0.341699  1.000000  -0.196648   \n",
       "sulphates                         0.042947  0.148506 -0.196648   1.000000   \n",
       "alcohol                          -0.205654 -0.496180  0.205633   0.093595   \n",
       "quality                          -0.185100 -0.174919 -0.057731   0.251397   \n",
       "\n",
       "                       alcohol   quality  \n",
       "fixed acidity        -0.061668  0.124052  \n",
       "volatile acidity     -0.202288 -0.390558  \n",
       "citric acid           0.109903  0.226373  \n",
       "residual sugar        0.042075  0.013732  \n",
       "chlorides            -0.221141 -0.128907  \n",
       "free sulfur dioxide  -0.069408 -0.050656  \n",
       "total sulfur dioxide -0.205654 -0.185100  \n",
       "density              -0.496180 -0.174919  \n",
       "pH                    0.205633 -0.057731  \n",
       "sulphates             0.093595  0.251397  \n",
       "alcohol               1.000000  0.476166  \n",
       "quality               0.476166  1.000000  "
      ]
     },
     "execution_count": 9,
     "metadata": {},
     "output_type": "execute_result"
    }
   ],
   "source": [
    "corr = wine.corr()\n",
    "corr"
   ]
  },
  {
   "cell_type": "code",
   "execution_count": 10,
   "metadata": {},
   "outputs": [
    {
     "data": {
      "text/plain": [
       "<Axes: >"
      ]
     },
     "execution_count": 10,
     "metadata": {},
     "output_type": "execute_result"
    },
    {
     "data": {
      "image/png": "[encoded data removed]",
      "text/plain": [
       "<Figure size 1000x1000 with 2 Axes>"
      ]
     },
     "metadata": {},
     "output_type": "display_data"
    }
   ],
   "source": [
    "plt.subplots(figsize=(10,10))\n",
    "sns.heatmap(corr, annot=True, fmt='0.1f', square=True)"
   ]
  },
  {
   "cell_type": "markdown",
   "metadata": {
    "tags": []
   },
   "source": [
    "# More on visualizing relationships\n"
   ]
  },
  {
   "cell_type": "code",
   "execution_count": null,
   "metadata": {
    "tags": []
   },
   "outputs": [],
   "source": [
    "import matplotlib\n",
    "from matplotlib import transforms, pyplot as plt\n",
    "import numpy as np\n",
    "import seaborn as sns\n",
    "\n",
    "%matplotlib inline\n",
    "#%matplotlib"
   ]
  },
  {
   "cell_type": "code",
   "execution_count": null,
   "metadata": {},
   "outputs": [],
   "source": [
    "tips = sns.load_dataset(\"tips\")\n",
    "tips"
   ]
  },
  {
   "cell_type": "code",
   "execution_count": null,
   "metadata": {},
   "outputs": [],
   "source": [
    "sns.relplot(x=\"total_bill\", y=\"tip\", data=tips);\n",
    "plt.show()"
   ]
  },
  {
   "cell_type": "code",
   "execution_count": null,
   "metadata": {},
   "outputs": [],
   "source": [
    "sns.scatterplot(x=\"total_bill\", y=\"tip\", data=tips);"
   ]
  },
  {
   "cell_type": "code",
   "execution_count": null,
   "metadata": {},
   "outputs": [],
   "source": [
    "# Use scatterplot() to generate a scatter plot\n",
    "plt.title(\"sns.scatterplot()\")\n",
    "sns.scatterplot(x=\"total_bill\", y=\"tip\", hue=\"sex\", data=tips)\n",
    "\n",
    "# Use relplot() to generate a scatter plot\n",
    "g1 = sns.relplot(x=\"total_bill\", y=\"tip\", hue=\"sex\", data=tips, kind='scatter')\n",
    "g1.fig.suptitle(\"sns.relplot()\");"
   ]
  },
  {
   "cell_type": "code",
   "execution_count": null,
   "metadata": {},
   "outputs": [],
   "source": [
    "# change markers\n",
    "plt.figure(figsize=(160,160))\n",
    "sns.relplot(x=\"total_bill\", y=\"tip\", hue=\"smoker\", style=\"smoker\",\n",
    "            data=tips);\n"
   ]
  },
  {
   "cell_type": "code",
   "execution_count": null,
   "metadata": {},
   "outputs": [],
   "source": [
    "#float  variables\n",
    "sns.relplot(x=\"total_bill\", y=\"tip\", hue=\"size\", data=tips);"
   ]
  },
  {
   "cell_type": "code",
   "execution_count": null,
   "metadata": {},
   "outputs": [],
   "source": [
    "sns.relplot(x=\"total_bill\", y=\"tip\", size=\"size\", data=tips);"
   ]
  },
  {
   "cell_type": "code",
   "execution_count": null,
   "metadata": {},
   "outputs": [],
   "source": [
    "g1 = sns.lmplot(x=\"total_bill\", y=\"tip\", hue=\"sex\", data=tips)\n",
    "g1.fig.suptitle(\"sns.lmplot()\");"
   ]
  },
  {
   "cell_type": "code",
   "execution_count": null,
   "metadata": {},
   "outputs": [],
   "source": [
    "sns.pairplot(data=tips, hue=\"sex\")"
   ]
  },
  {
   "cell_type": "code",
   "execution_count": null,
   "metadata": {},
   "outputs": [],
   "source": []
  },
  {
   "cell_type": "markdown",
   "metadata": {},
   "source": [
    "# Categorical Data"
   ]
  },
  {
   "cell_type": "code",
   "execution_count": null,
   "metadata": {},
   "outputs": [],
   "source": [
    "import matplotlib\n",
    "from matplotlib import transforms, pyplot as plt\n",
    "import numpy as np\n",
    "import seaborn as sns\n",
    "\n",
    "%matplotlib inline\n",
    "#%matplotlib"
   ]
  },
  {
   "cell_type": "code",
   "execution_count": null,
   "metadata": {},
   "outputs": [],
   "source": [
    "tips = sns.load_dataset(\"tips\")\n",
    "tips"
   ]
  },
  {
   "cell_type": "code",
   "execution_count": null,
   "metadata": {},
   "outputs": [],
   "source": [
    "g = sns.catplot(x=\"day\", y=\"tip\", hue=\"sex\", data=tips, kind=\"strip\")\n",
    "g. fig.suptitle(\"strip\");"
   ]
  },
  {
   "cell_type": "code",
   "execution_count": null,
   "metadata": {},
   "outputs": [],
   "source": [
    "g = sns.catplot(x=\"day\", y=\"tip\", hue=\"sex\", data=tips, kind=\"box\")\n",
    "g. fig.suptitle(\"box\");"
   ]
  },
  {
   "cell_type": "code",
   "execution_count": null,
   "metadata": {},
   "outputs": [],
   "source": [
    "g = sns.catplot(x=\"day\", y=\"tip\", hue=\"sex\", data=tips, kind=\"point\")\n",
    "g. fig.suptitle(\"point plot\");"
   ]
  },
  {
   "cell_type": "code",
   "execution_count": null,
   "metadata": {},
   "outputs": [],
   "source": [
    "ag = sns.pointplot(x=\"time\", y=\"total_bill\", data=tips)"
   ]
  },
  {
   "cell_type": "code",
   "execution_count": null,
   "metadata": {},
   "outputs": [],
   "source": [
    "g = sns.catplot(x=\"day\", y=\"tip\", hue=\"sex\", data=tips, kind=\"bar\")\n",
    "g. fig.suptitle(\"bar plot\");"
   ]
  },
  {
   "cell_type": "code",
   "execution_count": null,
   "metadata": {},
   "outputs": [],
   "source": [
    "tips"
   ]
  },
  {
   "cell_type": "code",
   "execution_count": null,
   "metadata": {},
   "outputs": [],
   "source": [
    "g = sns.catplot(x=\"smoker\", y=\"tip\", hue=\"day\", data=tips, kind=\"point\")\n",
    "g. fig.suptitle(\"point plot\");"
   ]
  },
  {
   "cell_type": "code",
   "execution_count": null,
   "metadata": {},
   "outputs": [],
   "source": []
  },
  {
   "cell_type": "code",
   "execution_count": null,
   "metadata": {},
   "outputs": [],
   "source": []
  },
  {
   "cell_type": "code",
   "execution_count": null,
   "metadata": {},
   "outputs": [],
   "source": []
  }
 ],
 "metadata": {
  "kernelspec": {
   "display_name": "Python 3 (ipykernel)",
   "language": "python",
   "name": "python3"
  },
  "language_info": {
   "codemirror_mode": {
    "name": "ipython",
    "version": 3
   },
   "file_extension": ".py",
   "mimetype": "text/x-python",
   "name": "python",
   "nbconvert_exporter": "python",
   "pygments_lexer": "ipython3",
   "version": "3.11.9"
  },
  "toc": {
   "base_numbering": 1,
   "nav_menu": {},
   "number_sections": true,
   "sideBar": false,
   "skip_h1_title": true,
   "title_cell": "Table of Contents",
   "title_sidebar": "Contents",
   "toc_cell": true,
   "toc_position": {
    "height": "calc(100% - 180px)",
    "left": "10px",
    "top": "150px",
    "width": "273.011px"
   },
   "toc_section_display": true,
   "toc_window_display": true
  }
 },
 "nbformat": 4,
 "nbformat_minor": 4
}
