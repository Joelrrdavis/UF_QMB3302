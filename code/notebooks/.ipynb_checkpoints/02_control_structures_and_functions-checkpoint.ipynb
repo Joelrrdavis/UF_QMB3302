{
 "cells": [
  {
   "cell_type": "markdown",
   "metadata": {},
   "source": [
    "# If, while, for and functions"
   ]
  },
  {
   "cell_type": "markdown",
   "metadata": {},
   "source": [
    "## if - else - loops "
   ]
  },
  {
   "cell_type": "markdown",
   "metadata": {},
   "source": [
    "### Comparing things"
   ]
  },
  {
   "cell_type": "markdown",
   "metadata": {},
   "source": [
    "|Operator | What it does | example |\n",
    "| --- | --- | --- |\n",
    "| < | less than | 2 < 3? True|\n",
    "|<= | Less than or Equal to | 2 <= 1? False|\n",
    "| == | Equal to | 1 == 1? True |\n",
    "| >= | Greater than or Equal to| 3 >= 0? True|\n",
    "| > | Greater than | 5 > 400? False|\n",
    "|!= | Not equal to  | 2 != 1 True |\n"
   ]
  },
  {
   "cell_type": "markdown",
   "metadata": {},
   "source": [
    "### if\n",
    "\n",
    "*if* statements allow you to create a branch in your code. \"**if** this thing is true do x, otherwise do z\". They can get kind of complicated, but at the most basic these statements are just creating a branch/split. \n",
    "\n"
   ]
  },
  {
   "cell_type": "code",
   "execution_count": null,
   "metadata": {},
   "outputs": [],
   "source": [
    "x = 1\n",
    "if x == 1:\n",
    "    print(1+1)"
   ]
  },
  {
   "cell_type": "code",
   "execution_count": null,
   "metadata": {},
   "outputs": [],
   "source": [
    "y = 3\n",
    "if y == 1:\n",
    "    print(1+1)"
   ]
  },
  {
   "cell_type": "code",
   "execution_count": null,
   "metadata": {},
   "outputs": [],
   "source": [
    "x = 1\n",
    "if x == 1:\n",
    "    print(1+1)\n",
    "print(\"something\")"
   ]
  },
  {
   "cell_type": "code",
   "execution_count": null,
   "metadata": {},
   "outputs": [],
   "source": [
    "x = 1\n",
    "if x == 0:\n",
    "    print('zero')\n",
    "if x > 0:\n",
    "    print(\"positive\")\n",
    "if x < 0:\n",
    "    print('negative')\n",
    "print(\"The End\")"
   ]
  },
  {
   "cell_type": "markdown",
   "metadata": {},
   "source": [
    "!= (not equal to) sometimes gets new programmers a little tongue tied. It is a good idea to practice a few of these so you understand how they evaluate out. "
   ]
  },
  {
   "cell_type": "code",
   "execution_count": null,
   "metadata": {},
   "outputs": [],
   "source": [
    "2 != 2"
   ]
  },
  {
   "cell_type": "markdown",
   "metadata": {},
   "source": [
    "Let's pair this with something from our lecture on lists. In the below code we will search to see if a value is in a list, and return a statement if it is. "
   ]
  },
  {
   "cell_type": "code",
   "execution_count": null,
   "metadata": {},
   "outputs": [],
   "source": [
    "values = [8, 12, 92, 6, 4]\n",
    "my_number = 92\n",
    "\n",
    "# note the 'f' in the print statement. This is telling Python you are going to embed (insert) an expression inside the string. \n",
    "\n",
    "if my_number in values:\n",
    "    print(f\"This list contains my number {my_number}, I win!\")\n",
    "  "
   ]
  },
  {
   "cell_type": "markdown",
   "metadata": {},
   "source": [
    "'if' statements can evaluate to more than 1 thing. "
   ]
  },
  {
   "cell_type": "code",
   "execution_count": null,
   "metadata": {
    "scrolled": true
   },
   "outputs": [],
   "source": [
    "x = 2\n",
    "if x == 1:\n",
    "    print('x is 1!')\n",
    "    print('I love it when x is 1!')\n",
    "if x != 1:\n",
    "    print('x is not equal to 1')\n",
    "    print('Well that is too bad')\n",
    "print(3000+300+2) "
   ]
  },
  {
   "cell_type": "markdown",
   "metadata": {},
   "source": [
    "### Nesting if statements\n",
    "'if' statements can be nested. The trick is making sure the indentation (4 spaces) is correct. Python reads your code and your intent using these spaces. "
   ]
  },
  {
   "cell_type": "code",
   "execution_count": null,
   "metadata": {},
   "outputs": [],
   "source": [
    "y = 6\n",
    "if y > 0:\n",
    "    if y > 5:\n",
    "        print('higher')\n",
    "    if y <= 5:\n",
    "        print('lower')\n",
    "if y <=0:\n",
    "    print('0 or less')"
   ]
  },
  {
   "cell_type": "code",
   "execution_count": null,
   "metadata": {},
   "outputs": [],
   "source": [
    "# no indents, this will show an error\n",
    "y = -1\n",
    "if y > 0:\n",
    "if y > 5:\n",
    "print('higher')\n",
    "if y <= 5:\n",
    "print('lower')\n",
    "if y <=0:\n",
    "print('0 or less')"
   ]
  },
  {
   "cell_type": "markdown",
   "metadata": {},
   "source": [
    "### Adding 'else'"
   ]
  },
  {
   "cell_type": "code",
   "execution_count": null,
   "metadata": {},
   "outputs": [],
   "source": [
    "y = -1\n",
    "if y >= 0:\n",
    "    print('0 or more')\n",
    "else :\n",
    "    print('less than 0')"
   ]
  },
  {
   "cell_type": "markdown",
   "metadata": {},
   "source": [
    "We can add even more 'else' clauses using 'elif' (else if). The elif Statement The elif  statement is used to check multiple conditions, one after the other. It comes between the if and else statements."
   ]
  },
  {
   "cell_type": "code",
   "execution_count": null,
   "metadata": {},
   "outputs": [],
   "source": [
    "y = 0\n",
    "if y > 0:\n",
    "    print('positive number')\n",
    "elif y == 0:\n",
    "    print('its a zero')\n",
    "else :\n",
    "    print('negative number')"
   ]
  },
  {
   "cell_type": "markdown",
   "metadata": {},
   "source": [
    "## While\n",
    "\n",
    "A while loop in Python is used to repeatedly execute a block of code as long as a given condition is true. It's an essential control structure in Python and allows for efficient iteration when the number of iterations isn't known beforehand.\n",
    "\n",
    "Here's the basic structure of a while loop:\n",
    "\n",
    "```python\n",
    "while condition:\n",
    "    # Code to execute\n",
    "    # Update condition (if needed)\n",
    "```\n",
    "* condition: This is a boolean expression that is evaluated before each iteration of the loop. If the condition is True, the code inside the loop is executed. If it's False, the loop terminates, and control passes to the next section of the code.\n",
    "* Code to execute: This is the block of code that will be executed repeatedly as long as the condition remains true.\n",
    "* Update condition: It's often important to modify some variable within the loop to eventually make the condition false. Otherwise, you might end up with an infinite loop.\n",
    "\n"
   ]
  },
  {
   "cell_type": "markdown",
   "metadata": {},
   "source": [
    "### Example While loop"
   ]
  },
  {
   "cell_type": "code",
   "execution_count": null,
   "metadata": {},
   "outputs": [],
   "source": [
    "#this while loop prints the numbers 1 to 5\n",
    "x = 1\n",
    "while x <= 5:\n",
    "    print(x)\n",
    "    x = x + 1\n",
    "print(x)  \n"
   ]
  },
  {
   "cell_type": "markdown",
   "metadata": {},
   "source": [
    "Think about how the above was constructed. If we get lazy, we could easily run a loop for ever...\n",
    "\n",
    "WARNING WARNING-- if you run the below code it will just keep running. "
   ]
  },
  {
   "cell_type": "code",
   "execution_count": null,
   "metadata": {},
   "outputs": [],
   "source": [
    "#if you run this, you will need to escape out of it. \n",
    "#You can just use \"interupt Kernel\" on the commands above\n",
    "\n",
    "#If you must run this to see what happens... uncomment the code (get rid of the # in front of each line)\n",
    "\n",
    "#x = 1\n",
    "#while x > 0:\n",
    "#    print(x)\n",
    "#    x = x + 1\n",
    "#print(x) "
   ]
  },
  {
   "cell_type": "markdown",
   "metadata": {},
   "source": [
    "### Break"
   ]
  },
  {
   "cell_type": "markdown",
   "metadata": {},
   "source": [
    "A 'break' statement can help control how a loop operates."
   ]
  },
  {
   "cell_type": "code",
   "execution_count": null,
   "metadata": {},
   "outputs": [],
   "source": [
    "\n",
    "x = 1\n",
    "maxc = 30\n",
    "while x > 0:\n",
    "    print(x)\n",
    "    x = x + 1\n",
    "    if x >= maxc:\n",
    "        break\n",
    "print(x) "
   ]
  },
  {
   "cell_type": "code",
   "execution_count": null,
   "metadata": {},
   "outputs": [],
   "source": []
  },
  {
   "attachments": {
    "forloops.jpg": {
     "image/jpeg": "[encoded data removed]"
    }
   },
   "cell_type": "markdown",
   "metadata": {},
   "source": [
    "## for Loops\n",
    "\n",
    "![forloops.jpg](attachment:forloops.jpg)\n"
   ]
  },
  {
   "cell_type": "code",
   "execution_count": null,
   "metadata": {},
   "outputs": [],
   "source": [
    "strings = \"I am a string\"\n",
    "print(strings[0])\n",
    "print(strings[1])\n",
    "print(strings[2])"
   ]
  },
  {
   "cell_type": "code",
   "execution_count": null,
   "metadata": {},
   "outputs": [],
   "source": [
    "for N in \"string\":\n",
    "    print(N)"
   ]
  },
  {
   "cell_type": "code",
   "execution_count": null,
   "metadata": {},
   "outputs": [],
   "source": [
    "car = \"FORD\"\n",
    "for N in car :\n",
    "    print(N)"
   ]
  },
  {
   "cell_type": "markdown",
   "metadata": {},
   "source": [
    "The variable in the above ('N') is not actually important. It is just a keyword. You need one, but you can call it whatever you want. So don't feel you always need to use one thing... a lot of people will use 'i' lower case. It seems to be the most readable. But you can use 'banana' if you like. The 'car' is the thing the for loop will iterate over. "
   ]
  },
  {
   "cell_type": "code",
   "execution_count": null,
   "metadata": {},
   "outputs": [],
   "source": [
    "for banana in car :\n",
    "    print(banana)"
   ]
  },
  {
   "cell_type": "code",
   "execution_count": null,
   "metadata": {},
   "outputs": [],
   "source": [
    "#same output as above, but maybe easier to read\n",
    "for i in car :\n",
    "    print(i)"
   ]
  },
  {
   "cell_type": "markdown",
   "metadata": {},
   "source": [
    "Of course strings are not the only thing that can be iterated over. \n"
   ]
  },
  {
   "cell_type": "code",
   "execution_count": null,
   "metadata": {},
   "outputs": [],
   "source": [
    "for i in [1, 4, 9]:\n",
    "     print(i)"
   ]
  },
  {
   "cell_type": "markdown",
   "metadata": {},
   "source": [
    "The code below includes a new function \"range\". range() returns a range object which can be iterated over.  "
   ]
  },
  {
   "cell_type": "code",
   "execution_count": null,
   "metadata": {},
   "outputs": [],
   "source": [
    "x = range(1,3)\n",
    "print(x)\n",
    "print(type(x))"
   ]
  },
  {
   "cell_type": "code",
   "execution_count": null,
   "metadata": {},
   "outputs": [],
   "source": [
    "L = range(1,11)\n",
    "for i in L :\n",
    "    print(i, end= ' ')\n"
   ]
  },
  {
   "cell_type": "code",
   "execution_count": null,
   "metadata": {},
   "outputs": [],
   "source": [
    "maxnumber = 10\n",
    "for i in range(0, maxnumber):\n",
    "    print(i, end=' ')"
   ]
  },
  {
   "cell_type": "markdown",
   "metadata": {},
   "source": [
    "You can have for loops inside other for loops. This is not an uncommon practice, but it definetly reduces readability. Take a look at the below and see if you can figure out whats happening. "
   ]
  },
  {
   "cell_type": "code",
   "execution_count": null,
   "metadata": {},
   "outputs": [],
   "source": [
    "for i in range(1, 10): \n",
    "    for r in range(i): \n",
    "         print(i, end=' ') \n",
    "    print() \n"
   ]
  },
  {
   "cell_type": "code",
   "execution_count": null,
   "metadata": {},
   "outputs": [],
   "source": []
  },
  {
   "cell_type": "markdown",
   "metadata": {},
   "source": [
    "### Counting in a loop"
   ]
  },
  {
   "cell_type": "code",
   "execution_count": null,
   "metadata": {},
   "outputs": [],
   "source": [
    "count = 0\n",
    "sales = [12, 14, 12, 18, 17]\n",
    "print(\"initial value =\", count)\n",
    "for N in sales :\n",
    "    count = count + 1\n",
    "    print(N, count)\n",
    "print(\"total count = \", count)"
   ]
  },
  {
   "cell_type": "markdown",
   "metadata": {},
   "source": [
    "### Summing in a loop"
   ]
  },
  {
   "cell_type": "code",
   "execution_count": null,
   "metadata": {},
   "outputs": [],
   "source": [
    "total = 0\n",
    "sales = [12, 14, 12, 18, 17]\n",
    "print(\"initial value =\", total)\n",
    "for N in sales :\n",
    "    total = total + N\n",
    "    print(N, total)\n",
    "print(\"Sales to date = \", total)"
   ]
  },
  {
   "cell_type": "markdown",
   "metadata": {},
   "source": [
    "### Averaging in a loop"
   ]
  },
  {
   "cell_type": "code",
   "execution_count": null,
   "metadata": {},
   "outputs": [],
   "source": [
    "count = 0\n",
    "total = 0\n",
    "sales = [12, 14, 12, 18, 17]\n",
    "for N in sales :\n",
    "    total = total + N\n",
    "    count = count + 1\n",
    "    print(N, total, count, total / count)\n",
    "print(\"Average Sales = \", total / count)"
   ]
  },
  {
   "cell_type": "markdown",
   "metadata": {
    "tags": []
   },
   "source": [
    "<br>\n",
    "<br>\n",
    "\n",
    "## Functions \n",
    "\n",
    "\n",
    "This section closely follows the text: \n",
    "\n",
    "A Whirlwind Tour of Python: Defining and Using Functions\n",
    "\n"
   ]
  },
  {
   "cell_type": "markdown",
   "metadata": {},
   "source": [
    "## What is a function?\n",
    "\n",
    "Functions are basically commands that your program will execute. You use them to run a set of commands. \n",
    "\n",
    "If this is true, why not just write out the commands? Well functions can be very short and compact, and are useful when you run the same commands over and over again. You've already used alot of functions, but until now we've kind of glossed over them.\n"
   ]
  },
  {
   "cell_type": "code",
   "execution_count": null,
   "metadata": {},
   "outputs": [],
   "source": [
    "print(\"Hello Class\") "
   ]
  },
  {
   "cell_type": "markdown",
   "metadata": {},
   "source": [
    "In the above, 'print' is a function that tells the computer what you want it to do. "
   ]
  },
  {
   "cell_type": "code",
   "execution_count": null,
   "metadata": {},
   "outputs": [],
   "source": [
    "#create a list called 'x'\n",
    "x = [2, 2]\n",
    "\n",
    "#run the function 'sum' on the list\n",
    "sum(x)"
   ]
  },
  {
   "cell_type": "markdown",
   "metadata": {},
   "source": [
    "These are the *built in* functions within Python. There are a bunch more, https://docs.python.org/3/library/functions.html, and you should be familiar with them at least in passing. It's not a bad idea to print that list out and keep it handy.\n",
    "\n",
    "You can also create your own functions, called *user defined functions*, these are functions you create and store. There is one more type of function, called an \"anonymous function\" but we won't cover that here. The text has a good overview of this."
   ]
  },
  {
   "cell_type": "markdown",
   "metadata": {},
   "source": [
    "### User defined function"
   ]
  },
  {
   "cell_type": "code",
   "execution_count": null,
   "metadata": {},
   "outputs": [],
   "source": [
    "def myname():\n",
    "    print('Joel Davis')\n",
    "    print('Hello Class!')\n",
    "\n",
    "#if you don't invoke or use the function... nothing happens. def just stores it for later use. \n",
    "#myname()"
   ]
  },
  {
   "cell_type": "code",
   "execution_count": null,
   "metadata": {},
   "outputs": [],
   "source": [
    "myname()"
   ]
  },
  {
   "cell_type": "markdown",
   "metadata": {},
   "source": [
    "### Add arguments to a function"
   ]
  },
  {
   "cell_type": "code",
   "execution_count": null,
   "metadata": {},
   "outputs": [],
   "source": [
    "def addmeup(number):\n",
    "    return(sum(number))\n",
    "    \n",
    "addmeup([2,3,1])"
   ]
  },
  {
   "cell_type": "markdown",
   "metadata": {},
   "source": [
    "Functions can have multiple arguments. Notice how the function call has changed in the below (no longer a list). Order matters, so take note of what variables are where. "
   ]
  },
  {
   "cell_type": "code",
   "execution_count": null,
   "metadata": {},
   "outputs": [],
   "source": [
    "def addmeup(x, y, z):\n",
    "    addme = x + y + z\n",
    "    return addme\n",
    "    \n",
    "p = addmeup(2,3,1)\n",
    "print(p) "
   ]
  },
  {
   "cell_type": "markdown",
   "metadata": {},
   "source": [
    "There can also be default arguments for functions. These are values that Python will use if you don't include anything in the function call"
   ]
  },
  {
   "cell_type": "code",
   "execution_count": null,
   "metadata": {},
   "outputs": [],
   "source": [
    "def addmeup(x=1, y=1, z=1):\n",
    "    addme = x + y + z\n",
    "    return addme\n",
    "    "
   ]
  },
  {
   "cell_type": "code",
   "execution_count": null,
   "metadata": {},
   "outputs": [],
   "source": [
    "p = addmeup()\n",
    "print(p)"
   ]
  },
  {
   "cell_type": "code",
   "execution_count": null,
   "metadata": {
    "tags": []
   },
   "outputs": [],
   "source": [
    "p = addmeup(2,5)\n",
    "print(p)"
   ]
  },
  {
   "cell_type": "markdown",
   "metadata": {},
   "source": [
    "It may be you don't know how many arguments your function needs.  "
   ]
  },
  {
   "cell_type": "code",
   "execution_count": null,
   "metadata": {
    "tags": []
   },
   "outputs": [],
   "source": [
    "def addmeup(*args):\n",
    "    addme = sum(*args)\n",
    "    return addme\n",
    "\n",
    "mylist= [2,3]\n",
    "addmeup(mylist)"
   ]
  },
  {
   "cell_type": "markdown",
   "metadata": {},
   "source": [
    "Now that we've run some functions... let's step back and explain them a litte more.\n",
    "\n",
    "```python\n",
    "def addmeup(x, y, z): # this line is the control statement.\n",
    "    \"\"\" \n",
    "    This function takes 3 variables and adds them up\n",
    "    \n",
    "    This is a space within a function that you\n",
    "    can use to right more about the function. It is\n",
    "    call a docstring.\n",
    "    \"\"\"\n",
    "    addme = x + y + z \n",
    "    return addme\n",
    "\n",
    "\n",
    "```"
   ]
  },
  {
   "cell_type": "code",
   "execution_count": null,
   "metadata": {},
   "outputs": [],
   "source": [
    "def addmeup(x, y, z): # this line is the control statement def addmeup() and the parameters to use.\n",
    "    \"\"\" \n",
    "    This function takes 3 variables and adds them up\n",
    "    \n",
    "    This is a space within a function that you\n",
    "    can use to right more about the function. It is\n",
    "    call a docstring.\n",
    "    \"\"\"\n",
    "    addme = x + y + z \n",
    "    return addme\n",
    "\n",
    "\n",
    "#let's run it!\n",
    "p = addmeup(2,3,1)\n",
    "print(p)"
   ]
  },
  {
   "cell_type": "code",
   "execution_count": null,
   "metadata": {},
   "outputs": [],
   "source": []
  }
 ],
 "metadata": {
  "kernelspec": {
   "display_name": "Python 3 (ipykernel)",
   "language": "python",
   "name": "python3"
  },
  "language_info": {
   "codemirror_mode": {
    "name": "ipython",
    "version": 3
   },
   "file_extension": ".py",
   "mimetype": "text/x-python",
   "name": "python",
   "nbconvert_exporter": "python",
   "pygments_lexer": "ipython3",
   "version": "3.11.9"
  },
  "toc-autonumbering": true
 },
 "nbformat": 4,
 "nbformat_minor": 4
}
