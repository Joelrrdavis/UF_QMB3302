{
 "cells": [
  {
   "cell_type": "markdown",
   "id": "a9063a50-0bcc-42be-8acf-d7a08deaa7fb",
   "metadata": {},
   "source": [
    "# Face Detection Pipeline"
   ]
  },
  {
   "cell_type": "markdown",
   "id": "38b3c1d5-cf53-4446-b467-de5aca3e0a9d",
   "metadata": {},
   "source": [
    "## Disclaimer on the Use of the Labeled Faces in the Wild (LFW) Dataset\n",
    "\n",
    "There are a good many datasets used in Machine Learning and AI that have controversial origins or applications. This dataset is one of them. \n",
    "\n",
    "**Purpose of Dataset Use**\n",
    "\n",
    "This project utilizes the Labeled Faces in the Wild (LFW) dataset for research and educational purposes. The LFW dataset is widely used in academic and research communities for tasks related to facial recognition, verification, and identification. Our project uses this dataset to explore machine learning techniques for facial recognition in a non-commercial, academic setting.\n",
    "\n",
    "**Public Availability of Data**\n",
    "\n",
    "The LFW dataset consists of publicly available images of well-known individuals. These images were sourced from the web, and the individuals in the dataset are public figures. The use of this dataset falls under \"fair use\" for research and educational purposes, as it was specifically curated to advance research in facial recognition technologies.\n",
    "\n",
    "**Potential Ethical Issues and Dataset Limitations**\n",
    "\n",
    "The LFW dataset has several potential issues that users should be aware of:\n",
    "\n",
    "* Lack of Explicit Consent: The individuals in the dataset did not explicitly consent to having their images used for machine learning and AI research. Although these images are publicly available, it is important to recognize that consent was not directly obtained for this specific use case.\n",
    "\n",
    "* Lack of representation: The LFW dataset contains a disproportionate number of images of people from specific demographic groups, particularly Caucasian males. This introduces potential bias into any model trained on the dataset, as it will not perform equally well across different races, genders, and age groups. This is an important point to highlight- if the AI community is going to address these issues we can't delete the data and hope it goes away. \n",
    "\n",
    "* Privacy Considerations: Although the dataset contains images of public figures, it is essential to understand that facial recognition technology can be controversial due to privacy concerns. This project is not intended or commercial purposes or to deploy it in applications that may infringe on individual privacy rights.\n",
    "\n",
    "**Justification for Use**\n",
    "\n",
    "We have chosen to use the LFW dataset due to its broad acceptance in the research community and its availability as a standardized dataset for facial recognition tasks. By using a commonly accepted dataset, we can benchmark our findings against existing research and contribute to the academic discourse on facial recognition technologies.\n",
    "\n",
    "**Mitigation of Issues**\n",
    "\n",
    "I acknowledge the problematic history of this dataset and it's limitations:\n",
    "\n",
    "* Transparency: We are transparent about the limitations of this dataset in terms of representation and consent. The results and insights derived from this dataset should be interpreted with caution, and we advise against deploying models trained solely on LFW in real-world applications without further validation on more improved represantation in the datasets.\n",
    "* Ethical Considerations: This project is purely educational and exploratory in nature. We do not intend to commercialize the technology developed in this project, and no personal or private data is involved.\n",
    "\n",
    "\n"
   ]
  },
  {
   "cell_type": "code",
   "execution_count": 13,
   "id": "41945882-a973-4e3a-9dcf-9c0cfe92cd04",
   "metadata": {},
   "outputs": [
    {
     "name": "stdout",
     "output_type": "stream",
     "text": [
      "Accuracy: 84.50%\n"
     ]
    },
    {
     "data": {
      "image/png": "[encoded data removed]",
      "text/plain": [
       "<Figure size 640x480 with 1 Axes>"
      ]
     },
     "metadata": {},
     "output_type": "display_data"
    }
   ],
   "source": [
    "# Import necessary libraries\n",
    "from sklearn import datasets\n",
    "from skimage.feature import hog\n",
    "from sklearn.svm import SVC\n",
    "from sklearn.metrics import accuracy_score\n",
    "from sklearn.model_selection import train_test_split\n",
    "import matplotlib.pyplot as plt\n",
    "import numpy as np\n",
    "\n",
    "# Load the LFW people dataset (which contains labeled face images)\n",
    "lfw_people = datasets.fetch_lfw_people(min_faces_per_person=70, resize=0.4)\n",
    "\n",
    "# Get the face images and corresponding labels (targets)\n",
    "X = lfw_people.images  # Grayscale images\n",
    "y = lfw_people.target\n",
    "\n",
    "# Function to extract HoG features from an image\n",
    "def extract_hog_features(images):\n",
    "    hog_features = []\n",
    "    for img in images:\n",
    "        # Extract HoG features directly from grayscale images\n",
    "        features = hog(img, pixels_per_cell=(8, 8), cells_per_block=(2, 2), visualize=False)\n",
    "        hog_features.append(features)\n",
    "    return np.array(hog_features)\n",
    "\n",
    "# Extract HoG features from the dataset\n",
    "hog_features = extract_hog_features(X)\n",
    "\n",
    "# Split the dataset into training and testing sets (80% train, 20% test)\n",
    "X_train, X_test, y_train, y_test = train_test_split(hog_features, y, test_size=0.2, random_state=42)\n",
    "\n",
    "# Initialize the SVM classifier\n",
    "clf = SVC(kernel='linear')\n",
    "\n",
    "# Train the SVM classifier on the training data\n",
    "clf.fit(X_train, y_train)\n",
    "\n",
    "# Predict on the test set\n",
    "y_pred = clf.predict(X_test)\n",
    "\n",
    "# Evaluate accuracy\n",
    "accuracy = accuracy_score(y_test, y_pred)\n",
    "print(f\"Accuracy: {accuracy * 100:.2f}%\")\n",
    "\n",
    "# Visualize sample predictions \n",
    "def visualize_sample_predictions(y_test, y_pred, original_images, test_index):\n",
    "    plt.imshow(original_images[test_index], cmap='gray')  # Use the correct original image from the test set\n",
    "    plt.title(f\"True Label: {lfw_people.target_names[y_test[test_index]]}\\nPredicted: {lfw_people.target_names[y_pred[test_index]]}\")\n",
    "    plt.axis('off')\n",
    "    plt.show()\n",
    "\n",
    "# We should use X_test_original, which stores the correct original images for the test set.\n",
    "_, X_test_original, _, y_test_original = train_test_split(X, y, test_size=0.2, random_state=42)  # Split again to get correct original test images\n",
    "\n",
    "# Visualize one of the test images with the correct true label and prediction\n",
    "visualize_sample_predictions(y_test, y_pred, X_test_original, test_index=0)\n"
   ]
  },
  {
   "cell_type": "code",
   "execution_count": 14,
   "id": "3a7a58be-3713-4522-a744-c0c3a0c4b207",
   "metadata": {},
   "outputs": [],
   "source": [
    "# Let's generalize this to faces or not faces. \n",
    "\n"
   ]
  },
  {
   "cell_type": "code",
   "execution_count": null,
   "id": "87c622a4-0644-4c99-956d-3aafebced83d",
   "metadata": {},
   "outputs": [],
   "source": []
  }
 ],
 "metadata": {
  "kernelspec": {
   "display_name": "Python 3 (ipykernel)",
   "language": "python",
   "name": "python3"
  },
  "language_info": {
   "codemirror_mode": {
    "name": "ipython",
    "version": 3
   },
   "file_extension": ".py",
   "mimetype": "text/x-python",
   "name": "python",
   "nbconvert_exporter": "python",
   "pygments_lexer": "ipython3",
   "version": "3.11.9"
  }
 },
 "nbformat": 4,
 "nbformat_minor": 5
}
