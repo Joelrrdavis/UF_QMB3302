{
 "cells": [
  {
   "cell_type": "markdown",
   "id": "bbc5a874-5463-494a-befb-1d38dcd65051",
   "metadata": {},
   "source": [
    "## Bayesian Statistics\n"
   ]
  },
  {
   "cell_type": "markdown",
   "id": "4c1f9f70-9593-4c44-b87d-6c849f4f9348",
   "metadata": {},
   "source": [
    "### 1. Introduction to Bayesian Statistics\n",
    "\n",
    "#### **What is Bayesian Statistics?**\n",
    "   - Bayesian statistics is a framework for updating beliefs or estimates about a parameter or hypothesis as more evidence or data becomes available.\n",
    "   - The central concept is **Bayesian inference**, which differs from frequentist statistics by treating the parameter as a random variable and focusing on the probability of different parameter values given the observed data.\n",
    "   - **Bayesian vs. Frequentist**:\n",
    "     - **Bayesian**: Parameters are treated as random variables, and probability is interpreted as the degree of belief.\n",
    "     - **Frequentist**: Parameters are fixed values, and probability is the long-term frequency of occurrence.\n",
    "\n",
    "#### **Bayes' Theorem**: The foundation of Bayesian inference.\n",
    "\\[\n",
    "P(\\theta|X) = \\frac{P(X|\\theta) \\cdot P(\\theta)}{P(X)}\n",
    "\\]\n",
    "   - **\\( P(\\theta|X) \\)**: Posterior probability, the updated belief about the parameter \\( \\theta \\) after observing the data \\( X \\).\n",
    "   - **\\( P(X|\\theta) \\)**: Likelihood, the probability of the observed data given the parameter.\n",
    "   - **\\( P(\\theta) \\)**: Prior probability, the belief about the parameter \\( \\theta \\) before observing any data.\n",
    "   - **\\( P(X) \\)**: Marginal likelihood or evidence, the total probability of the observed data across all possible values of the parameter.\n",
    "\n",
    "#### **Steps in Bayesian Inference**:\n",
    "   1. **Start with a prior**: \\( P(\\theta) \\) — What you believe about the parameter before observing any data.\n",
    "   2. **Collect data and compute the likelihood**: \\( P(X|\\theta) \\) — How likely is the observed data given the parameter \\( \\theta \\)?\n",
    "   3. **Update to get the posterior**: Use Bayes' Theorem to combine the prior and likelihood to get the posterior distribution \\( P(\\theta|X) \\), your updated belief after seeing the data.\n",
    "\n",
    "#### **Example: Coin Flip Bayesian Inference**\n",
    "\n",
    "Suppose we flip a coin multiple times and want to estimate the probability \\( \\theta \\) of getting heads. We start with a prior belief about \\( \\theta \\) and update it with each observed outcome (heads or tails).\n",
    "\n"
   ]
  },
  {
   "cell_type": "code",
   "execution_count": 3,
   "id": "dc08298a-b040-4d62-81ff-a12d6c11efae",
   "metadata": {},
   "outputs": [
    {
     "data": {
      "image/png": "[encoded data removed]",
      "text/plain": [
       "<Figure size 432x288 with 1 Axes>"
      ]
     },
     "metadata": {
      "needs_background": "light"
     },
     "output_type": "display_data"
    }
   ],
   "source": [
    "import numpy as np\n",
    "import matplotlib.pyplot as plt\n",
    "from scipy.stats import beta\n",
    "\n",
    "# Parameters for the Beta prior (uniform prior: alpha=1, beta=1)\n",
    "alpha_prior = 1\n",
    "beta_prior = 1\n",
    "\n",
    "# Data: 8 heads, 2 tails\n",
    "heads = 8\n",
    "tails = 2\n",
    "\n",
    "# Update prior with data to get the posterior parameters\n",
    "alpha_post = alpha_prior + heads\n",
    "beta_post = beta_prior + tails\n",
    "\n",
    "# Generate posterior distribution\n",
    "x = np.linspace(0, 1, 100)\n",
    "posterior = beta.pdf(x, alpha_post, beta_post)\n",
    "\n",
    "# Plot the prior and posterior distributions\n",
    "plt.plot(x, posterior, label=f\"Posterior (alpha={alpha_post}, beta={beta_post})\")\n",
    "plt.fill_between(x, posterior, alpha=0.3)\n",
    "plt.title(\"Posterior Distribution for Coin Flip\")\n",
    "plt.xlabel(\"Probability of heads\")\n",
    "plt.ylabel(\"Density\")\n",
    "plt.legend()\n",
    "plt.show()\n"
   ]
  },
  {
   "cell_type": "markdown",
   "id": "b9f9160a-df1c-4c85-ac27-e98f87f9bae1",
   "metadata": {},
   "source": [
    "**Explanation of the Code**:\n",
    "   - **Prior**: The prior is a **Beta(1,1)** distribution, which is equivalent to a uniform distribution, indicating no prior preference for any particular value of \\( \\theta \\).\n",
    "   - **Posterior**: After observing 8 heads and 2 tails, the posterior distribution is **Beta(9,3)**. The posterior is updated based on the data, with 8 heads increasing the belief that \\( \\theta \\) (the probability of heads) is closer to 0.8.\n",
    "   - The plot shows the posterior distribution, which gives a range of likely values for \\( \\theta \\) after updating with the observed data.\n",
    "\n"
   ]
  },
  {
   "cell_type": "markdown",
   "id": "493ead00-637f-498f-add6-5625e1448f2c",
   "metadata": {},
   "source": [
    "### 2. Key Concepts in Bayesian Inference\n",
    "\n",
    "#### **Priors**\n",
    "   - A **prior** represents your initial belief about a parameter before observing any data.\n",
    "   - Priors are essential in Bayesian inference because they allow you to incorporate existing knowledge or assumptions.\n",
    "   - **Types of Priors**:\n",
    "     - **Informative Prior**: A prior that reflects strong prior knowledge or belief about the parameter (e.g., expert knowledge).\n",
    "     - **Non-informative (or flat) Prior**: A prior that expresses little or no knowledge about the parameter, giving all values equal weight (e.g., Beta(1, 1) for binomial data).\n",
    "     - **Conjugate Prior**: A prior that, when combined with a likelihood function, results in a posterior distribution of the same family. This simplifies the mathematical computations. For example, a Beta prior is conjugate to a binomial likelihood.\n",
    "\n",
    "#### **Posterior Distribution**\n",
    "   - The **posterior distribution** is the result of updating your prior belief after observing the data. It represents your updated belief about the parameter \\( \\theta \\).\n",
    "   - The posterior distribution combines the prior and the likelihood:\n",
    "   \\[\n",
    "   P(\\theta|X) = \\frac{P(X|\\theta) \\cdot P(\\theta)}{P(X)}\n",
    "   \\]\n",
    "   - The posterior distribution is essential because it allows you to make probabilistic statements about the parameter \\( \\theta \\) after observing the data.\n",
    "\n",
    "#### **Likelihood Function**\n",
    "   - The **likelihood function** represents how likely the observed data is for different values of the parameter \\( \\theta \\).\n",
    "   - In Bayesian inference, the likelihood is used to update the prior distribution and obtain the posterior distribution.\n",
    "   - Example: If you observe data that suggests a higher probability of success in a coin flip, the likelihood will be high for values of \\( \\theta \\) close to 1.\n",
    "\n",
    "#### **Credible Intervals**\n",
    "   - A **credible interval** is the Bayesian counterpart to a confidence interval. It represents a range of values within which the true parameter value is believed to lie with a certain probability.\n",
    "   - Example: A 95% credible interval means that, given the data, there is a 95% probability that the true parameter value lies within the interval.\n",
    "   - Unlike frequentist confidence intervals, credible intervals allow for probability statements about the parameter itself.\n",
    "\n",
    "#### **Example: Updating Priors and Computing Credible Intervals**\n",
    "\n",
    "In this example, we'll calculate the posterior distribution after observing data and compute a 95% credible interval for the parameter \\( \\theta \\) (the probability of getting heads in a coin flip).\n",
    "\n"
   ]
  },
  {
   "cell_type": "code",
   "execution_count": 5,
   "id": "048ff93d-408a-45f0-9e99-9c768099e507",
   "metadata": {},
   "outputs": [
    {
     "name": "stdout",
     "output_type": "stream",
     "text": [
      "95% credible interval: (0.462, 0.909)\n"
     ]
    },
    {
     "data": {
      "image/png": "[encoded data removed]",
      "text/plain": [
       "<Figure size 432x288 with 1 Axes>"
      ]
     },
     "metadata": {
      "needs_background": "light"
     },
     "output_type": "display_data"
    }
   ],
   "source": [
    "import numpy as np\n",
    "from scipy.stats import beta\n",
    "\n",
    "# Prior parameters (Beta distribution)\n",
    "alpha_prior = 2\n",
    "beta_prior = 2\n",
    "\n",
    "# Data: number of heads and tails observed\n",
    "heads = 8\n",
    "tails = 2\n",
    "\n",
    "# Posterior parameters\n",
    "alpha_post = alpha_prior + heads\n",
    "beta_post = beta_prior + tails\n",
    "\n",
    "# Generate the posterior distribution\n",
    "x = np.linspace(0, 1, 100)\n",
    "posterior = beta.pdf(x, alpha_post, beta_post)\n",
    "\n",
    "# Compute the 95% credible interval\n",
    "lower_bound = beta.ppf(0.025, alpha_post, beta_post)\n",
    "upper_bound = beta.ppf(0.975, alpha_post, beta_post)\n",
    "\n",
    "print(f\"95% credible interval: ({lower_bound:.3f}, {upper_bound:.3f})\")\n",
    "\n",
    "# Plot the posterior distribution\n",
    "import matplotlib.pyplot as plt\n",
    "plt.plot(x, posterior, label=f\"Posterior (alpha={alpha_post}, beta={beta_post})\")\n",
    "plt.fill_between(x, posterior, alpha=0.3)\n",
    "plt.title(\"Posterior Distribution with 95% Credible Interval\")\n",
    "plt.axvline(lower_bound, color='red', linestyle='--', label='Lower bound')\n",
    "plt.axvline(upper_bound, color='green', linestyle='--', label='Upper bound')\n",
    "plt.xlabel(\"Probability of heads\")\n",
    "plt.ylabel(\"Density\")\n",
    "plt.legend()\n",
    "plt.show()\n"
   ]
  },
  {
   "cell_type": "markdown",
   "id": "c5a4efff-bdd2-412f-953f-ed0d3745d10d",
   "metadata": {},
   "source": [
    "**Explanation of the Code**:\n",
    "   - The prior is a **Beta(2,2)** distribution, which assumes moderate prior belief that \\( \\theta \\) (the probability of heads) is close to 0.5.\n",
    "   - After observing 8 heads and 2 tails, the posterior distribution is updated to **Beta(10,4)**.\n",
    "   - The **credible interval** is calculated using the inverse cumulative distribution function (`beta.ppf`) to find the bounds of the interval where 95% of the probability lies.\n",
    "   - The plot shows the posterior distribution, with the 95% credible interval marked by red and green lines.\n",
    "\n"
   ]
  },
  {
   "cell_type": "markdown",
   "id": "a3ce57dd-cae4-4a38-8665-d3588ce1ef26",
   "metadata": {},
   "source": [
    "### 3. Bayesian vs. Frequentist Statistics\n",
    "\n",
    "#### **Key Differences Between Bayesian and Frequentist Approaches**\n",
    "\n",
    "1. **Philosophy**:\n",
    "   - **Bayesian**: Parameters are treated as random variables with probability distributions. The focus is on updating beliefs about the parameter using data.\n",
    "   - **Frequentist**: Parameters are treated as fixed (unknown) quantities. The focus is on repeated sampling and long-run frequencies.\n",
    "\n",
    "2. **Interpretation of Probability**:\n",
    "   - **Bayesian**: Probability is the degree of belief or certainty in a given event or parameter. For example, in Bayesian inference, we can make probability statements about the parameter itself (e.g., there is a 95% probability that \\( \\theta \\) lies between 0.4 and 0.6).\n",
    "   - **Frequentist**: Probability is the long-run frequency of an event. In frequentist statistics, you cannot make probability statements about the parameter itself. Instead, frequentist inference makes statements about the data.\n",
    "\n",
    "3. **Prior Knowledge**:\n",
    "   - **Bayesian**: Prior information or beliefs can be incorporated through the use of priors. This allows for more flexible modeling, especially when there is domain knowledge available.\n",
    "   - **Frequentist**: Prior information is not incorporated. All inferences are made solely based on the observed data.\n",
    "\n",
    "4. **Posterior Distribution vs. Point Estimates**:\n",
    "   - **Bayesian**: Bayesian inference provides a full posterior distribution for the parameter of interest, giving a range of possible values along with their probabilities.\n",
    "   - **Frequentist**: Frequentist methods typically provide point estimates (e.g., maximum likelihood estimates) and confidence intervals, which rely on long-term behavior across repeated samples.\n",
    "\n",
    "#### **Example: Comparing Bayesian and Frequentist Parameter Estimation**\n",
    "\n",
    "Let's illustrate the difference in approach with a simple coin-flip example. We will estimate the probability of heads \\( \\theta \\) using both Bayesian and frequentist methods.\n",
    "\n",
    "##### **Frequentist Approach**:\n",
    "In the frequentist approach, we will estimate the probability of heads using the maximum likelihood estimator (MLE), which is simply the proportion of heads observed in the data.\n",
    "\n"
   ]
  },
  {
   "cell_type": "code",
   "execution_count": 7,
   "id": "5cddde6c-f45a-4bc3-9228-fdc3c548a978",
   "metadata": {},
   "outputs": [
    {
     "name": "stdout",
     "output_type": "stream",
     "text": [
      "Frequentist MLE estimate of theta: 0.800\n"
     ]
    }
   ],
   "source": [
    "# Data: number of heads and tails observed\n",
    "heads = 8\n",
    "tails = 2\n",
    "total_flips = heads + tails\n",
    "\n",
    "# Maximum Likelihood Estimator (MLE)\n",
    "mle_estimate = heads / total_flips\n",
    "print(f\"Frequentist MLE estimate of theta: {mle_estimate:.3f}\")\n"
   ]
  },
  {
   "cell_type": "markdown",
   "id": "4da83e74-7c56-474d-b988-affab677f1d2",
   "metadata": {},
   "source": [
    "**Explanation**:\n",
    "   - The MLE for \\( \\theta \\) is the proportion of heads observed in the data.\n",
    "   - In the frequentist approach, this is our best estimate of \\( \\theta \\), but we do not have a distribution of likely values for \\( \\theta \\); we only have a point estimate.\n",
    "\n",
    "##### **Bayesian Approach**:\n",
    "In the Bayesian approach, we will start with a prior belief about \\( \\theta \\) and update it using the observed data to obtain a posterior distribution.\n",
    "\n"
   ]
  },
  {
   "cell_type": "code",
   "execution_count": 8,
   "id": "ab22cbda-8dfd-4aa5-b404-0f26d0960625",
   "metadata": {},
   "outputs": [
    {
     "data": {
      "image/png": "[encoded data removed]",
      "text/plain": [
       "<Figure size 432x288 with 1 Axes>"
      ]
     },
     "metadata": {
      "needs_background": "light"
     },
     "output_type": "display_data"
    },
    {
     "name": "stdout",
     "output_type": "stream",
     "text": [
      "Bayesian estimate of theta (posterior mean): 0.714\n"
     ]
    }
   ],
   "source": [
    "from scipy.stats import beta\n",
    "import numpy as np\n",
    "\n",
    "# Prior: Beta(2, 2)\n",
    "alpha_prior = 2\n",
    "beta_prior = 2\n",
    "\n",
    "# Data\n",
    "heads = 8\n",
    "tails = 2\n",
    "\n",
    "# Posterior parameters\n",
    "alpha_post = alpha_prior + heads\n",
    "beta_post = beta_prior + tails\n",
    "\n",
    "# Generate the posterior distribution\n",
    "x = np.linspace(0, 1, 100)\n",
    "posterior = beta.pdf(x, alpha_post, beta_post)\n",
    "\n",
    "# Plot the posterior distribution\n",
    "import matplotlib.pyplot as plt\n",
    "plt.plot(x, posterior, label=f\"Posterior (alpha={alpha_post}, beta={beta_post})\")\n",
    "plt.fill_between(x, posterior, alpha=0.3)\n",
    "plt.title(\"Bayesian Posterior Distribution\")\n",
    "plt.xlabel(\"Probability of heads (theta)\")\n",
    "plt.ylabel(\"Density\")\n",
    "plt.legend()\n",
    "plt.show()\n",
    "\n",
    "# Bayesian estimate (posterior mean)\n",
    "bayesian_estimate = alpha_post / (alpha_post + beta_post)\n",
    "print(f\"Bayesian estimate of theta (posterior mean): {bayesian_estimate:.3f}\")\n"
   ]
  },
  {
   "cell_type": "markdown",
   "id": "9ff35df6-420f-4e77-9d57-9895b37d20a6",
   "metadata": {},
   "source": [
    "**Explanation**:\n",
    "   - The Bayesian approach provides a full posterior distribution for \\( \\theta \\), incorporating both the prior belief and the observed data.\n",
    "   - The posterior mean is the Bayesian point estimate of \\( \\theta \\). In this case, the prior belief about \\( \\theta \\) influences the estimate, but the data dominates as more observations are added.\n",
    "   - The posterior distribution gives us a range of plausible values for \\( \\theta \\), unlike the single point estimate in the frequentist approach.\n",
    "\n",
    "---\n",
    "\n",
    "#### **Interpretation of Uncertainty**\n",
    "   - **Bayesian**: The Bayesian posterior distribution reflects the uncertainty about \\( \\theta \\), incorporating both the prior and the data. You can calculate credible intervals to express uncertainty.\n",
    "   - **Frequentist**: The frequentist confidence interval is based on the idea of repeated sampling. A 95% confidence interval means that, if we repeated the experiment many times, 95% of the intervals would contain the true parameter. However, this does not imply that there is a 95% chance that the true parameter lies within any specific interval.\n",
    "\n"
   ]
  },
  {
   "cell_type": "markdown",
   "id": "4719d68a-d09d-4f64-84a6-425e9fef7a23",
   "metadata": {},
   "source": [
    "### 4. Bayesian Inference in Practice\n",
    "\n",
    "#### **Markov Chain Monte Carlo (MCMC) Methods**\n",
    "\n",
    "- **MCMC** is a class of algorithms used to sample from complex posterior distributions, especially when the posterior cannot be calculated analytically.\n",
    "- The key idea is to construct a Markov chain that has the desired posterior distribution as its equilibrium distribution, and then to sample from this chain to approximate the posterior.\n",
    "\n",
    "- **Popular MCMC Algorithms**:\n",
    "  - **Metropolis-Hastings**: Proposes a new value for the parameter and accepts or rejects it based on the likelihood ratio.\n",
    "  - **Gibbs Sampling**: Sequentially samples from the conditional distribution of each parameter, given the current values of the other parameters.\n",
    "  - **Hamiltonian Monte Carlo (HMC)**: Uses gradients of the likelihood to make more informed proposals, improving efficiency.\n",
    "\n",
    "#### **Posterior Predictive Distribution**\n",
    "- Once we have a posterior distribution over a parameter, we can use it to make predictions about future or unseen data. This is known as the **posterior predictive distribution**.\n",
    "- The posterior predictive distribution is obtained by integrating over all possible values of the parameter, weighted by their posterior probabilities.\n",
    "\n",
    "#### **Bayesian Model Comparison and Bayes Factor**\n",
    "\n",
    "- **Bayes Factor**: A Bayesian alternative to hypothesis testing that compares two models by calculating the ratio of their marginal likelihoods:\n",
    "  \\[\n",
    "  \\text{BF}_{10} = \\frac{P(\\text{data}|\\text{H}_1)}{P(\\text{data}|\\text{H}_0)}\n",
    "  \\]\n",
    "  - **BF > 1**: Supports the alternative hypothesis.\n",
    "  - **BF < 1**: Supports the null hypothesis.\n",
    "\n",
    "#### **Example: Bayesian Inference with MCMC**\n",
    "\n",
    "We will perform a simple Bayesian inference using the `PyMC3` library, which is a popular package for Bayesian modeling. We will estimate the probability \\( \\theta \\) of heads in a coin flip using MCMC.\n",
    "\n"
   ]
  },
  {
   "cell_type": "code",
   "execution_count": 9,
   "id": "3c740fed-b876-4fee-86ce-d68bf4afecd9",
   "metadata": {},
   "outputs": [
    {
     "ename": "ModuleNotFoundError",
     "evalue": "No module named 'pymc3'",
     "output_type": "error",
     "traceback": [
      "\u001b[1;31m---------------------------------------------------------------------------\u001b[0m",
      "\u001b[1;31mModuleNotFoundError\u001b[0m                       Traceback (most recent call last)",
      "\u001b[1;32m<ipython-input-9-9387320e901f>\u001b[0m in \u001b[0;36m<module>\u001b[1;34m\u001b[0m\n\u001b[1;32m----> 1\u001b[1;33m \u001b[1;32mimport\u001b[0m \u001b[0mpymc3\u001b[0m \u001b[1;32mas\u001b[0m \u001b[0mpm\u001b[0m\u001b[1;33m\u001b[0m\u001b[1;33m\u001b[0m\u001b[0m\n\u001b[0m\u001b[0;32m      2\u001b[0m \u001b[1;32mimport\u001b[0m \u001b[0mnumpy\u001b[0m \u001b[1;32mas\u001b[0m \u001b[0mnp\u001b[0m\u001b[1;33m\u001b[0m\u001b[1;33m\u001b[0m\u001b[0m\n\u001b[0;32m      3\u001b[0m \u001b[1;32mimport\u001b[0m \u001b[0mmatplotlib\u001b[0m\u001b[1;33m.\u001b[0m\u001b[0mpyplot\u001b[0m \u001b[1;32mas\u001b[0m \u001b[0mplt\u001b[0m\u001b[1;33m\u001b[0m\u001b[1;33m\u001b[0m\u001b[0m\n\u001b[0;32m      4\u001b[0m \u001b[1;33m\u001b[0m\u001b[0m\n\u001b[0;32m      5\u001b[0m \u001b[1;31m# Data: observed heads and tails\u001b[0m\u001b[1;33m\u001b[0m\u001b[1;33m\u001b[0m\u001b[1;33m\u001b[0m\u001b[0m\n",
      "\u001b[1;31mModuleNotFoundError\u001b[0m: No module named 'pymc3'"
     ]
    }
   ],
   "source": [
    "import pymc3 as pm\n",
    "import numpy as np\n",
    "import matplotlib.pyplot as plt\n",
    "\n",
    "# Data: observed heads and tails\n",
    "heads = 8\n",
    "tails = 2\n",
    "\n",
    "# Bayesian model using PyMC3\n",
    "with pm.Model() as model:\n",
    "    # Prior: Beta(2, 2)\n",
    "    theta = pm.Beta(\"theta\", alpha=2, beta=2)\n",
    "    \n",
    "    # Likelihood: Binomial distribution\n",
    "    y_obs = pm.Binomial(\"y_obs\", n=heads + tails, p=theta, observed=heads)\n",
    "    \n",
    "    # Posterior sampling using MCMC (Metropolis-Hastings)\n",
    "    trace = pm.sample(2000, step=pm.Metropolis(), return_inferencedata=False)\n",
    "\n",
    "# Plot posterior distribution\n",
    "pm.plot_posterior(trace)\n",
    "plt.show()\n",
    "\n",
    "# Summary of the posterior distribution\n",
    "pm.summary(trace)\n"
   ]
  },
  {
   "cell_type": "markdown",
   "id": "5efcfd52-6f36-4939-a334-f9477b1ec17c",
   "metadata": {},
   "source": [
    "**Explanation**:\n",
    "  - **Model specification**: We define a prior for \\( \\theta \\) using a Beta distribution and a likelihood for the observed number of heads using a Binomial distribution.\n",
    "  - **MCMC sampling**: We use Metropolis-Hastings to draw samples from the posterior distribution of \\( \\theta \\).\n",
    "  - The posterior distribution plot shows the range of plausible values for \\( \\theta \\), and the summary provides statistics like the mean and credible intervals.\n",
    "\n",
    "#### **Posterior Predictive Distribution**\n",
    "\n",
    "Once we have the posterior samples for \\( \\theta \\), we can use them to make predictions about future coin flips. This is known as the posterior predictive distribution.\n",
    "\n"
   ]
  },
  {
   "cell_type": "code",
   "execution_count": 10,
   "id": "43969752-5856-4488-a552-90bbb840cca3",
   "metadata": {},
   "outputs": [
    {
     "ename": "NameError",
     "evalue": "name 'model' is not defined",
     "output_type": "error",
     "traceback": [
      "\u001b[1;31m---------------------------------------------------------------------------\u001b[0m",
      "\u001b[1;31mNameError\u001b[0m                                 Traceback (most recent call last)",
      "\u001b[1;32m<ipython-input-10-e52c9da71a8b>\u001b[0m in \u001b[0;36m<module>\u001b[1;34m\u001b[0m\n\u001b[0;32m      1\u001b[0m \u001b[1;31m# Generate posterior predictive distribution\u001b[0m\u001b[1;33m\u001b[0m\u001b[1;33m\u001b[0m\u001b[1;33m\u001b[0m\u001b[0m\n\u001b[1;32m----> 2\u001b[1;33m \u001b[1;32mwith\u001b[0m \u001b[0mmodel\u001b[0m\u001b[1;33m:\u001b[0m\u001b[1;33m\u001b[0m\u001b[1;33m\u001b[0m\u001b[0m\n\u001b[0m\u001b[0;32m      3\u001b[0m     \u001b[0mppc\u001b[0m \u001b[1;33m=\u001b[0m \u001b[0mpm\u001b[0m\u001b[1;33m.\u001b[0m\u001b[0msample_posterior_predictive\u001b[0m\u001b[1;33m(\u001b[0m\u001b[0mtrace\u001b[0m\u001b[1;33m,\u001b[0m \u001b[0msamples\u001b[0m\u001b[1;33m=\u001b[0m\u001b[1;36m1000\u001b[0m\u001b[1;33m)\u001b[0m\u001b[1;33m\u001b[0m\u001b[1;33m\u001b[0m\u001b[0m\n\u001b[0;32m      4\u001b[0m \u001b[1;33m\u001b[0m\u001b[0m\n\u001b[0;32m      5\u001b[0m \u001b[1;31m# Plot posterior predictive distribution\u001b[0m\u001b[1;33m\u001b[0m\u001b[1;33m\u001b[0m\u001b[1;33m\u001b[0m\u001b[0m\n",
      "\u001b[1;31mNameError\u001b[0m: name 'model' is not defined"
     ]
    }
   ],
   "source": [
    "# Generate posterior predictive distribution\n",
    "with model:\n",
    "    ppc = pm.sample_posterior_predictive(trace, samples=1000)\n",
    "\n",
    "# Plot posterior predictive distribution\n",
    "plt.hist(ppc[\"y_obs\"], bins=10, density=True)\n",
    "plt.title(\"Posterior Predictive Distribution\")\n",
    "plt.xlabel(\"Number of heads\")\n",
    "plt.ylabel(\"Density\")\n",
    "plt.show()\n"
   ]
  },
  {
   "cell_type": "markdown",
   "id": "d71df1a5-e38b-4f68-bd7f-f35e0a30c5cf",
   "metadata": {},
   "source": [
    "**Explanation**:\n",
    "  - We use the posterior samples of \\( \\theta \\) to simulate future coin flips and create the posterior predictive distribution.\n",
    "  - The histogram shows the expected distribution of heads based on our posterior belief about \\( \\theta \\).\n",
    "\n"
   ]
  },
  {
   "cell_type": "markdown",
   "id": "308a6a65-cab2-47da-b3bd-3859db268770",
   "metadata": {},
   "source": [
    "### 5. Bayesian Inference with Python\n",
    "\n",
    "#### **Basic Example of Bayesian Inference: Coin Flip with Beta-Binomial Model**\n",
    "\n",
    "Let's revisit the coin flip problem and perform Bayesian inference using a Beta prior and a Binomial likelihood.\n",
    "\n",
    "##### **Bayesian Model**\n",
    "- We assume a **Beta prior** on \\( \\theta \\), the probability of getting heads in a coin flip.\n",
    "- After observing data (number of heads and tails), we update our prior to obtain the **posterior distribution**.\n",
    "\n",
    "#### **Python Implementation (Using `scipy` and `matplotlib`)**\n",
    "\n",
    "We will use the **Beta-Binomial model** for Bayesian inference, updating the prior based on the data observed from flipping a coin.\n",
    "\n"
   ]
  },
  {
   "cell_type": "code",
   "execution_count": 11,
   "id": "980106c0-4c7b-413c-9d74-5542e1a8a756",
   "metadata": {},
   "outputs": [
    {
     "data": {
      "image/png": "[encoded data removed]",
      "text/plain": [
       "<Figure size 432x288 with 1 Axes>"
      ]
     },
     "metadata": {
      "needs_background": "light"
     },
     "output_type": "display_data"
    }
   ],
   "source": [
    "import numpy as np\n",
    "import matplotlib.pyplot as plt\n",
    "from scipy.stats import beta\n",
    "\n",
    "# Prior parameters (Beta distribution)\n",
    "alpha_prior = 2\n",
    "beta_prior = 2\n",
    "\n",
    "# Data: observed heads and tails\n",
    "heads = 8\n",
    "tails = 2\n",
    "\n",
    "# Posterior parameters\n",
    "alpha_post = alpha_prior + heads\n",
    "beta_post = beta_prior + tails\n",
    "\n",
    "# Generate posterior distribution\n",
    "x = np.linspace(0, 1, 100)\n",
    "posterior = beta.pdf(x, alpha_post, beta_post)\n",
    "\n",
    "# Plot prior and posterior distributions\n",
    "plt.plot(x, beta.pdf(x, alpha_prior, beta_prior), label='Prior (Beta(2,2))', linestyle='--')\n",
    "plt.plot(x, posterior, label=f\"Posterior (Beta({alpha_post},{beta_post}))\", color='blue')\n",
    "plt.fill_between(x, posterior, alpha=0.3)\n",
    "plt.title(\"Posterior Distribution of Theta (Probability of Heads)\")\n",
    "plt.xlabel(\"Theta (Probability of heads)\")\n",
    "plt.ylabel(\"Density\")\n",
    "plt.legend()\n",
    "plt.show()\n"
   ]
  },
  {
   "cell_type": "markdown",
   "id": "777f0558-bd83-4089-9353-70a71e75de26",
   "metadata": {},
   "source": [
    "**Explanation**:\n",
    "  - **Prior**: We start with a **Beta(2, 2)** prior, which expresses our initial belief that the probability of heads is around 0.5.\n",
    "  - **Posterior**: After observing 8 heads and 2 tails, the posterior distribution is updated to **Beta(10, 4)**, reflecting our updated belief about the probability of heads.\n",
    "  - The plot shows both the prior and posterior distributions, highlighting how the data updates our belief about \\( \\theta \\).\n",
    "\n",
    "#### **Bayesian Linear Regression Example**\n",
    "\n",
    "Bayesian linear regression extends classical linear regression by placing priors on the regression coefficients and using the data to compute the posterior distribution of the coefficients.\n",
    "\n",
    "Let’s use `PyMC3` to perform Bayesian linear regression on a simple dataset.\n",
    "\n",
    "##### **Bayesian Linear Regression Model**\n",
    "- The model assumes a normal likelihood for the observed data and places Gaussian priors on the intercept and slope.\n",
    "- We use MCMC to sample from the posterior distribution of the parameters.\n",
    "\n"
   ]
  },
  {
   "cell_type": "code",
   "execution_count": 12,
   "id": "653e37a7-ddfc-46b3-a0ca-0422819ed219",
   "metadata": {},
   "outputs": [
    {
     "ename": "ModuleNotFoundError",
     "evalue": "No module named 'pymc3'",
     "output_type": "error",
     "traceback": [
      "\u001b[1;31m---------------------------------------------------------------------------\u001b[0m",
      "\u001b[1;31mModuleNotFoundError\u001b[0m                       Traceback (most recent call last)",
      "\u001b[1;32m<ipython-input-12-8aaeaeca7742>\u001b[0m in \u001b[0;36m<module>\u001b[1;34m\u001b[0m\n\u001b[1;32m----> 1\u001b[1;33m \u001b[1;32mimport\u001b[0m \u001b[0mpymc3\u001b[0m \u001b[1;32mas\u001b[0m \u001b[0mpm\u001b[0m\u001b[1;33m\u001b[0m\u001b[1;33m\u001b[0m\u001b[0m\n\u001b[0m\u001b[0;32m      2\u001b[0m \u001b[1;32mimport\u001b[0m \u001b[0mnumpy\u001b[0m \u001b[1;32mas\u001b[0m \u001b[0mnp\u001b[0m\u001b[1;33m\u001b[0m\u001b[1;33m\u001b[0m\u001b[0m\n\u001b[0;32m      3\u001b[0m \u001b[1;32mimport\u001b[0m \u001b[0mmatplotlib\u001b[0m\u001b[1;33m.\u001b[0m\u001b[0mpyplot\u001b[0m \u001b[1;32mas\u001b[0m \u001b[0mplt\u001b[0m\u001b[1;33m\u001b[0m\u001b[1;33m\u001b[0m\u001b[0m\n\u001b[0;32m      4\u001b[0m \u001b[1;33m\u001b[0m\u001b[0m\n\u001b[0;32m      5\u001b[0m \u001b[1;31m# Generate synthetic data for linear regression\u001b[0m\u001b[1;33m\u001b[0m\u001b[1;33m\u001b[0m\u001b[1;33m\u001b[0m\u001b[0m\n",
      "\u001b[1;31mModuleNotFoundError\u001b[0m: No module named 'pymc3'"
     ]
    }
   ],
   "source": [
    "import pymc3 as pm\n",
    "import numpy as np\n",
    "import matplotlib.pyplot as plt\n",
    "\n",
    "# Generate synthetic data for linear regression\n",
    "np.random.seed(42)\n",
    "x = np.linspace(0, 10, 100)\n",
    "y = 3 * x + np.random.normal(0, 1, 100)\n",
    "\n",
    "# Plot the data\n",
    "plt.scatter(x, y)\n",
    "plt.xlabel(\"x\")\n",
    "plt.ylabel(\"y\")\n",
    "plt.title(\"Synthetic Data for Bayesian Linear Regression\")\n",
    "plt.show()\n",
    "\n",
    "# Bayesian linear regression model with PyMC3\n",
    "with pm.Model() as linear_model:\n",
    "    # Priors for the intercept and slope (Gaussian)\n",
    "    intercept = pm.Normal(\"intercept\", mu=0, sigma=10)\n",
    "    slope = pm.Normal(\"slope\", mu=0, sigma=10)\n",
    "    \n",
    "    # Likelihood (Normal distribution)\n",
    "    sigma = pm.HalfNormal(\"sigma\", sigma=1)\n",
    "    y_obs = pm.Normal(\"y_obs\", mu=intercept + slope * x, sigma=sigma, observed=y)\n",
    "    \n",
    "    # Posterior sampling using MCMC\n",
    "    trace = pm.sample(2000, return_inferencedata=False)\n",
    "\n",
    "# Plot posterior distributions of intercept and slope\n",
    "pm.plot_posterior(trace)\n",
    "plt.show()\n",
    "\n",
    "# Summary of the posterior distribution\n",
    "pm.summary(trace)\n"
   ]
  },
  {
   "cell_type": "markdown",
   "id": "d718f496-b326-4c0b-aad8-4aeb27efd4ba",
   "metadata": {},
   "source": [
    "**Explanation**:\n",
    "  - We generate synthetic data for a linear relationship between \\( x \\) and \\( y \\) with some added noise.\n",
    "  - In the **Bayesian linear regression model**, we place Gaussian priors on the intercept and slope, and assume a normal likelihood for the observed data.\n",
    "  - MCMC is used to sample from the posterior distributions of the intercept and slope.\n",
    "  - The posterior distribution plot shows the range of plausible values for the intercept and slope based on the data, and the summary provides credible intervals and other statistics.\n",
    "\n",
    "#### **Bayesian Logistic Regression (Optional Advanced)**\n",
    "\n",
    "We can also extend Bayesian inference to classification problems using **Bayesian Logistic Regression**. In logistic regression, the outcome variable is binary, and we model the probability that an observation belongs to a certain class.\n",
    "\n",
    "This can be done by placing priors on the regression coefficients and using a Bernoulli likelihood.\n",
    "\n",
    "##### **Python Code (Bayesian Logistic Regression with PyMC3)**\n",
    "\n",
    "Here’s an example using PyMC3 for Bayesian logistic regression:\n",
    "\n"
   ]
  },
  {
   "cell_type": "code",
   "execution_count": 13,
   "id": "75102b97-dced-4315-8be7-dcb4f2d8d3b4",
   "metadata": {},
   "outputs": [
    {
     "ename": "NameError",
     "evalue": "name 'pm' is not defined",
     "output_type": "error",
     "traceback": [
      "\u001b[1;31m---------------------------------------------------------------------------\u001b[0m",
      "\u001b[1;31mNameError\u001b[0m                                 Traceback (most recent call last)",
      "\u001b[1;32m<ipython-input-13-e6d765074f83>\u001b[0m in \u001b[0;36m<module>\u001b[1;34m\u001b[0m\n\u001b[0;32m      4\u001b[0m \u001b[1;33m\u001b[0m\u001b[0m\n\u001b[0;32m      5\u001b[0m \u001b[1;31m# Bayesian logistic regression model\u001b[0m\u001b[1;33m\u001b[0m\u001b[1;33m\u001b[0m\u001b[1;33m\u001b[0m\u001b[0m\n\u001b[1;32m----> 6\u001b[1;33m \u001b[1;32mwith\u001b[0m \u001b[0mpm\u001b[0m\u001b[1;33m.\u001b[0m\u001b[0mModel\u001b[0m\u001b[1;33m(\u001b[0m\u001b[1;33m)\u001b[0m \u001b[1;32mas\u001b[0m \u001b[0mlogistic_model\u001b[0m\u001b[1;33m:\u001b[0m\u001b[1;33m\u001b[0m\u001b[1;33m\u001b[0m\u001b[0m\n\u001b[0m\u001b[0;32m      7\u001b[0m     \u001b[1;31m# Prior for the slope and intercept\u001b[0m\u001b[1;33m\u001b[0m\u001b[1;33m\u001b[0m\u001b[1;33m\u001b[0m\u001b[0m\n\u001b[0;32m      8\u001b[0m     \u001b[0mslope\u001b[0m \u001b[1;33m=\u001b[0m \u001b[0mpm\u001b[0m\u001b[1;33m.\u001b[0m\u001b[0mNormal\u001b[0m\u001b[1;33m(\u001b[0m\u001b[1;34m'slope'\u001b[0m\u001b[1;33m,\u001b[0m \u001b[0mmu\u001b[0m\u001b[1;33m=\u001b[0m\u001b[1;36m0\u001b[0m\u001b[1;33m,\u001b[0m \u001b[0msigma\u001b[0m\u001b[1;33m=\u001b[0m\u001b[1;36m10\u001b[0m\u001b[1;33m)\u001b[0m\u001b[1;33m\u001b[0m\u001b[1;33m\u001b[0m\u001b[0m\n",
      "\u001b[1;31mNameError\u001b[0m: name 'pm' is not defined"
     ]
    }
   ],
   "source": [
    "# Binary classification data (for logistic regression)\n",
    "x = np.linspace(-10, 10, 100)\n",
    "y = np.random.binomial(1, 1 / (1 + np.exp(-x)), size=100)\n",
    "\n",
    "# Bayesian logistic regression model\n",
    "with pm.Model() as logistic_model:\n",
    "    # Prior for the slope and intercept\n",
    "    slope = pm.Normal('slope', mu=0, sigma=10)\n",
    "    intercept = pm.Normal('intercept', mu=0, sigma=10)\n",
    "    \n",
    "    # Logistic function (link function)\n",
    "    p = pm.Deterministic('p', 1 / (1 + np.exp(-(intercept + slope * x))))\n",
    "    \n",
    "    # Likelihood (Bernoulli distribution)\n",
    "    y_obs = pm.Bernoulli('y_obs', p=p, observed=y)\n",
    "    \n",
    "    # Posterior sampling\n",
    "    trace = pm.sample(2000, return_inferencedata=False)\n",
    "\n",
    "# Plot posterior distributions of slope and intercept\n",
    "pm.plot_posterior(trace)\n",
    "plt.show()\n"
   ]
  },
  {
   "cell_type": "markdown",
   "id": "81e45993-4e8c-4aa9-9de0-011a66b3329f",
   "metadata": {},
   "source": [
    "**Explanation**:\n",
    "  - This is a **Bayesian logistic regression** model, where we place Gaussian priors on the slope and intercept.\n",
    "  - The outcome \\( y \\) is binary, so we use a **Bernoulli likelihood** to model the observed data.\n",
    "  - The logistic function (sigmoid) transforms the linear equation into a probability, which is used in the Bernoulli likelihood.\n",
    "  - MCMC samples from the posterior distribution of the slope and intercept, allowing us to estimate the relationship between \\( x \\) and the binary outcome \\( y \\).\n",
    "\n"
   ]
  },
  {
   "cell_type": "markdown",
   "id": "e9c30308-30be-4bd4-8376-850496c8c6dd",
   "metadata": {},
   "source": [
    "### 6. Advanced Topics in Bayesian Statistics\n",
    "\n",
    "#### **Hierarchical Bayesian Models**\n",
    "\n",
    "- **Hierarchical Bayesian models** are useful for data with multi-level or nested structures, where individual observations are grouped into higher-level categories (e.g., students nested within schools, repeated measurements on individuals).\n",
    "- Hierarchical models allow you to estimate both group-level (e.g., school-level) and individual-level (e.g., student-level) effects.\n",
    "- By using **partial pooling**, hierarchical models share information across groups, allowing for more robust estimates, especially in groups with small sample sizes.\n",
    "\n",
    "##### **Example: Hierarchical Bayesian Model (Student Test Scores)**\n",
    "\n",
    "Suppose we have test scores for students from different schools. We can model the individual test scores for each student while allowing the average test score to vary by school.\n",
    "\n"
   ]
  },
  {
   "cell_type": "code",
   "execution_count": 14,
   "id": "a1501805-ae12-4212-bace-e014153ffd3f",
   "metadata": {},
   "outputs": [
    {
     "ename": "ModuleNotFoundError",
     "evalue": "No module named 'pymc3'",
     "output_type": "error",
     "traceback": [
      "\u001b[1;31m---------------------------------------------------------------------------\u001b[0m",
      "\u001b[1;31mModuleNotFoundError\u001b[0m                       Traceback (most recent call last)",
      "\u001b[1;32m<ipython-input-14-dc17f00072ed>\u001b[0m in \u001b[0;36m<module>\u001b[1;34m\u001b[0m\n\u001b[1;32m----> 1\u001b[1;33m \u001b[1;32mimport\u001b[0m \u001b[0mpymc3\u001b[0m \u001b[1;32mas\u001b[0m \u001b[0mpm\u001b[0m\u001b[1;33m\u001b[0m\u001b[1;33m\u001b[0m\u001b[0m\n\u001b[0m\u001b[0;32m      2\u001b[0m \u001b[1;32mimport\u001b[0m \u001b[0mnumpy\u001b[0m \u001b[1;32mas\u001b[0m \u001b[0mnp\u001b[0m\u001b[1;33m\u001b[0m\u001b[1;33m\u001b[0m\u001b[0m\n\u001b[0;32m      3\u001b[0m \u001b[1;32mimport\u001b[0m \u001b[0mmatplotlib\u001b[0m\u001b[1;33m.\u001b[0m\u001b[0mpyplot\u001b[0m \u001b[1;32mas\u001b[0m \u001b[0mplt\u001b[0m\u001b[1;33m\u001b[0m\u001b[1;33m\u001b[0m\u001b[0m\n\u001b[0;32m      4\u001b[0m \u001b[1;33m\u001b[0m\u001b[0m\n\u001b[0;32m      5\u001b[0m \u001b[1;31m# Generate synthetic data: test scores for students from 5 schools\u001b[0m\u001b[1;33m\u001b[0m\u001b[1;33m\u001b[0m\u001b[1;33m\u001b[0m\u001b[0m\n",
      "\u001b[1;31mModuleNotFoundError\u001b[0m: No module named 'pymc3'"
     ]
    }
   ],
   "source": [
    "import pymc3 as pm\n",
    "import numpy as np\n",
    "import matplotlib.pyplot as plt\n",
    "\n",
    "# Generate synthetic data: test scores for students from 5 schools\n",
    "np.random.seed(42)\n",
    "n_students = 100\n",
    "n_schools = 5\n",
    "school = np.repeat(np.arange(n_schools), n_students // n_schools)\n",
    "true_school_means = np.random.normal(75, 5, size=n_schools)\n",
    "test_scores = np.random.normal(true_school_means[school], 10, size=n_students)\n",
    "\n",
    "# Plot test scores by school\n",
    "plt.scatter(school, test_scores)\n",
    "plt.xlabel(\"School\")\n",
    "plt.ylabel(\"Test Scores\")\n",
    "plt.title(\"Test Scores by School\")\n",
    "plt.show()\n",
    "\n",
    "# Hierarchical Bayesian model\n",
    "with pm.Model() as hierarchical_model:\n",
    "    # Hyperpriors for the group-level distribution (school means)\n",
    "    mu_school = pm.Normal(\"mu_school\", mu=75, sigma=10)\n",
    "    sigma_school = pm.HalfNormal(\"sigma_school\", sigma=10)\n",
    "\n",
    "    # Priors for each school's average score\n",
    "    school_means = pm.Normal(\"school_means\", mu=mu_school, sigma=sigma_school, shape=n_schools)\n",
    "\n",
    "    # Likelihood (Normal distribution for individual test scores)\n",
    "    sigma_student = pm.HalfNormal(\"sigma_student\", sigma=10)\n",
    "    test_scores_obs = pm.Normal(\"test_scores_obs\", mu=school_means[school], sigma=sigma_student, observed=test_scores)\n",
    "\n",
    "    # Posterior sampling using MCMC\n",
    "    trace = pm.sample(2000, return_inferencedata=False)\n",
    "\n",
    "# Plot posterior distributions of school means\n",
    "pm.plot_posterior(trace, var_names=[\"school_means\"])\n",
    "plt.show()\n"
   ]
  },
  {
   "cell_type": "markdown",
   "id": "88e046bc-d6c0-40bb-8646-1260fbaaf288",
   "metadata": {},
   "source": [
    "**Explanation**:\n",
    "  - We model the test scores for students, allowing for variability between schools by estimating a separate mean for each school.\n",
    "  - The **hyperpriors** are placed on the school-level parameters (mean and standard deviation across schools).\n",
    "  - The posterior distribution of the school means provides estimates for each school's average test score, incorporating both individual and group-level information.\n",
    "  \n",
    "#### **Approximate Bayesian Computation (ABC)**\n",
    "\n",
    "- **Approximate Bayesian Computation (ABC)** is used when the likelihood is difficult or impossible to compute but simulating data is feasible.\n",
    "- ABC approximates the posterior distribution by simulating data from a model with different parameter values and comparing the simulated data to the observed data. If the simulated data is close enough to the observed data, the corresponding parameter values are considered plausible.\n",
    "\n",
    "##### **ABC Workflow**:\n",
    "1. Sample a parameter value \\( \\theta \\) from the prior.\n",
    "2. Simulate data from the model using \\( \\theta \\).\n",
    "3. Compare the simulated data to the observed data using a distance metric.\n",
    "4. If the simulated data is \"close\" to the observed data, accept \\( \\theta \\); otherwise, reject it.\n",
    "\n",
    "##### **Python Example: ABC for a Simple Model**\n",
    "\n",
    "Let’s simulate a simple scenario where we can’t calculate the likelihood, but we can simulate data. We use ABC to approximate the posterior distribution of the parameter.\n",
    "\n"
   ]
  },
  {
   "cell_type": "code",
   "execution_count": 16,
   "id": "6cd2795b-f000-4c58-83d6-931c7bd20051",
   "metadata": {},
   "outputs": [
    {
     "name": "stderr",
     "output_type": "stream",
     "text": [
      "C:\\Users\\joeld\\anaconda3\\lib\\site-packages\\numpy\\lib\\histograms.py:905: RuntimeWarning: invalid value encountered in true_divide\n",
      "  return n/db/n.sum(), bin_edges\n"
     ]
    },
    {
     "data": {
      "image/png": "[encoded data removed]",
      "text/plain": [
       "<Figure size 432x288 with 1 Axes>"
      ]
     },
     "metadata": {
      "needs_background": "light"
     },
     "output_type": "display_data"
    }
   ],
   "source": [
    "import numpy as np\n",
    "\n",
    "# True parameter value\n",
    "true_theta = 0.7\n",
    "\n",
    "# Simulate observed data (e.g., coin flips with p = 0.7)\n",
    "np.random.seed(42)\n",
    "observed_data = np.random.binomial(1, true_theta, 100)\n",
    "\n",
    "# ABC to approximate posterior distribution for theta\n",
    "def simulate_data(theta, n=100):\n",
    "    \"\"\"Simulate binomial data based on theta.\"\"\"\n",
    "    return np.random.binomial(1, theta, size=n)\n",
    "\n",
    "def distance(simulated_data, observed_data):\n",
    "    \"\"\"Compute distance between simulated and observed data.\"\"\"\n",
    "    return np.sum(np.abs(simulated_data - observed_data))\n",
    "\n",
    "# Perform ABC\n",
    "posterior_samples = []\n",
    "n_iterations = 10000\n",
    "for _ in range(n_iterations):\n",
    "    # Sample a parameter from the prior (uniform prior)\n",
    "    theta = np.random.uniform(0, 1)\n",
    "    \n",
    "    # Simulate data using this parameter\n",
    "    simulated_data = simulate_data(theta)\n",
    "    \n",
    "    # Calculate the distance between simulated and observed data\n",
    "    dist = distance(simulated_data, observed_data)\n",
    "    \n",
    "    # If the simulated data is close enough to the observed data, accept the sample\n",
    "    if dist < 10:  # Tolerance level for closeness\n",
    "        posterior_samples.append(theta)\n",
    "\n",
    "# Plot the approximate posterior distribution\n",
    "import matplotlib.pyplot as plt\n",
    "plt.hist(posterior_samples, bins=30, density=True)\n",
    "plt.title(\"Approximate Posterior Distribution (ABC)\")\n",
    "plt.xlabel(\"Theta\")\n",
    "plt.ylabel(\"Density\")\n",
    "plt.show()\n"
   ]
  },
  {
   "cell_type": "markdown",
   "id": "fae99e74-c874-484f-a00c-2462265c1b76",
   "metadata": {},
   "source": [
    "**Explanation**:\n",
    "  - In this example, we approximate the posterior distribution of \\( \\theta \\) using ABC. We simulate data for different values of \\( \\theta \\) and accept the parameter values if the simulated data is sufficiently close to the observed data.\n",
    "  - The resulting histogram shows the approximate posterior distribution for \\( \\theta \\).\n",
    "\n",
    "#### **Bayesian Hypothesis Testing**\n",
    "\n",
    "- **Bayesian hypothesis testing** allows us to compare models using posterior probabilities or Bayes factors, rather than relying on p-values.\n",
    "- In Bayesian hypothesis testing, you can directly compare the plausibility of competing hypotheses (models) by computing the posterior probability of each hypothesis given the data.\n",
    "\n",
    "##### **Bayes Factor for Hypothesis Testing**\n",
    "- The **Bayes Factor (BF)** is the ratio of the marginal likelihoods of two models:\n",
    "  \\[\n",
    "  \\text{BF}_{10} = \\frac{P(\\text{data}|\\text{H}_1)}{P(\\text{data}|\\text{H}_0)}\n",
    "  \\]\n",
    "  - **BF > 1**: Evidence in favor of the alternative hypothesis.\n",
    "  - **BF < 1**: Evidence in favor of the null hypothesis.\n",
    "\n"
   ]
  },
  {
   "cell_type": "code",
   "execution_count": null,
   "id": "fed552b4-0f96-4bed-9a43-d3fc02d41a8c",
   "metadata": {},
   "outputs": [],
   "source": []
  }
 ],
 "metadata": {
  "kernelspec": {
   "display_name": "Python 3",
   "language": "python",
   "name": "python3"
  },
  "language_info": {
   "codemirror_mode": {
    "name": "ipython",
    "version": 3
   },
   "file_extension": ".py",
   "mimetype": "text/x-python",
   "name": "python",
   "nbconvert_exporter": "python",
   "pygments_lexer": "ipython3",
   "version": "3.8.8"
  }
 },
 "nbformat": 4,
 "nbformat_minor": 5
}
