{
 "cells": [
  {
   "cell_type": "code",
   "execution_count": 1,
   "id": "74964f0c-1e0b-4c7d-9ae5-64138fa81711",
   "metadata": {},
   "outputs": [],
   "source": [
    "t1 = (\"University\")"
   ]
  },
  {
   "cell_type": "code",
   "execution_count": 2,
   "id": "063b9906-d79a-46ec-b592-7fcd4fe31543",
   "metadata": {},
   "outputs": [
    {
     "name": "stdout",
     "output_type": "stream",
     "text": [
      "University\n"
     ]
    }
   ],
   "source": [
    "print(t1)"
   ]
  },
  {
   "cell_type": "code",
   "execution_count": 4,
   "id": "c0e9c44a-acc2-43fa-a603-9da17d067993",
   "metadata": {},
   "outputs": [
    {
     "name": "stdout",
     "output_type": "stream",
     "text": [
      "uni\n"
     ]
    }
   ],
   "source": [
    "print('uni')"
   ]
  },
  {
   "cell_type": "code",
   "execution_count": null,
   "id": "1a1bb891-300c-4969-8082-b1a0d5a09c93",
   "metadata": {},
   "outputs": [],
   "source": []
  }
 ],
 "metadata": {
  "kernelspec": {
   "display_name": "Python 3 (ipykernel)",
   "language": "python",
   "name": "python3"
  },
  "language_info": {
   "codemirror_mode": {
    "name": "ipython",
    "version": 3
   },
   "file_extension": ".py",
   "mimetype": "text/x-python",
   "name": "python",
   "nbconvert_exporter": "python",
   "pygments_lexer": "ipython3",
   "version": "3.11.9"
  }
 },
 "nbformat": 4,
 "nbformat_minor": 5
}
